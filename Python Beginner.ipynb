{
 "cells": [
  {
   "cell_type": "markdown",
   "id": "4db2e509",
   "metadata": {},
   "source": [
    "# Beginner Guide to Python"
   ]
  },
  {
   "cell_type": "code",
   "execution_count": 1,
   "id": "867ce530",
   "metadata": {},
   "outputs": [
    {
     "name": "stdout",
     "output_type": "stream",
     "text": [
      "Hello World\n"
     ]
    }
   ],
   "source": [
    "print(\"Hello World\")"
   ]
  },
  {
   "cell_type": "markdown",
   "id": "af63e3f1",
   "metadata": {},
   "source": [
    "**Understanding Variables:**\n",
    "-"
   ]
  },
  {
   "cell_type": "markdown",
   "id": "d6fda21b",
   "metadata": {},
   "source": [
    "- Variable is like a container that hold values of different types"
   ]
  },
  {
   "cell_type": "code",
   "execution_count": 2,
   "id": "4e014939",
   "metadata": {},
   "outputs": [
    {
     "name": "stdout",
     "output_type": "stream",
     "text": [
      "balloons\n"
     ]
    }
   ],
   "source": [
    "#variable of type string\n",
    "box = \"balloons\"\n",
    "print(box)"
   ]
  },
  {
   "cell_type": "code",
   "execution_count": 3,
   "id": "589fa382",
   "metadata": {},
   "outputs": [
    {
     "name": "stdout",
     "output_type": "stream",
     "text": [
      "Pencil\n"
     ]
    }
   ],
   "source": [
    "#we can reassign the value for the same variable\n",
    "box = \"Pencil\"\n",
    "print(box)"
   ]
  },
  {
   "cell_type": "markdown",
   "id": "17a54a63",
   "metadata": {},
   "source": [
    "- **Variable Allocation Rules:**"
   ]
  },
  {
   "cell_type": "markdown",
   "id": "3e374226",
   "metadata": {},
   "source": [
    "   - Declaration Styles:  \n",
    "        - CamalCase -> variable starts with small letter\n",
    "        - PascalCase -> starts with capital letter\n",
    "        - snake_case -> can use underscores for variables\n",
    "        - UPPERCASE  -> style used to declare Constants\n",
    "        - _super_secret -> style used to declare private variables\n",
    "        - Numbercase -> can use number and underscore together aswell\n",
    "    \n",
    "   - Not to do:\n",
    "        - start with number\n",
    "        - use of hyphen\n",
    "        - special characters\n",
    "        - dollar sign\n",
    "        - space in between\n",
    "        \n",
    "   - General convention is:\n",
    "        - decalring variable use snake_case\n",
    "        - declaring class use Pascal Case\n",
    "        - declaring constants use UPPERCASE"
   ]
  },
  {
   "cell_type": "markdown",
   "id": "80a4b4dd",
   "metadata": {},
   "source": [
    "- **Primitive type varibles:**  \n",
    "\n",
    "    This data type is already present in the python\n",
    "    \n"
   ]
  },
  {
   "cell_type": "markdown",
   "id": "c2837f98",
   "metadata": {},
   "source": [
    "    - Strings\n",
    "    - Integers\n",
    "    - Floats\n",
    "    - Boolean"
   ]
  },
  {
   "cell_type": "code",
   "execution_count": 4,
   "id": "25aa79b4",
   "metadata": {},
   "outputs": [
    {
     "name": "stdout",
     "output_type": "stream",
     "text": [
      "Justin\n",
      "45\n",
      "3.141\n",
      "True\n"
     ]
    }
   ],
   "source": [
    "#Creating primitive data types\n",
    "\n",
    "my_string = \"Justin\"\n",
    "my_int = 45\n",
    "my_float = 3.141\n",
    "my_bool = True\n",
    "\n",
    "print(my_string)\n",
    "print(my_int)\n",
    "print(my_float)\n",
    "print(my_bool)"
   ]
  },
  {
   "cell_type": "markdown",
   "id": "a15f908d",
   "metadata": {},
   "source": [
    "- **String Formatting:**"
   ]
  },
  {
   "cell_type": "markdown",
   "id": "75fb2fbe",
   "metadata": {},
   "source": []
  },
  {
   "cell_type": "code",
   "execution_count": 6,
   "id": "9395e230",
   "metadata": {},
   "outputs": [
    {
     "name": "stdout",
     "output_type": "stream",
     "text": [
      "hello Justin\n"
     ]
    }
   ],
   "source": [
    "name = \"Justin\"\n",
    "print(f\"hello {name}\")"
   ]
  },
  {
   "cell_type": "code",
   "execution_count": 7,
   "id": "0a764bb1",
   "metadata": {},
   "outputs": [
    {
     "name": "stdout",
     "output_type": "stream",
     "text": [
      "hello Justin\n"
     ]
    }
   ],
   "source": [
    "print(\"hello\",name)"
   ]
  },
  {
   "cell_type": "code",
   "execution_count": 8,
   "id": "402bb338",
   "metadata": {},
   "outputs": [
    {
     "name": "stdout",
     "output_type": "stream",
     "text": [
      "Justin is 25 years old\n"
     ]
    }
   ],
   "source": [
    "age = 25\n",
    "print(f\"{name} is {age} years old\")"
   ]
  },
  {
   "cell_type": "code",
   "execution_count": 9,
   "id": "9ded47d6",
   "metadata": {},
   "outputs": [
    {
     "name": "stdout",
     "output_type": "stream",
     "text": [
      "Justin has a dog named luffy\n"
     ]
    }
   ],
   "source": [
    "dog = \"luffy\"\n",
    "print(f\"{name} has a dog named {dog}\")"
   ]
  },
  {
   "cell_type": "code",
   "execution_count": 11,
   "id": "378c4a65",
   "metadata": {},
   "outputs": [
    {
     "name": "stdout",
     "output_type": "stream",
     "text": [
      "Justin has a cat named nami\n"
     ]
    }
   ],
   "source": [
    "cat = \"nami\"\n",
    "print(f\"{name} has a cat named {cat}\")"
   ]
  },
  {
   "cell_type": "markdown",
   "id": "b89efe17",
   "metadata": {},
   "source": [
    "To Allocate variable to only one type we can use **: {our_desired_type}**"
   ]
  },
  {
   "cell_type": "code",
   "execution_count": 13,
   "id": "4291744a",
   "metadata": {},
   "outputs": [
    {
     "name": "stdout",
     "output_type": "stream",
     "text": [
      "Justin like to drink 10\n"
     ]
    }
   ],
   "source": [
    "food: str = 10\n",
    "print(f\"{name} like to drink {food}\")"
   ]
  },
  {
   "cell_type": "markdown",
   "id": "a2a588f3",
   "metadata": {},
   "source": [
    "The above example is a bug because our variable is of type string and it holds a value integer. But any way this is going to execute because python is a dynamic programming language. Python doesn't enforce data type on run time.  \n",
    "So what can we do is type hinting."
   ]
  },
  {
   "cell_type": "markdown",
   "id": "637e07f3",
   "metadata": {},
   "source": [
    "**Problem:** Write a program for accepting ordrers for a pizza shop?"
   ]
  },
  {
   "cell_type": "code",
   "execution_count": 14,
   "id": "4389846e",
   "metadata": {
    "scrolled": true
   },
   "outputs": [
    {
     "name": "stdout",
     "output_type": "stream",
     "text": [
      "Recieved order from: Justin\n",
      "Oizza Base: Thin, Size: 12, Topping: fungi\n",
      "Is extra cheese required: True\n",
      "Total amount is 8.99\n"
     ]
    }
   ],
   "source": [
    "customer: str = \"Justin\"\n",
    "pizza_base: str = \"Thin\"\n",
    "pizza_size: int = \"12\"\n",
    "topping: str = \"fungi\"\n",
    "extra_cheese: bool = True\n",
    "price: float = 8.99\n",
    "    \n",
    "print(f\"Recieved order from: {customer}\")\n",
    "print(f\"Oizza Base: {pizza_base}, Size: {pizza_size}, Topping: {topping}\")\n",
    "print(f\"Is extra cheese required: {extra_cheese}\")\n",
    "print(f\"Total amount is {price}\")"
   ]
  },
  {
   "cell_type": "code",
   "execution_count": 16,
   "id": "3131043c",
   "metadata": {},
   "outputs": [
    {
     "name": "stdout",
     "output_type": "stream",
     "text": [
      "\n",
      "Recieved order from: Justin\n",
      "Oizza Base: Thin, Size: 12, Topping: fungi\n",
      "Is extra cheese required: True\n",
      "Total amount is 8.99\n",
      "\n"
     ]
    }
   ],
   "source": [
    "#triple quote use for commenting as well as formating multiple print lines\n",
    "order_details: str = f\"\"\"\n",
    "Recieved order from: {customer}\n",
    "Oizza Base: {pizza_base}, Size: {pizza_size}, Topping: {topping}\n",
    "Is extra cheese required: {extra_cheese}\n",
    "Total amount is {price}\n",
    "\"\"\"\n",
    "    \n",
    "print(order_details)"
   ]
  },
  {
   "cell_type": "markdown",
   "id": "25e33605",
   "metadata": {},
   "source": [
    "**Flow Control Statements:**\n",
    "-"
   ]
  },
  {
   "cell_type": "markdown",
   "id": "3de801be",
   "metadata": {},
   "source": [
    "**Problem2:** You want to drive a car and wants to know if you can have driving license or not."
   ]
  },
  {
   "cell_type": "code",
   "execution_count": 17,
   "id": "f4266b92",
   "metadata": {},
   "outputs": [
    {
     "name": "stdout",
     "output_type": "stream",
     "text": [
      "Justin is 15 years old and not eligible for license\n"
     ]
    }
   ],
   "source": [
    "age: int = 15\n",
    "\n",
    "if age < 18:\n",
    "    print(f\"{name} is {age} years old and not eligible for license\")\n",
    "else:\n",
    "    print(f\"{name} is eligible for driving license\")\n"
   ]
  },
  {
   "cell_type": "code",
   "execution_count": 18,
   "id": "7b6506c1",
   "metadata": {
    "scrolled": true
   },
   "outputs": [
    {
     "name": "stdout",
     "output_type": "stream",
     "text": [
      "Justin is eligible for driving license\n"
     ]
    }
   ],
   "source": [
    "age: int = 25\n",
    "\n",
    "if age < 18:\n",
    "    print(f\"{name} is {age} years old and not eligible for license\")\n",
    "else:\n",
    "    print(f\"{name} is eligible for driving license\")\n"
   ]
  },
  {
   "cell_type": "code",
   "execution_count": 19,
   "id": "a8393f3f",
   "metadata": {},
   "outputs": [
    {
     "name": "stdout",
     "output_type": "stream",
     "text": [
      "Justin is 100 years old and too old for driving license\n"
     ]
    }
   ],
   "source": [
    "age = 100\n",
    "\n",
    "if age < 18:\n",
    "    print(f\"{name} is {age} years old and not eligible for license\")\n",
    "elif age >80:\n",
    "    print(f\"{name} is {age} years old and too old for driving license\")\n",
    "else:\n",
    "    print(f\"{name} is eligible for driving license\")"
   ]
  },
  {
   "cell_type": "markdown",
   "id": "e03eae10",
   "metadata": {},
   "source": [
    "Suppose we have two different planets planet Krypton without age limit and Earth with age limit on licenses?"
   ]
  },
  {
   "cell_type": "code",
   "execution_count": 21,
   "id": "85d2bad6",
   "metadata": {},
   "outputs": [
    {
     "name": "stdout",
     "output_type": "stream",
     "text": [
      "Justin is eligible for driving license on Earth\n"
     ]
    }
   ],
   "source": [
    "planet: str = \"Earth\"\n",
    "\n",
    "if age >18 and planet == \"Earth\":\n",
    "    print(f\"{name} is eligible for driving license on {planet}\")\n",
    "elif age < 18 and planet == \"Earth\":\n",
    "    print(f\"{name} is not eligible for driving license on {planet}\")\n",
    "elif planet == \"Krypton\":\n",
    "    print(f\"{name} can apply for driving license without age limit\")"
   ]
  },
  {
   "cell_type": "code",
   "execution_count": 22,
   "id": "dfecf480",
   "metadata": {},
   "outputs": [
    {
     "name": "stdout",
     "output_type": "stream",
     "text": [
      "Justin can apply for driving license in Krypton without age limit\n"
     ]
    }
   ],
   "source": [
    "planet: str = \"Krypton\"\n",
    "\n",
    "if age >18 and planet == \"Earth\":\n",
    "    print(f\"{name} is eligible for driving license\")\n",
    "elif age < 18 and planet == \"Earth\":\n",
    "    print(f\"{name} is not eligible for driving license\")\n",
    "elif planet == \"Krypton\":\n",
    "    print(f\"{name} can apply for driving license in {planet} without age limit\")"
   ]
  },
  {
   "cell_type": "markdown",
   "id": "d286dfd6",
   "metadata": {},
   "source": [
    "**For loop:**  \n",
    "-"
   ]
  },
  {
   "cell_type": "markdown",
   "id": "e8876665",
   "metadata": {},
   "source": [
    "**Problem3:** Iterate over your name and print out the character?"
   ]
  },
  {
   "cell_type": "code",
   "execution_count": 23,
   "id": "2139552a",
   "metadata": {},
   "outputs": [
    {
     "name": "stdout",
     "output_type": "stream",
     "text": [
      "J\n",
      "u\n",
      "s\n",
      "t\n",
      "i\n",
      "n\n"
     ]
    }
   ],
   "source": [
    "name: str = \"Justin\"\n",
    "\n",
    "for char in name:\n",
    "    print(char)"
   ]
  },
  {
   "cell_type": "markdown",
   "id": "9993b59a",
   "metadata": {},
   "source": [
    "**Problem4:** Write a program to guess the planet Krypton correct?"
   ]
  },
  {
   "cell_type": "code",
   "execution_count": 30,
   "id": "7ead4b19",
   "metadata": {},
   "outputs": [
    {
     "name": "stdout",
     "output_type": "stream",
     "text": [
      "Justin says: Can you guess my Planet? >>> mars\n",
      "Wrong Choice!!!\n",
      "Justin says: Can you guess my Planet? >>> earth\n",
      "Wrong Choice!!!\n",
      "Justin says: Can you guess my Planet? >>> Kryptonm\n",
      "Wrong Choice!!!\n",
      "Justin says: Can you guess my Planet? >>> Krypton\n",
      "Right Guess!!!\n"
     ]
    }
   ],
   "source": [
    "guess: str = \"\"\n",
    "planet: str = \"Krypton\"\n",
    "correct_guess: bool = False\n",
    "\n",
    "while correct_guess is not True:\n",
    "\n",
    "    guess = input(\"Justin says: Can you guess my Planet? >>> \")\n",
    "    \n",
    "    if guess == planet:\n",
    "        print(\"Right Guess!!!\")\n",
    "        correct_guess = True\n",
    "    else:\n",
    "        print(\"Wrong Choice!!!\")\n",
    "    \n"
   ]
  },
  {
   "cell_type": "code",
   "execution_count": 31,
   "id": "d817fbd4",
   "metadata": {},
   "outputs": [
    {
     "name": "stdout",
     "output_type": "stream",
     "text": [
      "Justin says: Can you guess my Planet? >>> mars\n",
      "Wrong Choice!!!\n",
      "Justin says: Can you guess my Planet? >>> Krypton\n",
      "Right Guess!!!\n"
     ]
    }
   ],
   "source": [
    "guess: str = \"\"\n",
    "planet: str = \"Krypton\"\n",
    "correct_guess: bool = False\n",
    "\n",
    "while True:\n",
    "\n",
    "    guess = input(\"Justin says: Can you guess my Planet? >>> \")\n",
    "    \n",
    "    if guess == planet:\n",
    "        print(\"Right Guess!!!\")\n",
    "        break\n",
    "    else:\n",
    "        print(\"Wrong Choice!!!\")\n",
    "    \n"
   ]
  },
  {
   "cell_type": "markdown",
   "id": "e74b6f9a",
   "metadata": {},
   "source": [
    " "
   ]
  },
  {
   "cell_type": "markdown",
   "id": "becb35e2",
   "metadata": {},
   "source": [
    "**Exercise: Game**\n",
    "-\n",
    "\n",
    "Zortan is under attack!!! Thanos has arrived!\n",
    "---------------------------------------------\n",
    "Since Zortan is under attack, Louis calls his Avenger friends from earth.\n",
    "Avengers receive his call and sends 4 avengers to save Zortan.\n",
    "1. Ironman\n",
    "2. Black Widow\n",
    "3. Spiderman\n",
    "4. Hulk  \n",
    "\n",
    "\n",
    "Each avenger has its attacking power and they have to fight Thanos\n",
    "to save Zortan.\n",
    "Avengers can attack only in pairs and get only 3 chances to kill Thanos,\n",
    "or else Thanos will kill avengers and we loose the game.  \n",
    "\n"
   ]
  },
  {
   "cell_type": "code",
   "execution_count": 65,
   "id": "566cda47",
   "metadata": {},
   "outputs": [],
   "source": [
    "IRONMAN_POWER: int= 250 #The upper case indicates it is a constant\n",
    "BLACKWIDOW_POWER: int = 150\n",
    "SPIDERMAN_POWER: int = 200\n",
    "HULK_POWER: int = 300"
   ]
  },
  {
   "cell_type": "markdown",
   "id": "9f695082",
   "metadata": {},
   "source": [
    "**You cannot declare a variable or value as constant in Python.**"
   ]
  },
  {
   "cell_type": "code",
   "execution_count": 71,
   "id": "30b7509f",
   "metadata": {},
   "outputs": [
    {
     "name": "stdout",
     "output_type": "stream",
     "text": [
      "\n",
      "-----------------------------------------------------\n",
      "These are the choices that you have to attack THANOS\n",
      "\n",
      "1. HULK & IRONMAN\n",
      "2. BLACKWIDOW & HULK\n",
      "3. SPIDERMAN & IRONMAN\n",
      "4. BLACKWIDOW & SPIDERMAN\n",
      "\n",
      "-----------------------------------------------------\n",
      "\n",
      "Give your choice to attack Thanos: 1\n",
      "Hulk and Iron man are attacking thanos\n",
      "thanos_life is: 950\n",
      "Give your choice to attack Thanos: 1\n",
      "Hulk and Iron man are attacking thanos\n",
      "thanos_life is: 400\n",
      "Give your choice to attack Thanos: 1\n",
      "Hulk and Iron man are attacking thanos\n",
      "thanos_life is: -150\n",
      "Thanos is killed and Avengers saved Zortan!!!\n"
     ]
    }
   ],
   "source": [
    "thanos_life = 1500\n",
    "choice = 0\n",
    "#To simulate the game we have to utilise the two contraints\n",
    "#one is substracting the combined power of avenger from thanos life\n",
    "#second is the attack number which is less than or equal to 3\n",
    "attack_num = 0\n",
    "\n",
    "MESSAGE: str = \"\"\"\n",
    "-----------------------------------------------------\n",
    "These are the choices that you have to attack THANOS\n",
    "\n",
    "1. HULK & IRONMAN\n",
    "2. BLACKWIDOW & HULK\n",
    "3. SPIDERMAN & IRONMAN\n",
    "4. BLACKWIDOW & SPIDERMAN\n",
    "\n",
    "-----------------------------------------------------\n",
    "\"\"\"\n",
    "print(MESSAGE)\n",
    "\n",
    "WIN_MSG = \"Thanos is killed and Avengers saved Zortan!!!\"\n",
    "LOSE_MSG = \"Avengers lost the war!!!\"\n",
    "\n",
    "\n",
    "while True:\n",
    "    \n",
    "    if thanos_life<=0 and attack_num<=3:\n",
    "        print(WIN_MSG)\n",
    "        break\n",
    "    elif attack_num >3:\n",
    "        print(LOSE_MSG)\n",
    "        break\n",
    "    \n",
    "    choice = int(input(\"Give your choice to attack Thanos: \"))\n",
    "\n",
    "    if choice == 1:\n",
    "        print(\"Hulk and Iron man are attacking thanos\")\n",
    "        thanos_life = thanos_life - IRONMAN_POWER - HULK_POWER\n",
    "        print(f\"thanos_life is: {thanos_life}\")\n",
    "        attack_num = attack_num + 1\n",
    "        \n",
    "    elif choice == 2:\n",
    "        print(\"Hulk and Black widow are attacking thanos\")\n",
    "        thanos_life = thanos_life - HULK_POWER - BLACKWIDOW_POWER\n",
    "        print(f\"thanos_life is: {thanos_life}\")\n",
    "        attack_num = attack_num + 1\n",
    "\n",
    "    elif choice == 3:\n",
    "        print(\"SpiderMan and Iron man are attacking thanos\")\n",
    "        thanos_life = thanos_life - IRONMAN_POWER - SPIDERMAN_POWER\n",
    "        print(f\"thanos_life is: {thanos_life}\")\n",
    "        attack_num = attack_num + 1\n",
    "\n",
    "    elif choice == 4:\n",
    "        print(\"Blackwidow and Spider man are attacking thanos\")\n",
    "        thanos_life = thanos_life - BLACKWIDOW_POWER - SPIDERMAN_POWER\n",
    "        print(f\"thanos_life is: {thanos_life}\")\n",
    "        attack_num = attack_num + 1\n",
    "        \n",
    "    else:\n",
    "        print(\"No one is atacking Thanos\")"
   ]
  },
  {
   "cell_type": "markdown",
   "id": "ae08f313",
   "metadata": {},
   "source": [
    "**DataStructures:**  \n",
    "-"
   ]
  },
  {
   "cell_type": "markdown",
   "id": "6554440e",
   "metadata": {},
   "source": [
    "- It is a common name for how we group data together."
   ]
  },
  {
   "cell_type": "markdown",
   "id": "1dfed76c",
   "metadata": {},
   "source": [
    "1. **Lists:**\n",
    "    - Index starts with 0\n",
    "    - syntax is square brackets"
   ]
  },
  {
   "cell_type": "code",
   "execution_count": 2,
   "id": "7f2fec0b",
   "metadata": {},
   "outputs": [],
   "source": [
    "friends = [\"Nikhil\",\"Vivek\",\"Jerry\",\"Rama\"]"
   ]
  },
  {
   "cell_type": "code",
   "execution_count": 6,
   "id": "5728acde",
   "metadata": {},
   "outputs": [
    {
     "name": "stdout",
     "output_type": "stream",
     "text": [
      "Hello Nikhil\n",
      "Hello Vivek\n",
      "Hello Jerry\n",
      "Hello Rama\n",
      "friends list length is 4\n"
     ]
    }
   ],
   "source": [
    "for friend in friends:\n",
    "    print(f\"Hello {friend}\")\n",
    "    \n",
    "print(f\"friends list length is {len(friends)}\")"
   ]
  },
  {
   "cell_type": "code",
   "execution_count": 7,
   "id": "fbb65642",
   "metadata": {},
   "outputs": [
    {
     "name": "stdout",
     "output_type": "stream",
     "text": [
      "unfriended Rama\n"
     ]
    }
   ],
   "source": [
    "#to unfriend\n",
    "unfriend = friends.pop()\n",
    "print(f\"unfriended {unfriend}\")"
   ]
  },
  {
   "cell_type": "code",
   "execution_count": 9,
   "id": "e8473cb8",
   "metadata": {},
   "outputs": [
    {
     "name": "stdout",
     "output_type": "stream",
     "text": [
      "Friends: ['Nikhil', 'Vivek', 'Jerry', 'Vaishakh', 'Vaishakh']\n"
     ]
    },
    {
     "data": {
      "text/plain": [
       "list"
      ]
     },
     "execution_count": 9,
     "metadata": {},
     "output_type": "execute_result"
    }
   ],
   "source": [
    "#to add friends\n",
    "friends.append(\"Vaishakh\")\n",
    "print(f\"Friends: {friends}\")\n",
    "type(friends)"
   ]
  },
  {
   "cell_type": "code",
   "execution_count": 10,
   "id": "0277b3da",
   "metadata": {},
   "outputs": [
    {
     "name": "stdout",
     "output_type": "stream",
     "text": [
      "Jerry\n"
     ]
    }
   ],
   "source": [
    "print(friends[2])"
   ]
  },
  {
   "cell_type": "code",
   "execution_count": 11,
   "id": "c7c5c151",
   "metadata": {},
   "outputs": [],
   "source": [
    "friends.remove(friends[2])"
   ]
  },
  {
   "cell_type": "code",
   "execution_count": 12,
   "id": "4d00956b",
   "metadata": {},
   "outputs": [
    {
     "name": "stdout",
     "output_type": "stream",
     "text": [
      "Friends: ['Nikhil', 'Vivek', 'Vaishakh', 'Vaishakh']\n"
     ]
    }
   ],
   "source": [
    "print(f\"Friends: {friends}\")"
   ]
  },
  {
   "cell_type": "code",
   "execution_count": 13,
   "id": "d76d1a9a",
   "metadata": {},
   "outputs": [],
   "source": [
    "friends.insert(2, \"Jerry\")"
   ]
  },
  {
   "cell_type": "code",
   "execution_count": 14,
   "id": "d80a5f7d",
   "metadata": {},
   "outputs": [
    {
     "name": "stdout",
     "output_type": "stream",
     "text": [
      "Friends: ['Nikhil', 'Vivek', 'Jerry', 'Vaishakh', 'Vaishakh']\n"
     ]
    }
   ],
   "source": [
    "print(f\"Friends: {friends}\")"
   ]
  },
  {
   "cell_type": "code",
   "execution_count": 15,
   "id": "d0cdfc72",
   "metadata": {},
   "outputs": [],
   "source": [
    "friends.insert(0, \"Rama\")"
   ]
  },
  {
   "cell_type": "code",
   "execution_count": 16,
   "id": "bfd9be83",
   "metadata": {},
   "outputs": [
    {
     "name": "stdout",
     "output_type": "stream",
     "text": [
      "Friends: ['Rama', 'Nikhil', 'Vivek', 'Jerry', 'Vaishakh', 'Vaishakh']\n"
     ]
    }
   ],
   "source": [
    "print(f\"Friends: {friends}\")"
   ]
  },
  {
   "cell_type": "code",
   "execution_count": 18,
   "id": "5713c6be",
   "metadata": {},
   "outputs": [
    {
     "name": "stdout",
     "output_type": "stream",
     "text": [
      "Friends: ['Jerry', 'Nikhil', 'Rama', 'Vaishakh', 'Vaishakh', 'Vivek']\n"
     ]
    }
   ],
   "source": [
    "#to sort in alphabetic order\n",
    "friends.sort()\n",
    "print(f\"Friends: {friends}\")"
   ]
  },
  {
   "cell_type": "code",
   "execution_count": 19,
   "id": "c3aad703",
   "metadata": {},
   "outputs": [
    {
     "name": "stdout",
     "output_type": "stream",
     "text": [
      "Friends: ['Vivek', 'Vaishakh', 'Vaishakh', 'Rama', 'Nikhil', 'Jerry']\n"
     ]
    }
   ],
   "source": [
    "#to reverse the order\n",
    "friends.reverse()\n",
    "print(f\"Friends: {friends}\")"
   ]
  },
  {
   "cell_type": "code",
   "execution_count": 20,
   "id": "50eae2e8",
   "metadata": {},
   "outputs": [
    {
     "name": "stdout",
     "output_type": "stream",
     "text": [
      "Friends: ['Vivek', 'Vaishakh', 'Rama', 'Nikhil', 'Jerry']\n"
     ]
    }
   ],
   "source": [
    "unfriend = friends.pop(1)\n",
    "print(f\"Friends: {friends}\")"
   ]
  },
  {
   "cell_type": "markdown",
   "id": "15351ef0",
   "metadata": {},
   "source": [
    "**2. Tuples:**\n",
    "\n",
    "  - syntax is round brackets\n",
    "  - immutable, so cannot change the index\n",
    "  - we cannot append elements to a tuple but we can do is combine two tuple to a new one\n",
    "  - **We can use any immutable data type as key in dictionaries.**"
   ]
  },
  {
   "cell_type": "code",
   "execution_count": 31,
   "id": "308d5a6d",
   "metadata": {},
   "outputs": [
    {
     "name": "stdout",
     "output_type": "stream",
     "text": [
      "Subjects are : ('Physics', 'Maths', 'Computation')\n",
      "Number of Subjects : 3\n",
      "Justin is sign up for: Physics\n",
      "Justin is sign up for: Maths\n",
      "Justin is sign up for: Computation\n"
     ]
    }
   ],
   "source": [
    "subject = (\"Physics\", \"Maths\", \"Computation\")\n",
    "print(f\"Subjects are : {subject}\")\n",
    "print(f\"Number of Subjects : {len(subject)}\")\n",
    "\n",
    "for sub in subject:\n",
    "    print(f\"Justin is sign up for: {sub}\")"
   ]
  },
  {
   "cell_type": "code",
   "execution_count": 32,
   "id": "30539586",
   "metadata": {
    "scrolled": true
   },
   "outputs": [
    {
     "name": "stdout",
     "output_type": "stream",
     "text": [
      "('Physics', 'Maths', 'Computation', 'English', 'Computation', 'Social science')\n"
     ]
    }
   ],
   "source": [
    "subject_2 = (\"English\", \"Computation\", \"Social science\")\n",
    "all_subject = subject + subject_2\n",
    "\n",
    "print(all_subject)"
   ]
  },
  {
   "cell_type": "code",
   "execution_count": 33,
   "id": "f56dbf60",
   "metadata": {},
   "outputs": [
    {
     "name": "stdout",
     "output_type": "stream",
     "text": [
      "Yes! Justin loves programming\n"
     ]
    }
   ],
   "source": [
    "if \"Computation\" in all_subject:\n",
    "    print(f\"Yes! Justin loves programming\")\n",
    "else:\n",
    "    print(\"no love for programming\")"
   ]
  },
  {
   "cell_type": "markdown",
   "id": "060e6835",
   "metadata": {},
   "source": [
    "**3. Dictionaries:**  \n",
    "- Key-Value pairs\n",
    "- syntax is curly brackets"
   ]
  },
  {
   "cell_type": "code",
   "execution_count": 62,
   "id": "79ed2e1e",
   "metadata": {},
   "outputs": [],
   "source": [
    "marks = {\"Physics\": 28,\"Maths\":27,\"Computation\":30,\"Chemistry\":16}"
   ]
  },
  {
   "cell_type": "code",
   "execution_count": 63,
   "id": "1bd230e7",
   "metadata": {},
   "outputs": [
    {
     "name": "stdout",
     "output_type": "stream",
     "text": [
      "Subject is: Physics\n",
      "Subject is: Maths\n",
      "Subject is: Computation\n",
      "Subject is: Chemistry\n"
     ]
    }
   ],
   "source": [
    "for subject in marks.keys():\n",
    "    print(f\"Subject is: {subject}\")"
   ]
  },
  {
   "cell_type": "code",
   "execution_count": 64,
   "id": "6a665f58",
   "metadata": {},
   "outputs": [
    {
     "name": "stdout",
     "output_type": "stream",
     "text": [
      "Mark is: 28\n",
      "Mark is: 27\n",
      "Mark is: 30\n",
      "Mark is: 16\n"
     ]
    }
   ],
   "source": [
    "for mark in marks.values():\n",
    "    print(f\"Mark is: {mark}\")"
   ]
  },
  {
   "cell_type": "code",
   "execution_count": 65,
   "id": "a84f4953",
   "metadata": {},
   "outputs": [
    {
     "name": "stdout",
     "output_type": "stream",
     "text": [
      "Physics: 28/30\n",
      "Maths: 27/30\n",
      "Computation: 30/30\n",
      "Chemistry: 16/30\n"
     ]
    }
   ],
   "source": [
    "#key and value together\n",
    "for subject, score in marks.items():\n",
    "    print(f\"{subject}: {score}/30\")"
   ]
  },
  {
   "cell_type": "code",
   "execution_count": 69,
   "id": "6cf7f19c",
   "metadata": {},
   "outputs": [
    {
     "name": "stdout",
     "output_type": "stream",
     "text": [
      "Physics: Pass\n",
      "Maths: Pass\n",
      "Computation: Pass\n",
      "Chemistry: Pass\n"
     ]
    }
   ],
   "source": [
    "for subject, score in marks.items():\n",
    "    if score>=18:\n",
    "        print(f\"{subject}: Pass\")\n",
    "    else:\n",
    "        print(f\"{subject}: Fail\")"
   ]
  },
  {
   "cell_type": "code",
   "execution_count": 68,
   "id": "e49fe9b7",
   "metadata": {},
   "outputs": [],
   "source": [
    "marks[\"Chemistry\"] = 18\n",
    "#print(f\"Justin scored {marks[\"Chemistry\"]} in Chemistry\")"
   ]
  },
  {
   "cell_type": "code",
   "execution_count": 74,
   "id": "f9edf12d",
   "metadata": {},
   "outputs": [
    {
     "name": "stdout",
     "output_type": "stream",
     "text": [
      "Justin have 28 in Physics\n",
      "Justin have 28 in Physics\n",
      "Justin didnot study Social Science\n"
     ]
    }
   ],
   "source": [
    "#to retrive values\n",
    "# 1.Alternative one\n",
    "#--------------------\n",
    "\n",
    "physics_score = marks[\"Physics\"]\n",
    "print(f\"Justin have {physics_score} in Physics\")\n",
    "\n",
    "# 2. Alternative two - get() method **more preferred**\n",
    "#---------------------\n",
    "\n",
    "physics_score = marks.get(\"Physics\")\n",
    "print(f\"Justin have {physics_score} in Physics\")\n",
    "\n",
    "social_score = marks.get(\"Social\")\n",
    "if social_score is None:\n",
    "    print(\"Justin didnot study Social Science\")\n",
    "else:    \n",
    "    print(f\"Justin have {social_score} in Social\")\n",
    "\n"
   ]
  },
  {
   "cell_type": "code",
   "execution_count": 75,
   "id": "8a25bc76",
   "metadata": {},
   "outputs": [
    {
     "name": "stdout",
     "output_type": "stream",
     "text": [
      "{'Physics': 28, 'Maths': 27, 'Computation': 30}\n"
     ]
    }
   ],
   "source": [
    "#to delete an element from dictionary\n",
    "\n",
    "del marks[\"Chemistry\"]\n",
    "print(marks)"
   ]
  },
  {
   "cell_type": "markdown",
   "id": "0b054a5d",
   "metadata": {},
   "source": [
    "**4. Sets:**\n",
    "- In a Set all values are unique.\n",
    "- syntax is curly brackets or the name set()"
   ]
  },
  {
   "cell_type": "code",
   "execution_count": 76,
   "id": "c9b8c4d3",
   "metadata": {},
   "outputs": [
    {
     "name": "stdout",
     "output_type": "stream",
     "text": [
      "unique alphabets are: {'a', 'd', 'c', 'r', 'b'}\n"
     ]
    }
   ],
   "source": [
    "magic_word = \"abracadabraa\"\n",
    "unique_alphabets = set(magic_word)\n",
    "print(f\"unique alphabets are: {unique_alphabets}\")"
   ]
  },
  {
   "cell_type": "code",
   "execution_count": 77,
   "id": "ef672576",
   "metadata": {},
   "outputs": [
    {
     "name": "stdout",
     "output_type": "stream",
     "text": [
      "{'t', 'k', ' ', 'g', 'p', 'a', 'd', 'v', 'o', 'w', 'm', 'n', 'f', 'e', 'r', 'h', 'i'}\n"
     ]
    }
   ],
   "source": [
    "sentence = \"keep moving forward no matter what\"\n",
    "unique_alphabets = set(sentence)\n",
    "print(unique_alphabets)"
   ]
  },
  {
   "cell_type": "code",
   "execution_count": 84,
   "id": "e142fe7c",
   "metadata": {},
   "outputs": [
    {
     "name": "stdout",
     "output_type": "stream",
     "text": [
      "{'what', 'moving', 'no', 'matter', 'keep', 'forward'}\n",
      "<class 'set'>\n"
     ]
    }
   ],
   "source": [
    "#to see unique words\n",
    "#we use split() method\n",
    "\n",
    "unique_words = set(sentence.split())\n",
    "print(unique_words)\n",
    "print(type(unique_words))"
   ]
  },
  {
   "cell_type": "code",
   "execution_count": 85,
   "id": "4ddcf23f",
   "metadata": {},
   "outputs": [
    {
     "name": "stdout",
     "output_type": "stream",
     "text": [
      "{'what', 'moving', 'Hi', 'no', 'matter', 'keep', 'Justin!', 'forward'}\n"
     ]
    }
   ],
   "source": [
    "unique_words.update([\"Hi\",\"Justin!\"])\n",
    "print(unique_words)"
   ]
  },
  {
   "cell_type": "code",
   "execution_count": 86,
   "id": "521b9034",
   "metadata": {},
   "outputs": [
    {
     "name": "stdout",
     "output_type": "stream",
     "text": [
      "{'what', 'moving', 'Hi', 'no', 'matter', 'keep', 'forward'}\n"
     ]
    }
   ],
   "source": [
    "#to remove from set\n",
    "#we use remove() method\n",
    "\n",
    "unique_words.remove(\"Justin!\")\n",
    "print(unique_words)"
   ]
  },
  {
   "cell_type": "markdown",
   "id": "71d049ab",
   "metadata": {},
   "source": [
    " "
   ]
  },
  {
   "cell_type": "markdown",
   "id": "bdb03d58",
   "metadata": {},
   "source": [
    "**Exercise:Game**\n",
    "-\n",
    "\n",
    "Save Zortan:\n",
    "------------\n",
    "The war has just intensified, Thanos army has reach Zortan and are going to fight along with him. With his army, this time Thanos is going to attach Avengers and the battle is going to be intense!!!\n",
    "\n",
    "Since, everything is going in real-time, we don't have control over characters, instead our characters will choose their own fight.\n",
    "\n",
    "This time each character gets it own structure and defined parameters, so as you can see our code is getting better and certainly we are going to make is awesome as we progress with future modules."
   ]
  },
  {
   "cell_type": "code",
   "execution_count": 102,
   "id": "ffb85e98",
   "metadata": {},
   "outputs": [
    {
     "name": "stdout",
     "output_type": "stream",
     "text": [
      "Attack: 1 ==> Blackwidow is going to fight Proxima\n",
      "Attack: 2 ==> Spiderman is going to fight Proxima\n",
      "Attack: 3 ==> Hulk is going to fight Redskull\n",
      "--------------------------------------------------\n",
      "Defeated the villans\n"
     ]
    }
   ],
   "source": [
    "#to generate random\n",
    "from random import randint\n",
    "\n",
    "\n",
    "#superheros\n",
    "IRONMAN = {\"name\":\"Ironman\",\"attack_power\":250, \"life\":1000}\n",
    "BLACKWIDOW = {\"name\":\"Blackwidow\",\"attack_power\":150, \"life\":700}\n",
    "SPIDERMAN = {\"name\":\"Spiderman\",\"attack_power\":200, \"life\":800}\n",
    "HULK = {\"name\":\"Hulk\",\"attack_power\":300, \"life\":2000}\n",
    "#villans\n",
    "THANOS = {\"name\":\"Thanos\",\"attack_power\":1500, \"life\":1500}\n",
    "REDSKULL = {\"name\":\"Redskull\",\"attack_power\":1000, \"life\":800}\n",
    "PROXIMA = {\"name\":\"Proxima\",\"attack_power\":500, \"life\":500}\n",
    "\n",
    "#list of superheros\n",
    "superheros = [IRONMAN,BLACKWIDOW,SPIDERMAN,HULK]\n",
    "#list of villans\n",
    "villans = [THANOS,REDSKULL,PROXIMA]\n",
    "\n",
    "#life\n",
    "hero_life = 0\n",
    "villan_life = 0\n",
    "\n",
    "#WIN OR LOSE\n",
    "WIN_MSG = \"Defeated the villans\"\n",
    "LOSE_MSG = \"Lost to villans\"\n",
    "\n",
    "#attack\n",
    "for attack in range(3):\n",
    "    \n",
    "    hero_index = randint(0,3)\n",
    "    villan_index = randint(0,2)\n",
    "    \n",
    "    current_hero = superheros[hero_index]\n",
    "    current_villan = villans[villan_index]\n",
    "    \n",
    "    hero_life += current_hero['life']\n",
    "    villan_life += current_villan['life']\n",
    "    \n",
    "    \n",
    "    \n",
    "    #print(current_hero)\n",
    "    #print(current_villan)\n",
    "\n",
    "    print(f\"Attack: {attack + 1} ==> {current_hero['name']} is going to fight {current_villan['name']}\")\n",
    "    \n",
    "    hero_life -= current_villan['attack_power']\n",
    "    villan_life -= current_hero['attack_power']\n",
    "    \n",
    "print(\"-\"*50)\n",
    "    \n",
    "    #win or loose\n",
    "if hero_life >= villan_life:\n",
    "    print(WIN_MSG)\n",
    "else:\n",
    "    print(LOSE_MSG)\n",
    "    "
   ]
  },
  {
   "cell_type": "markdown",
   "id": "5aabbe22",
   "metadata": {},
   "source": [
    "\n"
   ]
  },
  {
   "cell_type": "markdown",
   "id": "41b21f7c",
   "metadata": {},
   "source": [
    "**5. ENUM:**"
   ]
  },
  {
   "cell_type": "markdown",
   "id": "7f0d3f77",
   "metadata": {},
   "source": [
    "- very good data structures for creating choices or varieties. "
   ]
  },
  {
   "cell_type": "code",
   "execution_count": null,
   "id": "a33460c4",
   "metadata": {},
   "outputs": [],
   "source": []
  },
  {
   "cell_type": "code",
   "execution_count": null,
   "id": "41969635",
   "metadata": {},
   "outputs": [],
   "source": []
  },
  {
   "cell_type": "code",
   "execution_count": null,
   "id": "8688907a",
   "metadata": {},
   "outputs": [],
   "source": []
  },
  {
   "cell_type": "markdown",
   "id": "64cbef2b",
   "metadata": {},
   "source": [
    "**Functions:**\n",
    "-"
   ]
  },
  {
   "cell_type": "markdown",
   "id": "9992a414",
   "metadata": {},
   "source": [
    "- all about data transformation.\n",
    "- take something, process it and give something."
   ]
  },
  {
   "cell_type": "code",
   "execution_count": 18,
   "id": "3452ea1c",
   "metadata": {},
   "outputs": [],
   "source": [
    "def greet(name):\n",
    "    print(f\"Hi {name}\")"
   ]
  },
  {
   "cell_type": "code",
   "execution_count": 8,
   "id": "8855517a",
   "metadata": {},
   "outputs": [],
   "source": [
    "def main():\n",
    "    friends = [\"Nikhil\",\"Vivek\",\"Jerry\",\"Vaishakh\"]\n",
    "    for friend in friends:\n",
    "        greet(friend)"
   ]
  },
  {
   "cell_type": "code",
   "execution_count": 9,
   "id": "c0b8883c",
   "metadata": {},
   "outputs": [],
   "source": [
    "main()"
   ]
  },
  {
   "cell_type": "code",
   "execution_count": 27,
   "id": "e28fd67e",
   "metadata": {},
   "outputs": [],
   "source": [
    "def greet(name):\n",
    "    return f\"Hi {name}\""
   ]
  },
  {
   "cell_type": "code",
   "execution_count": 28,
   "id": "0d8c72f0",
   "metadata": {},
   "outputs": [
    {
     "name": "stdout",
     "output_type": "stream",
     "text": [
      "Nikhil is here\n",
      "Vivek is not here\n",
      "Jerry is not here\n",
      "Vaishakh is not here\n"
     ]
    }
   ],
   "source": [
    "def main():\n",
    "    friends = [\"Nikhil\",\"Vivek\",\"Jerry\",\"Vaishakh\"]\n",
    "    for friend in friends:\n",
    "        \n",
    "        if \"Nikhil\" in greet(friend):\n",
    "            print(f\"{friend} is here\")\n",
    "        else:\n",
    "            print(f\"{friend} is not here\")\n",
    "        \n",
    "main()"
   ]
  },
  {
   "cell_type": "code",
   "execution_count": 30,
   "id": "698125d0",
   "metadata": {},
   "outputs": [
    {
     "name": "stdout",
     "output_type": "stream",
     "text": [
      "My weight on moon is 15.625 kg\n"
     ]
    }
   ],
   "source": [
    "def calcu_weight(weight):\n",
    "    return (weight + 50 )/8\n",
    "\n",
    "print(f\"My weight on moon is {calcu_weight(75):.3f} kg\")"
   ]
  },
  {
   "cell_type": "code",
   "execution_count": null,
   "id": "f7dfc790",
   "metadata": {},
   "outputs": [],
   "source": []
  },
  {
   "cell_type": "code",
   "execution_count": 32,
   "id": "ac337b42",
   "metadata": {},
   "outputs": [
    {
     "name": "stdout",
     "output_type": "stream",
     "text": [
      "Nikhil: 16.25 kg can only walk on Zortan\n",
      "Vivek: 13.125 kg can fly on Zortan\n",
      "Amit: 12.5 kg can fly on Zortan\n",
      "Rama: 13.75 kg can fly on Zortan\n"
     ]
    }
   ],
   "source": [
    "MAX_FLY_WEIGHT = 15 #kg\n",
    "\n",
    "def can_fly(weight):\n",
    "    \n",
    "    return weight <= MAX_FLY_WEIGHT\n",
    "        \n",
    "\n",
    "def flying_friends(friends):\n",
    "    \n",
    "    for name, earth_weight in friends.items():\n",
    "        zortan_weight = calcu_weight(earth_weight)\n",
    "        \n",
    "        if can_fly(zortan_weight):\n",
    "            print(f\"{name}: {zortan_weight} kg can fly on Zortan\")\n",
    "        else:\n",
    "            print(f\"{name}: {zortan_weight:.2f} kg can only walk on Zortan\")\n",
    "            \n",
    "def main():\n",
    "    friends = {\"Nikhil\":80, \"Vivek\":55, \"Amit\":50, \"Rama\":60}\n",
    "    flying_friends(friends)\n",
    "\n",
    "main()    "
   ]
  },
  {
   "cell_type": "markdown",
   "id": "862ff6e6",
   "metadata": {},
   "source": [
    "- **Arguments and keyword variable argument:**\n",
    "\n",
    "    - **Unpacking:**"
   ]
  },
  {
   "cell_type": "markdown",
   "id": "c986a904",
   "metadata": {},
   "source": [
    "1. Tuple:"
   ]
  },
  {
   "cell_type": "code",
   "execution_count": 33,
   "id": "8d7847d3",
   "metadata": {},
   "outputs": [
    {
     "name": "stdout",
     "output_type": "stream",
     "text": [
      "Justin\n",
      "P.Oommen\n"
     ]
    }
   ],
   "source": [
    "#tuple unpacking\n",
    "fname, lname = (\"Justin\", \"P.Oommen\")\n",
    "print(fname)\n",
    "print(lname)"
   ]
  },
  {
   "cell_type": "markdown",
   "id": "5645d5d1",
   "metadata": {},
   "source": [
    "2. List unpacking: "
   ]
  },
  {
   "cell_type": "code",
   "execution_count": 34,
   "id": "f91c52d5",
   "metadata": {},
   "outputs": [
    {
     "name": "stdout",
     "output_type": "stream",
     "text": [
      "Nikhil\n",
      "['Vivek', 'Jerry', 'Vaishakh']\n"
     ]
    }
   ],
   "source": [
    "first, *rest = [\"Nikhil\",\"Vivek\",\"Jerry\",\"Vaishakh\"]\n",
    "print(first)\n",
    "print(rest)"
   ]
  },
  {
   "cell_type": "markdown",
   "id": "62104909",
   "metadata": {},
   "source": [
    "3. Dictionary Unpacking:"
   ]
  },
  {
   "cell_type": "code",
   "execution_count": 36,
   "id": "ac8f5247",
   "metadata": {},
   "outputs": [
    {
     "name": "stdout",
     "output_type": "stream",
     "text": [
      "{'Justin': 75, 'Nikhil': 80, 'Vivek': 55, 'Amit': 50, 'Rama': 60}\n",
      "{'Nikhil': 80, 'Vivek': 55, 'Amit': 50, 'Rama': 60}\n"
     ]
    }
   ],
   "source": [
    "friends = {\"Nikhil\":80, \"Vivek\":55, \"Amit\":50, \"Rama\":60}\n",
    "new_frnd = {\"Justin\":75,**friends}\n",
    "print(new_frnd)\n",
    "print(friends)"
   ]
  },
  {
   "cell_type": "code",
   "execution_count": null,
   "id": "66163369",
   "metadata": {},
   "outputs": [],
   "source": []
  },
  {
   "cell_type": "markdown",
   "id": "385e3226",
   "metadata": {},
   "source": [
    "----------------**Variable Arguments**--------------------------\n",
    "\n",
    "- suppose we have a function and it has to accept unknown number of arguments, at that time we can use this functionality.\n",
    "- *args --> whenever we are getting variable arguments we use args\n",
    "- by default python is going to pack all of the variable arguments into a tuple.\n"
   ]
  },
  {
   "cell_type": "code",
   "execution_count": 38,
   "id": "1df33bd6",
   "metadata": {},
   "outputs": [
    {
     "name": "stdout",
     "output_type": "stream",
     "text": [
      "Justin\n",
      "Nikhil\n",
      "11\n"
     ]
    }
   ],
   "source": [
    "def unknown_friends(*args):\n",
    "    for friend in args:\n",
    "        print(friend)\n",
    "        \n",
    "unknown_friends(\"Justin\", \"Nikhil\",11)"
   ]
  },
  {
   "cell_type": "markdown",
   "id": "28892657",
   "metadata": {},
   "source": [
    "------------------------------**KeyWord Arguments**-----------------------------------"
   ]
  },
  {
   "cell_type": "markdown",
   "id": "262e758c",
   "metadata": {},
   "source": [
    "- denoted by 2 stars **\n",
    "- convention we always name the variable as **kwargs**\n",
    "- pack in the form of dictionary. so we can print key and values from the dictionary."
   ]
  },
  {
   "cell_type": "code",
   "execution_count": 41,
   "id": "4dab0e68",
   "metadata": {},
   "outputs": [
    {
     "name": "stdout",
     "output_type": "stream",
     "text": [
      "name: Justin\n",
      "height: 170\n",
      "weight: 75\n",
      "alone: True\n"
     ]
    }
   ],
   "source": [
    "from typing import Any\n",
    "def unknown_product(**kwargs: Any):\n",
    "    for k,v in kwargs.items():\n",
    "        print(f\"{k}: {v}\")\n",
    "        \n",
    "unknown_product(name = \"Justin\", height = 170, weight = 75, alone = True)"
   ]
  },
  {
   "cell_type": "markdown",
   "id": "d8b94a69",
   "metadata": {},
   "source": [
    "Lets see **how we add types to this one**.  \n",
    "We can use **Any** from typing library. This means the values can be anything."
   ]
  },
  {
   "cell_type": "markdown",
   "id": "17528fe0",
   "metadata": {},
   "source": [
    "--------------**args and kwargs together in a function**--------------------------"
   ]
  },
  {
   "cell_type": "code",
   "execution_count": 43,
   "id": "6cabd761",
   "metadata": {},
   "outputs": [
    {
     "name": "stdout",
     "output_type": "stream",
     "text": [
      "Sneakers\n",
      "('Black', 'Green')\n",
      "{'brand': 'adidas', 'size': 9, 'price': 1000, 'in_stock': False}\n"
     ]
    }
   ],
   "source": [
    "def invoice(product,*args,**kwargs):\n",
    "    print(product)\n",
    "    print(args)\n",
    "    print(kwargs)\n",
    "    \n",
    "    \n",
    "invoice(\"Sneakers\",\"Black\",\"Green\",brand = \"adidas\", size=9,price = 1000, in_stock = False )"
   ]
  },
  {
   "cell_type": "markdown",
   "id": "825a22a5",
   "metadata": {},
   "source": [
    "**Local and Global Variable Scopes:**\n",
    "-"
   ]
  },
  {
   "cell_type": "markdown",
   "id": "efa182d5",
   "metadata": {},
   "source": [
    "- to access global variable use **global** keyword together with variable name."
   ]
  },
  {
   "cell_type": "markdown",
   "id": "9b5fb249",
   "metadata": {},
   "source": [
    "**Exercise - Game:**\n",
    "-\n",
    "## Save Zortan:\n",
    "\n",
    "Let's convert the game logic into small functions.\n",
    "## Principles:\n",
    "\n",
    "1. DRY - Don't Repeat Yourself \n",
    "\n",
    "Try to keep your code as DRY as possible, group common functionality into individual functions.\n",
    "\n",
    "2. SRP - Single Responsibility Principle -\n",
    "\n",
    "Ideally one function should be responsible for only one operation."
   ]
  },
  {
   "cell_type": "code",
   "execution_count": 51,
   "id": "b5ab57d2",
   "metadata": {},
   "outputs": [
    {
     "name": "stdout",
     "output_type": "stream",
     "text": [
      "Attack:1 => Hulk is going to fight Proxima.\n",
      "Attack:2 => Blackwidow is going to fight Proxima.\n",
      "Attack:3 => Blackwidow is going to fight Redskull.\n",
      "===========================================================================\n",
      "Defeated the villans\n"
     ]
    }
   ],
   "source": [
    "from random import randint\n",
    "\n",
    "\n",
    "# ---------------life function-----------------------------\n",
    "\n",
    "#---hero\n",
    "hero_life = 0\n",
    "villian_life = 0\n",
    "def increment_hero_life(life):\n",
    "    global hero_life\n",
    "    hero_life += life\n",
    "def decriment_hero_life(life):\n",
    "    global hero_life\n",
    "    hero_life -= life\n",
    "\n",
    "#----villian\n",
    "def increment_villian_life(life):\n",
    "    global villian_life\n",
    "    villian_life += life\n",
    "def decriment_villian_life(life):\n",
    "    global villian_life\n",
    "    villian_life -= life\n",
    "\n",
    "#----------------------------------------------------------------    \n",
    "\n",
    "\n",
    "def get_all_superheros():\n",
    "    IRONMAN = {\"name\":\"Ironman\",\"attack_power\":250, \"life\":1000}\n",
    "    BLACKWIDOW = {\"name\":\"Blackwidow\",\"attack_power\":150, \"life\":700}\n",
    "    SPIDERMAN = {\"name\":\"Spiderman\",\"attack_power\":200, \"life\":800}\n",
    "    HULK = {\"name\":\"Hulk\",\"attack_power\":300, \"life\":2000}\n",
    "    \n",
    "    superheros = [IRONMAN,BLACKWIDOW,SPIDERMAN,HULK]\n",
    "    return superheros\n",
    "\n",
    "#return a single super hero\n",
    "def get_superhero(index):\n",
    "    superheros = get_all_superheros()\n",
    "    if index < len(superheros):\n",
    "        return superheros[index]\n",
    "    else:\n",
    "        return None\n",
    "    \n",
    "    \n",
    "def get_all_villians():\n",
    "    THANOS = {\"name\":\"Thanos\",\"attack_power\":1500, \"life\":1500}\n",
    "    REDSKULL = {\"name\":\"Redskull\",\"attack_power\":1000, \"life\":800}\n",
    "    PROXIMA = {\"name\":\"Proxima\",\"attack_power\":500, \"life\":500}\n",
    "\n",
    "    #list of villans\n",
    "    villans = [THANOS,REDSKULL,PROXIMA]\n",
    "    return villans\n",
    "\n",
    "\n",
    "#return single villian\n",
    "def get_villian(index):\n",
    "    villians = get_all_villians()\n",
    "    if index < len(villians):\n",
    "        return villians[index]\n",
    "    else:\n",
    "        return None\n",
    "    \n",
    "\n",
    "    \n",
    "#------------attack function---------------------------------\n",
    "def attack():\n",
    "\n",
    "    for attack_number in range(3):\n",
    "        hero_index = randint(0,3)\n",
    "        villian_index = randint(0,2)\n",
    "        \n",
    "        superhero = get_superhero(hero_index)\n",
    "        villian = get_villian(villian_index)\n",
    "        \n",
    "        if superhero and villian:\n",
    "            simulate_attack(attack_number,superhero,villian)\n",
    "        else:\n",
    "            print(\"Error no Hero or Villian to Fight\")\n",
    "def simulate_attack(attack_number,superhero,villian):\n",
    "    #set life\n",
    "    increment_hero_life(superhero[\"life\"])\n",
    "    increment_villian_life(villian[\"life\"])\n",
    "    #print\n",
    "    print(f\"Attack:{attack_number + 1} => {superhero['name']} is going to fight {villian['name']}.\")\n",
    "    \n",
    "    #attack\n",
    "    decriment_hero_life(villian[\"attack_power\"])\n",
    "    decriment_villian_life(superhero[\"attack_power\"])\n",
    "    \n",
    "#------------WIN or LOOSE--------------------\n",
    "def win_or_loose():\n",
    "    \n",
    "    \n",
    "    WIN_MSG = \"Defeated the villans\"\n",
    "    LOSE_MSG = \"Lost to villans\"\n",
    "\n",
    "    print(\"=\"*75)\n",
    "    \n",
    "    if hero_life >= villian_life:\n",
    "        print(WIN_MSG)\n",
    "    else:\n",
    "        print(LOSE_MSG)\n",
    "        \n",
    "        \n",
    "        \n",
    "#-------------Main---------------------\n",
    "def main():\n",
    "    attack()\n",
    "    win_or_loose()\n",
    "    \n",
    "main()"
   ]
  },
  {
   "cell_type": "code",
   "execution_count": null,
   "id": "ec3156cc",
   "metadata": {},
   "outputs": [],
   "source": []
  }
 ],
 "metadata": {
  "kernelspec": {
   "display_name": "Python 3 (ipykernel)",
   "language": "python",
   "name": "python3"
  },
  "language_info": {
   "codemirror_mode": {
    "name": "ipython",
    "version": 3
   },
   "file_extension": ".py",
   "mimetype": "text/x-python",
   "name": "python",
   "nbconvert_exporter": "python",
   "pygments_lexer": "ipython3",
   "version": "3.8.10"
  }
 },
 "nbformat": 4,
 "nbformat_minor": 5
}
