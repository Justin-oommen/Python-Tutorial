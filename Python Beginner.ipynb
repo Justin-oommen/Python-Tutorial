{
 "cells": [
  {
   "cell_type": "markdown",
   "id": "4db2e509",
   "metadata": {},
   "source": [
    "# Beginner Guide to Python"
   ]
  },
  {
   "cell_type": "code",
   "execution_count": 1,
   "id": "867ce530",
   "metadata": {},
   "outputs": [
    {
     "name": "stdout",
     "output_type": "stream",
     "text": [
      "Hello World\n"
     ]
    }
   ],
   "source": [
    "print(\"Hello World\")"
   ]
  },
  {
   "cell_type": "markdown",
   "id": "af63e3f1",
   "metadata": {},
   "source": [
    "**Understanding Variables:**\n",
    "-"
   ]
  },
  {
   "cell_type": "markdown",
   "id": "d6fda21b",
   "metadata": {},
   "source": [
    "- Variable is like a container that hold values of different types"
   ]
  },
  {
   "cell_type": "code",
   "execution_count": 2,
   "id": "4e014939",
   "metadata": {},
   "outputs": [
    {
     "name": "stdout",
     "output_type": "stream",
     "text": [
      "balloons\n"
     ]
    }
   ],
   "source": [
    "#variable of type string\n",
    "box = \"balloons\"\n",
    "print(box)"
   ]
  },
  {
   "cell_type": "code",
   "execution_count": 3,
   "id": "589fa382",
   "metadata": {},
   "outputs": [
    {
     "name": "stdout",
     "output_type": "stream",
     "text": [
      "Pencil\n"
     ]
    }
   ],
   "source": [
    "#we can reassign the value for the same variable\n",
    "box = \"Pencil\"\n",
    "print(box)"
   ]
  },
  {
   "cell_type": "markdown",
   "id": "17a54a63",
   "metadata": {},
   "source": [
    "- **Variable Allocation Rules:**"
   ]
  },
  {
   "cell_type": "markdown",
   "id": "3e374226",
   "metadata": {},
   "source": [
    "    - Declaration Styles:  \n",
    "        - CamalCase -> variable starts with small letter\n",
    "        - PascalCase -> starts with capital letter\n",
    "        - snake_case -> can use underscores for variables\n",
    "        - UPPERCASE  -> style used to declare Constants\n",
    "        - _super_secret -> style used to declare private variables\n",
    "        - Numbercase -> can use number and underscore together aswell\n",
    "    \n",
    "    - Not to do:\n",
    "        - start with number\n",
    "        - use of hyphen\n",
    "        - special characters\n",
    "        - dollar sign\n",
    "        - space in between\n",
    "        \n",
    "    - General convention is:\n",
    "        - decalring variable use snake_case\n",
    "        - declaring class use Pascal Case\n",
    "        - declaring constants use UPPERCASE"
   ]
  },
  {
   "cell_type": "markdown",
   "id": "80a4b4dd",
   "metadata": {},
   "source": [
    "- **Primitive type varibles:**  \n",
    "\n",
    "    This data type is already present in the python\n",
    "    \n"
   ]
  },
  {
   "cell_type": "markdown",
   "id": "c2837f98",
   "metadata": {},
   "source": [
    "    - Strings\n",
    "    - Integers\n",
    "    - Floats\n",
    "    - Boolean"
   ]
  },
  {
   "cell_type": "code",
   "execution_count": 4,
   "id": "25aa79b4",
   "metadata": {},
   "outputs": [
    {
     "name": "stdout",
     "output_type": "stream",
     "text": [
      "Justin\n",
      "45\n",
      "3.141\n",
      "True\n"
     ]
    }
   ],
   "source": [
    "#Creating primitive data types\n",
    "\n",
    "my_string = \"Justin\"\n",
    "my_int = 45\n",
    "my_float = 3.141\n",
    "my_bool = True\n",
    "\n",
    "print(my_string)\n",
    "print(my_int)\n",
    "print(my_float)\n",
    "print(my_bool)"
   ]
  },
  {
   "cell_type": "markdown",
   "id": "a15f908d",
   "metadata": {},
   "source": [
    "- **String Formatting:**"
   ]
  },
  {
   "cell_type": "markdown",
   "id": "75fb2fbe",
   "metadata": {},
   "source": []
  },
  {
   "cell_type": "code",
   "execution_count": 6,
   "id": "9395e230",
   "metadata": {},
   "outputs": [
    {
     "name": "stdout",
     "output_type": "stream",
     "text": [
      "hello Justin\n"
     ]
    }
   ],
   "source": [
    "name = \"Justin\"\n",
    "print(f\"hello {name}\")"
   ]
  },
  {
   "cell_type": "code",
   "execution_count": 7,
   "id": "0a764bb1",
   "metadata": {},
   "outputs": [
    {
     "name": "stdout",
     "output_type": "stream",
     "text": [
      "hello Justin\n"
     ]
    }
   ],
   "source": [
    "print(\"hello\",name)"
   ]
  },
  {
   "cell_type": "code",
   "execution_count": 8,
   "id": "402bb338",
   "metadata": {},
   "outputs": [
    {
     "name": "stdout",
     "output_type": "stream",
     "text": [
      "Justin is 25 years old\n"
     ]
    }
   ],
   "source": [
    "age = 25\n",
    "print(f\"{name} is {age} years old\")"
   ]
  },
  {
   "cell_type": "code",
   "execution_count": 9,
   "id": "9ded47d6",
   "metadata": {},
   "outputs": [
    {
     "name": "stdout",
     "output_type": "stream",
     "text": [
      "Justin has a dog named luffy\n"
     ]
    }
   ],
   "source": [
    "dog = \"luffy\"\n",
    "print(f\"{name} has a dog named {dog}\")"
   ]
  },
  {
   "cell_type": "code",
   "execution_count": 11,
   "id": "378c4a65",
   "metadata": {},
   "outputs": [
    {
     "name": "stdout",
     "output_type": "stream",
     "text": [
      "Justin has a cat named nami\n"
     ]
    }
   ],
   "source": [
    "cat = \"nami\"\n",
    "print(f\"{name} has a cat named {cat}\")"
   ]
  },
  {
   "cell_type": "markdown",
   "id": "b89efe17",
   "metadata": {},
   "source": [
    "To Allocate variable to only one type we can use **: {our_desired_type}**"
   ]
  },
  {
   "cell_type": "code",
   "execution_count": 13,
   "id": "4291744a",
   "metadata": {},
   "outputs": [
    {
     "name": "stdout",
     "output_type": "stream",
     "text": [
      "Justin like to drink 10\n"
     ]
    }
   ],
   "source": [
    "food: str = 10\n",
    "print(f\"{name} like to drink {food}\")"
   ]
  },
  {
   "cell_type": "markdown",
   "id": "a2a588f3",
   "metadata": {},
   "source": [
    "The above example is a bug because our variable is of type string and it holds a value integer. But any way this is going to execute because python is a dynamic programming language. Python doesn't enforce data type on run time.  \n",
    "So what can we do is type hinting."
   ]
  },
  {
   "cell_type": "markdown",
   "id": "637e07f3",
   "metadata": {},
   "source": [
    "**Problem:** Write a program for accepting ordrers for a pizza shop?"
   ]
  },
  {
   "cell_type": "code",
   "execution_count": 14,
   "id": "4389846e",
   "metadata": {
    "scrolled": true
   },
   "outputs": [
    {
     "name": "stdout",
     "output_type": "stream",
     "text": [
      "Recieved order from: Justin\n",
      "Oizza Base: Thin, Size: 12, Topping: fungi\n",
      "Is extra cheese required: True\n",
      "Total amount is 8.99\n"
     ]
    }
   ],
   "source": [
    "customer: str = \"Justin\"\n",
    "pizza_base: str = \"Thin\"\n",
    "pizza_size: int = \"12\"\n",
    "topping: str = \"fungi\"\n",
    "extra_cheese: bool = True\n",
    "price: float = 8.99\n",
    "    \n",
    "print(f\"Recieved order from: {customer}\")\n",
    "print(f\"Oizza Base: {pizza_base}, Size: {pizza_size}, Topping: {topping}\")\n",
    "print(f\"Is extra cheese required: {extra_cheese}\")\n",
    "print(f\"Total amount is {price}\")"
   ]
  },
  {
   "cell_type": "code",
   "execution_count": 16,
   "id": "3131043c",
   "metadata": {},
   "outputs": [
    {
     "name": "stdout",
     "output_type": "stream",
     "text": [
      "\n",
      "Recieved order from: Justin\n",
      "Oizza Base: Thin, Size: 12, Topping: fungi\n",
      "Is extra cheese required: True\n",
      "Total amount is 8.99\n",
      "\n"
     ]
    }
   ],
   "source": [
    "#triple quote use for commenting as well as formating multiple print lines\n",
    "order_details: str = f\"\"\"\n",
    "Recieved order from: {customer}\n",
    "Oizza Base: {pizza_base}, Size: {pizza_size}, Topping: {topping}\n",
    "Is extra cheese required: {extra_cheese}\n",
    "Total amount is {price}\n",
    "\"\"\"\n",
    "    \n",
    "print(order_details)"
   ]
  },
  {
   "cell_type": "markdown",
   "id": "25e33605",
   "metadata": {},
   "source": [
    "**Flow Control Statements:**\n",
    "-"
   ]
  },
  {
   "cell_type": "markdown",
   "id": "3de801be",
   "metadata": {},
   "source": [
    "**Problem2:** You want to drive a car and wants to know if you can have driving license or not."
   ]
  },
  {
   "cell_type": "code",
   "execution_count": 17,
   "id": "f4266b92",
   "metadata": {},
   "outputs": [
    {
     "name": "stdout",
     "output_type": "stream",
     "text": [
      "Justin is 15 years old and not eligible for license\n"
     ]
    }
   ],
   "source": [
    "age: int = 15\n",
    "\n",
    "if age < 18:\n",
    "    print(f\"{name} is {age} years old and not eligible for license\")\n",
    "else:\n",
    "    print(f\"{name} is eligible for driving license\")\n"
   ]
  },
  {
   "cell_type": "code",
   "execution_count": 18,
   "id": "7b6506c1",
   "metadata": {
    "scrolled": true
   },
   "outputs": [
    {
     "name": "stdout",
     "output_type": "stream",
     "text": [
      "Justin is eligible for driving license\n"
     ]
    }
   ],
   "source": [
    "age: int = 25\n",
    "\n",
    "if age < 18:\n",
    "    print(f\"{name} is {age} years old and not eligible for license\")\n",
    "else:\n",
    "    print(f\"{name} is eligible for driving license\")\n"
   ]
  },
  {
   "cell_type": "code",
   "execution_count": 19,
   "id": "a8393f3f",
   "metadata": {},
   "outputs": [
    {
     "name": "stdout",
     "output_type": "stream",
     "text": [
      "Justin is 100 years old and too old for driving license\n"
     ]
    }
   ],
   "source": [
    "age = 100\n",
    "\n",
    "if age < 18:\n",
    "    print(f\"{name} is {age} years old and not eligible for license\")\n",
    "elif age >80:\n",
    "    print(f\"{name} is {age} years old and too old for driving license\")\n",
    "else:\n",
    "    print(f\"{name} is eligible for driving license\")"
   ]
  },
  {
   "cell_type": "markdown",
   "id": "e03eae10",
   "metadata": {},
   "source": [
    "Suppose we have two different planets planet Krypton without age limit and Earth with age limit on licenses?"
   ]
  },
  {
   "cell_type": "code",
   "execution_count": 21,
   "id": "85d2bad6",
   "metadata": {},
   "outputs": [
    {
     "name": "stdout",
     "output_type": "stream",
     "text": [
      "Justin is eligible for driving license on Earth\n"
     ]
    }
   ],
   "source": [
    "planet: str = \"Earth\"\n",
    "\n",
    "if age >18 and planet == \"Earth\":\n",
    "    print(f\"{name} is eligible for driving license on {planet}\")\n",
    "elif age < 18 and planet == \"Earth\":\n",
    "    print(f\"{name} is not eligible for driving license on {planet}\")\n",
    "elif planet == \"Krypton\":\n",
    "    print(f\"{name} can apply for driving license without age limit\")"
   ]
  },
  {
   "cell_type": "code",
   "execution_count": 22,
   "id": "dfecf480",
   "metadata": {},
   "outputs": [
    {
     "name": "stdout",
     "output_type": "stream",
     "text": [
      "Justin can apply for driving license in Krypton without age limit\n"
     ]
    }
   ],
   "source": [
    "planet: str = \"Krypton\"\n",
    "\n",
    "if age >18 and planet == \"Earth\":\n",
    "    print(f\"{name} is eligible for driving license\")\n",
    "elif age < 18 and planet == \"Earth\":\n",
    "    print(f\"{name} is not eligible for driving license\")\n",
    "elif planet == \"Krypton\":\n",
    "    print(f\"{name} can apply for driving license in {planet} without age limit\")"
   ]
  },
  {
   "cell_type": "markdown",
   "id": "d286dfd6",
   "metadata": {},
   "source": [
    "**For loop:**  \n",
    "-"
   ]
  },
  {
   "cell_type": "markdown",
   "id": "e8876665",
   "metadata": {},
   "source": [
    "**Problem3:** Iterate over your name and print out the character?"
   ]
  },
  {
   "cell_type": "code",
   "execution_count": 23,
   "id": "2139552a",
   "metadata": {},
   "outputs": [
    {
     "name": "stdout",
     "output_type": "stream",
     "text": [
      "J\n",
      "u\n",
      "s\n",
      "t\n",
      "i\n",
      "n\n"
     ]
    }
   ],
   "source": [
    "name: str = \"Justin\"\n",
    "\n",
    "for char in name:\n",
    "    print(char)"
   ]
  },
  {
   "cell_type": "markdown",
   "id": "9993b59a",
   "metadata": {},
   "source": [
    "**Problem4:** Write a program to guess the planet Krypton correct?"
   ]
  },
  {
   "cell_type": "code",
   "execution_count": 30,
   "id": "7ead4b19",
   "metadata": {},
   "outputs": [
    {
     "name": "stdout",
     "output_type": "stream",
     "text": [
      "Justin says: Can you guess my Planet? >>> mars\n",
      "Wrong Choice!!!\n",
      "Justin says: Can you guess my Planet? >>> earth\n",
      "Wrong Choice!!!\n",
      "Justin says: Can you guess my Planet? >>> Kryptonm\n",
      "Wrong Choice!!!\n",
      "Justin says: Can you guess my Planet? >>> Krypton\n",
      "Right Guess!!!\n"
     ]
    }
   ],
   "source": [
    "guess: str = \"\"\n",
    "planet: str = \"Krypton\"\n",
    "correct_guess: bool = False\n",
    "\n",
    "while correct_guess is not True:\n",
    "\n",
    "    guess = input(\"Justin says: Can you guess my Planet? >>> \")\n",
    "    \n",
    "    if guess == planet:\n",
    "        print(\"Right Guess!!!\")\n",
    "        correct_guess = True\n",
    "    else:\n",
    "        print(\"Wrong Choice!!!\")\n",
    "    \n"
   ]
  },
  {
   "cell_type": "code",
   "execution_count": 31,
   "id": "d817fbd4",
   "metadata": {},
   "outputs": [
    {
     "name": "stdout",
     "output_type": "stream",
     "text": [
      "Justin says: Can you guess my Planet? >>> mars\n",
      "Wrong Choice!!!\n",
      "Justin says: Can you guess my Planet? >>> Krypton\n",
      "Right Guess!!!\n"
     ]
    }
   ],
   "source": [
    "guess: str = \"\"\n",
    "planet: str = \"Krypton\"\n",
    "correct_guess: bool = False\n",
    "\n",
    "while True:\n",
    "\n",
    "    guess = input(\"Justin says: Can you guess my Planet? >>> \")\n",
    "    \n",
    "    if guess == planet:\n",
    "        print(\"Right Guess!!!\")\n",
    "        break\n",
    "    else:\n",
    "        print(\"Wrong Choice!!!\")\n",
    "    \n"
   ]
  },
  {
   "cell_type": "markdown",
   "id": "e74b6f9a",
   "metadata": {},
   "source": [
    " "
   ]
  },
  {
   "cell_type": "markdown",
   "id": "becb35e2",
   "metadata": {},
   "source": [
    "**Exercise: Game**\n",
    "-\n",
    "\n",
    "Zortan is under attack!!! Thanos has arrived!\n",
    "---------------------------------------------\n",
    "Since Zortan is under attack, Louis calls his Avenger friends from earth.\n",
    "Avengers receive his call and sends 4 avengers to save Zortan.\n",
    "1. Ironman\n",
    "2. Black Widow\n",
    "3. Spiderman\n",
    "4. Hulk  \n",
    "\n",
    "\n",
    "Each avenger has its attacking power and they have to fight Thanos\n",
    "to save Zortan.\n",
    "Avengers can attack only in pairs and get only 3 chances to kill Thanos,\n",
    "or else Thanos will kill avengers and we loose the game.  \n",
    "\n"
   ]
  },
  {
   "cell_type": "code",
   "execution_count": 65,
   "id": "566cda47",
   "metadata": {},
   "outputs": [],
   "source": [
    "IRONMAN_POWER: int= 250 #The upper case indicates it is a constant\n",
    "BLACKWIDOW_POWER: int = 150\n",
    "SPIDERMAN_POWER: int = 200\n",
    "HULK_POWER: int = 300"
   ]
  },
  {
   "cell_type": "markdown",
   "id": "9f695082",
   "metadata": {},
   "source": [
    "**You cannot declare a variable or value as constant in Python.**"
   ]
  },
  {
   "cell_type": "code",
   "execution_count": 71,
   "id": "30b7509f",
   "metadata": {},
   "outputs": [
    {
     "name": "stdout",
     "output_type": "stream",
     "text": [
      "\n",
      "-----------------------------------------------------\n",
      "These are the choices that you have to attack THANOS\n",
      "\n",
      "1. HULK & IRONMAN\n",
      "2. BLACKWIDOW & HULK\n",
      "3. SPIDERMAN & IRONMAN\n",
      "4. BLACKWIDOW & SPIDERMAN\n",
      "\n",
      "-----------------------------------------------------\n",
      "\n",
      "Give your choice to attack Thanos: 1\n",
      "Hulk and Iron man are attacking thanos\n",
      "thanos_life is: 950\n",
      "Give your choice to attack Thanos: 1\n",
      "Hulk and Iron man are attacking thanos\n",
      "thanos_life is: 400\n",
      "Give your choice to attack Thanos: 1\n",
      "Hulk and Iron man are attacking thanos\n",
      "thanos_life is: -150\n",
      "Thanos is killed and Avengers saved Zortan!!!\n"
     ]
    }
   ],
   "source": [
    "thanos_life = 1500\n",
    "choice = 0\n",
    "#To simulate the game we have to utilise the two contraints\n",
    "#one is substracting the combined power of avenger from thanos life\n",
    "#second is the attack number which is less than or equal to 3\n",
    "attack_num = 0\n",
    "\n",
    "MESSAGE: str = \"\"\"\n",
    "-----------------------------------------------------\n",
    "These are the choices that you have to attack THANOS\n",
    "\n",
    "1. HULK & IRONMAN\n",
    "2. BLACKWIDOW & HULK\n",
    "3. SPIDERMAN & IRONMAN\n",
    "4. BLACKWIDOW & SPIDERMAN\n",
    "\n",
    "-----------------------------------------------------\n",
    "\"\"\"\n",
    "print(MESSAGE)\n",
    "\n",
    "WIN_MSG = \"Thanos is killed and Avengers saved Zortan!!!\"\n",
    "LOSE_MSG = \"Avengers lost the war!!!\"\n",
    "\n",
    "\n",
    "while True:\n",
    "    \n",
    "    if thanos_life<=0 and attack_num<=3:\n",
    "        print(WIN_MSG)\n",
    "        break\n",
    "    elif attack_num >3:\n",
    "        print(LOSE_MSG)\n",
    "        break\n",
    "    \n",
    "    choice = int(input(\"Give your choice to attack Thanos: \"))\n",
    "\n",
    "    if choice == 1:\n",
    "        print(\"Hulk and Iron man are attacking thanos\")\n",
    "        thanos_life = thanos_life - IRONMAN_POWER - HULK_POWER\n",
    "        print(f\"thanos_life is: {thanos_life}\")\n",
    "        attack_num = attack_num + 1\n",
    "        \n",
    "    elif choice == 2:\n",
    "        print(\"Hulk and Black widow are attacking thanos\")\n",
    "        thanos_life = thanos_life - HULK_POWER - BLACKWIDOW_POWER\n",
    "        print(f\"thanos_life is: {thanos_life}\")\n",
    "        attack_num = attack_num + 1\n",
    "\n",
    "    elif choice == 3:\n",
    "        print(\"SpiderMan and Iron man are attacking thanos\")\n",
    "        thanos_life = thanos_life - IRONMAN_POWER - SPIDERMAN_POWER\n",
    "        print(f\"thanos_life is: {thanos_life}\")\n",
    "        attack_num = attack_num + 1\n",
    "\n",
    "    elif choice == 4:\n",
    "        print(\"Blackwidow and Spider man are attacking thanos\")\n",
    "        thanos_life = thanos_life - BLACKWIDOW_POWER - SPIDERMAN_POWER\n",
    "        print(f\"thanos_life is: {thanos_life}\")\n",
    "        attack_num = attack_num + 1\n",
    "        \n",
    "    else:\n",
    "        print(\"No one is atacking Thanos\")"
   ]
  },
  {
   "cell_type": "code",
   "execution_count": null,
   "id": "70f5b33a",
   "metadata": {},
   "outputs": [],
   "source": []
  }
 ],
 "metadata": {
  "kernelspec": {
   "display_name": "Python 3 (ipykernel)",
   "language": "python",
   "name": "python3"
  },
  "language_info": {
   "codemirror_mode": {
    "name": "ipython",
    "version": 3
   },
   "file_extension": ".py",
   "mimetype": "text/x-python",
   "name": "python",
   "nbconvert_exporter": "python",
   "pygments_lexer": "ipython3",
   "version": "3.8.10"
  }
 },
 "nbformat": 4,
 "nbformat_minor": 5
}
