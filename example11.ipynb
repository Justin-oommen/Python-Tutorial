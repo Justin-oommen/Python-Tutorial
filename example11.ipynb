{
 "cells": [
  {
   "cell_type": "markdown",
   "id": "f0dc80e2",
   "metadata": {},
   "source": [
    "# Additional Topics\n",
    "\n",
    "\n",
    "## Input from keyboard\n",
    "\n",
    "input() function take simple text from the keyboard and return it as a str "
   ]
  },
  {
   "cell_type": "code",
   "execution_count": 2,
   "id": "7cae5448",
   "metadata": {},
   "outputs": [
    {
     "name": "stdout",
     "output_type": "stream",
     "text": [
      "insert a number: 3\n",
      "my input:  3.0\n",
      "positive number:  3.0\n"
     ]
    }
   ],
   "source": [
    "z = float(input('insert a number: '))\n",
    "print('my input: ',z)\n",
    "if z>0:\n",
    "    print('positive number: ',z)"
   ]
  },
  {
   "cell_type": "code",
   "execution_count": 5,
   "id": "b0beb012",
   "metadata": {},
   "outputs": [
    {
     "name": "stdout",
     "output_type": "stream",
     "text": [
      "Insert a complex number: 2-3j\n",
      "(2-3j)\n"
     ]
    }
   ],
   "source": [
    "a_complex = complex(input('Insert a complex number: '))\n",
    "print(a_complex)"
   ]
  },
  {
   "cell_type": "code",
   "execution_count": 10,
   "id": "9ea5591d",
   "metadata": {},
   "outputs": [
    {
     "name": "stdout",
     "output_type": "stream",
     "text": [
      "==== Running example11.py\n",
      "a = 2.3, b = 4.5, c = 0.5111111111111111\n",
      "x: 2.0, m: 1.0, q: 2.3\n",
      "4.3\n",
      "x: 0.0, m: 1.0, q: -1.3\n",
      "-1.3\n",
      "==== End of example11.py\n"
     ]
    }
   ],
   "source": [
    "\n",
    "# This is my first module\n",
    "\n",
    "print(\"==== Running example11.py\")\n",
    "\n",
    "a = 2.3\n",
    "b = 4.5\n",
    "c = a/b\n",
    "\n",
    "def line(x, m=1., q=0.):\n",
    "  print(\"x: {2}, m: {0}, q: {1}\".format(m,q,x))\n",
    "  return m*x+q\n",
    "\n",
    "# Print using ''\n",
    "print('a = {0}, b = {1}, c = {2}'.format(a, b, c))\n",
    "\n",
    "\n",
    "print(line(2., q=2.3))\n",
    "print(line(0., q=-1.3))\n",
    "print(\"==== End of example11.py\")"
   ]
  },
  {
   "cell_type": "code",
   "execution_count": null,
   "id": "85869e7c",
   "metadata": {},
   "outputs": [],
   "source": []
  }
 ],
 "metadata": {
  "kernelspec": {
   "display_name": "Python 3 (ipykernel)",
   "language": "python",
   "name": "python3"
  },
  "language_info": {
   "codemirror_mode": {
    "name": "ipython",
    "version": 3
   },
   "file_extension": ".py",
   "mimetype": "text/x-python",
   "name": "python",
   "nbconvert_exporter": "python",
   "pygments_lexer": "ipython3",
   "version": "3.8.10"
  }
 },
 "nbformat": 4,
 "nbformat_minor": 5
}
