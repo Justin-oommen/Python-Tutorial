{
 "cells": [
  {
   "cell_type": "markdown",
   "id": "f1e4c804",
   "metadata": {},
   "source": [
    "# Introduction to Python\n",
    "\n",
    "## Basics 1\n",
    "\n",
    "### Numpy --> Power of ploting\n",
    "### Pandas --> Data Reading and Data Analysis\n",
    "### Sympy --> For symbolic computation\n",
    "\n"
   ]
  },
  {
   "cell_type": "markdown",
   "id": "90c25497",
   "metadata": {},
   "source": [
    "### Some Commands\n",
    "\n",
    "- To create cell below - b\n",
    "- To create cell above - a\n",
    "- To go out of the cell - Esc\n",
    "- To Run the cell - Shift + Enter\n",
    "- To delete a cell - dd"
   ]
  },
  {
   "cell_type": "markdown",
   "id": "e465920d",
   "metadata": {},
   "source": [
    "## Use Python as Calculator"
   ]
  },
  {
   "cell_type": "code",
   "execution_count": 13,
   "id": "da4a4ebf",
   "metadata": {},
   "outputs": [
    {
     "name": "stdout",
     "output_type": "stream",
     "text": [
      "40\n"
     ]
    }
   ],
   "source": [
    "print (20+20)\n",
    "\n"
   ]
  },
  {
   "cell_type": "code",
   "execution_count": 14,
   "id": "393d5ef8",
   "metadata": {},
   "outputs": [
    {
     "data": {
      "text/plain": [
       "40"
      ]
     },
     "execution_count": 14,
     "metadata": {},
     "output_type": "execute_result"
    }
   ],
   "source": [
    "20+20"
   ]
  },
  {
   "cell_type": "code",
   "execution_count": 16,
   "id": "9c1f1a27",
   "metadata": {},
   "outputs": [
    {
     "data": {
      "text/plain": [
       "7.222222222222222"
      ]
     },
     "execution_count": 16,
     "metadata": {},
     "output_type": "execute_result"
    }
   ],
   "source": [
    "10+(20+30-30*10)/(10**2-10)"
   ]
  },
  {
   "cell_type": "markdown",
   "id": "77caeceb",
   "metadata": {},
   "source": [
    "- The Mathematical Operators are\n",
    "    - \"+\"  --> Addition\n",
    "    - \"-\"  --> Substraction\n",
    "    - \"*\"  --> Multiplication\n",
    "    - /    --> Division\n",
    "    - **   --> Power\n",
    "    - %    --> Reminder\n",
    "    "
   ]
  },
  {
   "cell_type": "code",
   "execution_count": null,
   "id": "eb9021f3",
   "metadata": {},
   "outputs": [],
   "source": []
  }
 ],
 "metadata": {
  "kernelspec": {
   "display_name": "Python 3 (ipykernel)",
   "language": "python",
   "name": "python3"
  },
  "language_info": {
   "codemirror_mode": {
    "name": "ipython",
    "version": 3
   },
   "file_extension": ".py",
   "mimetype": "text/x-python",
   "name": "python",
   "nbconvert_exporter": "python",
   "pygments_lexer": "ipython3",
   "version": "3.9.5"
  }
 },
 "nbformat": 4,
 "nbformat_minor": 5
}
