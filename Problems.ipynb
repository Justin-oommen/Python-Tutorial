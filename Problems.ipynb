{
 "cells": [
  {
   "cell_type": "markdown",
   "id": "c3503b23",
   "metadata": {},
   "source": [
    "# Problems"
   ]
  },
  {
   "cell_type": "markdown",
   "id": "5d15a6c4",
   "metadata": {},
   "source": [
    "## Problem1:\n",
    "\n",
    "The equation for the height of a thrown ball is where $ y = -1 / 2gt^2 + v_0t $ where,\n",
    "\n",
    "- *t* is time\n",
    "- *y* is the height of the ball\n",
    "- *$v_0$* is the intial upward speed of the ball\n",
    "- *g* is the gravity\n",
    "\n",
    "Jim throws his ball at 10m/s and Mark throws his at 15m/s upward. **Plot the heigh of each of their ball as a function of time from 0 to 2 seconds**\n"
   ]
  },
  {
   "cell_type": "code",
   "execution_count": 6,
   "id": "1cfd7364",
   "metadata": {},
   "outputs": [],
   "source": [
    "import numpy as np\n",
    "import matplotlib.pyplot as plt"
   ]
  },
  {
   "cell_type": "code",
   "execution_count": 13,
   "id": "4748576e",
   "metadata": {},
   "outputs": [],
   "source": [
    "# definig the variables\n",
    "time = np.linspace(0,2,1000)\n",
    "g = 9.8\n",
    "v0_jim = 10\n",
    "v0_mark= 15"
   ]
  },
  {
   "cell_type": "code",
   "execution_count": 14,
   "id": "b656ea8c",
   "metadata": {},
   "outputs": [],
   "source": [
    "y_jim = -1/2 * g * time**2 + v0_jim*time\n",
    "y_mark = -1/2 * g * time**2 + v0_mark*time"
   ]
  },
  {
   "cell_type": "code",
   "execution_count": 15,
   "id": "d279d23d",
   "metadata": {},
   "outputs": [
    {
     "data": {
      "text/plain": [
       "<matplotlib.legend.Legend at 0x7f87a42a0880>"
      ]
     },
     "execution_count": 15,
     "metadata": {},
     "output_type": "execute_result"
    },
    {
     "data": {
      "image/png": "[encoded data removed]",
      "text/plain": [
       "<Figure size 432x288 with 1 Axes>"
      ]
     },
     "metadata": {
      "needs_background": "light"
     },
     "output_type": "display_data"
    }
   ],
   "source": [
    "plt.plot(time,y_jim, label='Jim')\n",
    "plt.plot(time,y_mark, label='Mark')\n",
    "plt.xlabel('time')\n",
    "plt.ylabel('height(y)')\n",
    "plt.grid()\n",
    "plt.legend()"
   ]
  },
  {
   "cell_type": "markdown",
   "id": "23dda0da",
   "metadata": {},
   "source": [
    "\n",
    "\n",
    "\n",
    "## Problem2:\n",
    "\n",
    "The poem below is organized such that each poem line is a new element in the list\n",
    "\n",
    "`poem=['when day comes we ask ourselves,',\\\n",
    "    'where can we find light in this never-ending shade?',\\\n",
    "    'the loss we carry,',\\\n",
    "    'a sea we must wade',\\\n",
    "    \"we've braved the belly of the beast\",\\\n",
    "    \"we've learned that quiet isn't always peace\",\\\n",
    "    \"and the norms and notions\",\\\n",
    "    \"of what just is\"]`\n",
    "    \n",
    "**Loop through the lines of the poem, and if the line contains the substring `we`, then print `line __ contains we` where `__` is the line number.**"
   ]
  },
  {
   "cell_type": "code",
   "execution_count": 4,
   "id": "2efce922",
   "metadata": {},
   "outputs": [],
   "source": [
    "poem = ['when day comes we ask ourselves,',\n",
    "    'where can we find light in this never-ending shade?',\n",
    "    'the loss we carry,',\n",
    "    'a sea we must wade',\n",
    "   \"we've braved the belly of the beast\",\n",
    "    \"we've learned that quiet isn't always peace\",\n",
    "    \"and the norms and notions\",\n",
    "    \"of what just is\"]"
   ]
  },
  {
   "cell_type": "code",
   "execution_count": 7,
   "id": "0c79d6a7",
   "metadata": {},
   "outputs": [
    {
     "ename": "IndexError",
     "evalue": "list index out of range",
     "output_type": "error",
     "traceback": [
      "\u001b[0;31m---------------------------------------------------------------------------\u001b[0m",
      "\u001b[0;31mIndexError\u001b[0m                                Traceback (most recent call last)",
      "Input \u001b[0;32mIn [7]\u001b[0m, in \u001b[0;36m<module>\u001b[0;34m\u001b[0m\n\u001b[0;32m----> 1\u001b[0m \u001b[43mpoem\u001b[49m\u001b[43m[\u001b[49m\u001b[38;5;241;43m10\u001b[39;49m\u001b[43m]\u001b[49m\n",
      "\u001b[0;31mIndexError\u001b[0m: list index out of range"
     ]
    }
   ],
   "source": [
    "poem[10]"
   ]
  },
  {
   "cell_type": "code",
   "execution_count": 38,
   "id": "690ac584",
   "metadata": {},
   "outputs": [
    {
     "name": "stdout",
     "output_type": "stream",
     "text": [
      "line 0 conatins we\n",
      "line 1 conatins we\n",
      "line 2 conatins we\n",
      "line 3 conatins we\n",
      "line 4 conatins we\n",
      "line 5 conatins we\n"
     ]
    }
   ],
   "source": [
    "for i,line in enumerate(poem):\n",
    "    if 'we' in line:\n",
    "        print('line {} conatins we'.format(i))"
   ]
  },
  {
   "cell_type": "code",
   "execution_count": null,
   "id": "d9a4f89c",
   "metadata": {},
   "outputs": [],
   "source": []
  },
  {
   "cell_type": "code",
   "execution_count": 8,
   "id": "2affcba3",
   "metadata": {},
   "outputs": [],
   "source": [
    "variable = 'cat'"
   ]
  },
  {
   "cell_type": "code",
   "execution_count": 9,
   "id": "0e462a15",
   "metadata": {},
   "outputs": [
    {
     "data": {
      "text/plain": [
       "'cat'"
      ]
     },
     "execution_count": 9,
     "metadata": {},
     "output_type": "execute_result"
    }
   ],
   "source": [
    "variable"
   ]
  },
  {
   "cell_type": "code",
   "execution_count": 12,
   "id": "ad9b0f6d",
   "metadata": {},
   "outputs": [
    {
     "name": "stdout",
     "output_type": "stream",
     "text": [
      "cast\n"
     ]
    }
   ],
   "source": [
    "print('ca{}t'.format('s'))"
   ]
  },
  {
   "cell_type": "code",
   "execution_count": null,
   "id": "409e2067",
   "metadata": {},
   "outputs": [],
   "source": []
  },
  {
   "cell_type": "code",
   "execution_count": null,
   "id": "376ae9c3",
   "metadata": {},
   "outputs": [],
   "source": []
  },
  {
   "cell_type": "code",
   "execution_count": null,
   "id": "84e163ea",
   "metadata": {},
   "outputs": [],
   "source": []
  },
  {
   "cell_type": "markdown",
   "id": "151fd283",
   "metadata": {},
   "source": [
    "\n",
    "\n",
    "\n",
    "## Problem3:\n",
    "\n",
    "Add up every number from 1 to 999999, except for those that can be divided by 4, and those that can be divided by 6"
   ]
  },
  {
   "cell_type": "code",
   "execution_count": 52,
   "id": "5db024f3",
   "metadata": {},
   "outputs": [],
   "source": [
    "sum = 0\n",
    "for i in range(1000000):\n",
    "    if not(i%4==0) and not(i%6==0):\n",
    "        sum=sum+1\n",
    "        "
   ]
  },
  {
   "cell_type": "code",
   "execution_count": 53,
   "id": "e0b5d34a",
   "metadata": {},
   "outputs": [
    {
     "data": {
      "text/plain": [
       "666667"
      ]
     },
     "execution_count": 53,
     "metadata": {},
     "output_type": "execute_result"
    }
   ],
   "source": [
    "sum"
   ]
  }
 ],
 "metadata": {
  "kernelspec": {
   "display_name": "Python 3 (ipykernel)",
   "language": "python",
   "name": "python3"
  },
  "language_info": {
   "codemirror_mode": {
    "name": "ipython",
    "version": 3
   },
   "file_extension": ".py",
   "mimetype": "text/x-python",
   "name": "python",
   "nbconvert_exporter": "python",
   "pygments_lexer": "ipython3",
   "version": "3.8.10"
  }
 },
 "nbformat": 4,
 "nbformat_minor": 5
}
