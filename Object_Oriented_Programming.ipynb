{
 "cells": [
  {
   "cell_type": "markdown",
   "id": "9bb806de",
   "metadata": {},
   "source": [
    "# Object Oriented Programming"
   ]
  },
  {
   "cell_type": "markdown",
   "id": "b2873c6c",
   "metadata": {},
   "source": [
    "1. Class:  \n",
    "\n",
    "    - Class are just like a buliding blueprint. They provide specific instructions of how to construct a building.\n",
    "    - __ main __ simply means main file, this is a convention.  \n",
    "      whenever we execute some module python, python names the main module as '__ main __'.\n",
    "    - The first function inside our class always has to be special class\n",
    "      __ init __ . The first argument should always be **self**. **This method return nothing**. It act as reference.\n",
    "     - __ repe__ --> **Returns a string**. Official representation of class.\n",
    "     - __ str__  -->  String representation of an instance\n",
    "     \n",
    "     - p1,p2 are instance of class Person. Instance is an object of type class."
   ]
  },
  {
   "cell_type": "code",
   "execution_count": 14,
   "id": "9d7c9f0e",
   "metadata": {},
   "outputs": [
    {
     "name": "stdout",
     "output_type": "stream",
     "text": [
      "<class '__main__.SomeClass'>\n"
     ]
    }
   ],
   "source": [
    "class SomeClass:\n",
    "    \"\"\"Defines empty class\"\"\"\n",
    "    \n",
    "    pass\n",
    "\n",
    "print(SomeClass)"
   ]
  },
  {
   "cell_type": "code",
   "execution_count": 15,
   "id": "7e89dc6b",
   "metadata": {},
   "outputs": [
    {
     "name": "stdout",
     "output_type": "stream",
     "text": [
      "Person: Justin P.Oommen\n",
      "Person: Nikhil Mohan\n",
      "Justin\n",
      "Nikhil\n",
      "Hi Justin\n",
      "Hi Nikhil\n"
     ]
    }
   ],
   "source": [
    "class Person:\n",
    "    \"\"\"Defines a person\"\"\"\n",
    "    def __init__(self,first_name, last_name):\n",
    "        self.first_name = first_name #creating an instance variable\n",
    "        self.last_name = last_name\n",
    "    \n",
    "    def __repr__(self):\n",
    "        return '<class  \"Person\">'\n",
    "    \n",
    "    def __str__(self):\n",
    "        return f\"Person: {self.first_name} {self.last_name}\"\n",
    "    #This is method\n",
    "    def greet(self):\n",
    "        print(f\"Hi {self.first_name}\")\n",
    "    \n",
    "p1 = Person(\"Justin\", \"P.Oommen\")\n",
    "p2 = Person(\"Nikhil\", \"Mohan\")\n",
    "print(p1)\n",
    "print(p2)\n",
    "print(p1.first_name)\n",
    "print(p2.first_name)\n",
    "p1.greet()\n",
    "p2.greet()"
   ]
  },
  {
   "cell_type": "code",
   "execution_count": 16,
   "id": "b01f54ec",
   "metadata": {},
   "outputs": [
    {
     "name": "stdout",
     "output_type": "stream",
     "text": [
      "Value: 2, Error: 0.003\n"
     ]
    }
   ],
   "source": [
    "class Datum:\n",
    "    \n",
    "    def __init__(self,value,error):\n",
    "        self.value = value\n",
    "        self.error = error\n",
    "        \n",
    "    def __repr__(self):\n",
    "        return 'class<class \"Datum\">'\n",
    "    \n",
    "    def __str__(self):\n",
    "        return f\"Value: {self.value}, Error: {self.error}\"\n",
    "    \n",
    "d1 = Datum(2,0.003)\n",
    "print(d1)"
   ]
  },
  {
   "cell_type": "markdown",
   "id": "2247fdf3",
   "metadata": {},
   "source": [
    "- **We can use init,repr,str and others as regular functions** - Not RECOMMENDED"
   ]
  },
  {
   "cell_type": "code",
   "execution_count": 17,
   "id": "ee2b2e01",
   "metadata": {},
   "outputs": [
    {
     "name": "stdout",
     "output_type": "stream",
     "text": [
      "<class  \"Person\">\n",
      "Person: Justin P.Oommen\n",
      "class<class \"Datum\">\n",
      "Value: 2, Error: 0.003\n"
     ]
    }
   ],
   "source": [
    "print(p1.__repr__())\n",
    "print(p1.__str__())\n",
    "print(d1.__repr__())\n",
    "print(d1.__str__())"
   ]
  },
  {
   "cell_type": "markdown",
   "id": "f9143f3b",
   "metadata": {},
   "source": [
    "#### Game - characters to class"
   ]
  },
  {
   "cell_type": "code",
   "execution_count": 13,
   "id": "c5a96a0f",
   "metadata": {},
   "outputs": [
    {
     "name": "stdout",
     "output_type": "stream",
     "text": [
      "Name: Thanos, Attack Power: 1500, Life: 1000\n",
      "Name: Redskull, Attack Power: 800, Life: 500\n",
      "Name: Ironman, Attack Power: 1500, Life: 900\n",
      "Name: Spiderman, Attack Power: 1000, Life: 700\n"
     ]
    }
   ],
   "source": [
    "class Character:\n",
    "    #constructor\n",
    "    def __init__(self,name,attack_power,life):\n",
    "        self.name = name\n",
    "        self.attack_power = attack_power\n",
    "        self.life = life\n",
    "        \n",
    "    def __repr__(self):\n",
    "        return 'class <\"Character\">'\n",
    "    \n",
    "    def __str__(self):\n",
    "        return f\"Name: {self.name}, Attack Power: {self.attack_power}, Life: {self.life}\"\n",
    "    \n",
    "villian_1 = Character(\"Thanos\",1500,1000)\n",
    "print(villian_1)\n",
    "\n",
    "#we can use key-value pairs and the order doesn't matter\n",
    "\n",
    "villian_2 = Character(name= \"Redskull\",attack_power=800, life=500)\n",
    "print(villian_2)\n",
    "\n",
    "hero_1 = Character(name= \"Ironman\",attack_power=1500, life=900)\n",
    "print(hero_1)\n",
    "hero_2 = Character(name= \"Spiderman\",attack_power=1000, life=700)\n",
    "print(hero_2)\n"
   ]
  },
  {
   "cell_type": "markdown",
   "id": "1f667451",
   "metadata": {},
   "source": [
    "**When we need a class:**  \n",
    "\n",
    "Use classess only when we need 'Structure' and 'Behaviour' together.  \n",
    "If we need only structure use any existing data structure such as tuples,list,dictionary etc.  \n",
    "If we need only behaviour, then create a function that transforms our data."
   ]
  },
  {
   "cell_type": "code",
   "execution_count": 11,
   "id": "52bd41da",
   "metadata": {},
   "outputs": [],
   "source": [
    "#help()"
   ]
  },
  {
   "cell_type": "markdown",
   "id": "feb17921",
   "metadata": {},
   "source": [
    "Class members or variables are declared outside the constructor which make them avialble to all of the classess and instances."
   ]
  },
  {
   "cell_type": "code",
   "execution_count": 19,
   "id": "f46b6340",
   "metadata": {},
   "outputs": [
    {
     "name": "stdout",
     "output_type": "stream",
     "text": [
      "side A: 3, side B: 4\n",
      "Packaging Carton\n",
      "Brown\n"
     ]
    }
   ],
   "source": [
    "class Box:\n",
    "    #class members\n",
    "    box_type = \"Packaging Carton\"\n",
    "    color = \"Brown\"\n",
    "    \n",
    "    def __init__(self,side_a,side_b):\n",
    "        #instance varibale\n",
    "        self.side_a = side_a\n",
    "        self.side_b = side_b\n",
    "        \n",
    "    def __str__(self):\n",
    "        return f\"side A: {self.side_a}, side B: {self.side_b}\"\n",
    "    \n",
    "\n",
    "b1 = Box(3,4)\n",
    "print(b1)\n",
    "\n",
    "print(b1.box_type)\n",
    "print(b1.color)"
   ]
  },
  {
   "cell_type": "markdown",
   "id": "764e4964",
   "metadata": {},
   "source": [
    "**Class members/variables are available to class itself. We don't need to create an instance (like b1) to access it.**"
   ]
  },
  {
   "cell_type": "code",
   "execution_count": 21,
   "id": "7de37e79",
   "metadata": {},
   "outputs": [
    {
     "name": "stdout",
     "output_type": "stream",
     "text": [
      "Packaging Carton\n",
      "Brown\n"
     ]
    }
   ],
   "source": [
    "#the class variables are avialabe to class itself(also available to instances)\n",
    "print(Box.box_type)\n",
    "print(Box.color)"
   ]
  },
  {
   "cell_type": "markdown",
   "id": "21094fc8",
   "metadata": {},
   "source": [
    "**Inheritance and Polymorphism:**\n",
    "-"
   ]
  },
  {
   "cell_type": "markdown",
   "id": "25cb9267",
   "metadata": {},
   "source": [
    "**1. Inheritance:**  \n",
    "\n",
    "- We can inherit from classes and make them share common functionality. At the same time we can dynamically add another features and functionality as well."
   ]
  },
  {
   "cell_type": "code",
   "execution_count": 24,
   "id": "1ee9a8f5",
   "metadata": {},
   "outputs": [
    {
     "name": "stdout",
     "output_type": "stream",
     "text": [
      "Name: luffy\n",
      "luffy can't talk yet!!!\n"
     ]
    }
   ],
   "source": [
    "class Animal:\n",
    "    def __init__(self,name,age,num_legs):\n",
    "        self.name = name\n",
    "        self.age = age\n",
    "        self.num_legs = num_legs\n",
    "        \n",
    "\n",
    "    def __str__(self):\n",
    "        return f\"Name: {self.name}\"\n",
    "    \n",
    "    def talk(self):\n",
    "        print(f\"{self.name} can't talk yet!!!\")\n",
    "        \n",
    "a1 = Animal(\"luffy\",5,4)\n",
    "print(a1)\n",
    "\n",
    "a1.talk()"
   ]
  },
  {
   "cell_type": "code",
   "execution_count": 40,
   "id": "07b40e6c",
   "metadata": {},
   "outputs": [
    {
     "name": "stdout",
     "output_type": "stream",
     "text": [
      "Dog: nami, Breed: Beagle\n",
      "nami says woof!!!\n",
      "nami sniff shoe\n"
     ]
    }
   ],
   "source": [
    "class Dog(Animal):\n",
    "    def __init__(self,name,age,num_legs,breed):\n",
    "        # Take the common features, pass it to animal ==> super()\n",
    "        super().__init__(name,age,num_legs)\n",
    "        \n",
    "        self.breed = breed\n",
    "        #we can create instance variable even though they are not in argument\n",
    "        self.type = \"Dog\"\n",
    "        \n",
    "    def __str__(self): #cannot do print, always return string\n",
    "        return f\"{self.type}: {self.name}, Breed: {self.breed}\"\n",
    "     \n",
    "        \n",
    "    def talk(self):\n",
    "        print(f\"{self.name} says woof!!!\")\n",
    "        \n",
    "    def sniff(self,item):\n",
    "        print(f\"{self.name} sniff {item}\")\n",
    "        \n",
    "d1 = Dog(\"nami\", age=5, num_legs=4, breed=\"Beagle\")\n",
    "print(d1)\n",
    "d1.talk()\n",
    "d1.sniff(\"shoe\")"
   ]
  },
  {
   "cell_type": "code",
   "execution_count": 37,
   "id": "ee9b1354",
   "metadata": {},
   "outputs": [
    {
     "name": "stdout",
     "output_type": "stream",
     "text": [
      "Cat: nami, Breed: Persian\n",
      "nami says mew!!!\n"
     ]
    }
   ],
   "source": [
    "class Cat(Animal):\n",
    "    def __init__(self,name,age,num_legs,breed):\n",
    "        # Take the common features, pass it to animal ==> super()\n",
    "        super().__init__(name,age,num_legs)\n",
    "        \n",
    "        self.breed = breed\n",
    "        #we can create instance variable even though they are not in argument\n",
    "        self.type = \"Cat\"\n",
    "        \n",
    "    def __str__(self): #cannot do print, always return string\n",
    "        return f\"{self.type}: {self.name}, Breed: {self.breed}\"\n",
    "     \n",
    "        \n",
    "    def talk(self):\n",
    "        print(f\"{self.name} says mew!!!\")\n",
    "        \n",
    "        \n",
    "c1 = Cat(\"nami\", age=5, num_legs=4, breed=\"Persian\")\n",
    "print(c1)\n",
    "c1.talk()\n"
   ]
  },
  {
   "cell_type": "code",
   "execution_count": 38,
   "id": "eb053444",
   "metadata": {},
   "outputs": [
    {
     "name": "stdout",
     "output_type": "stream",
     "text": [
      "True\n"
     ]
    }
   ],
   "source": [
    "print(isinstance(d1,Animal)) #to check d1 inherit from Animal"
   ]
  },
  {
   "cell_type": "code",
   "execution_count": 41,
   "id": "cbe514df",
   "metadata": {},
   "outputs": [
    {
     "name": "stdout",
     "output_type": "stream",
     "text": [
      "True\n"
     ]
    }
   ],
   "source": [
    "print(isinstance(d1,Dog))"
   ]
  },
  {
   "cell_type": "markdown",
   "id": "4931b4d0",
   "metadata": {},
   "source": [
    "**Decorators:**  \n",
    "- Used to implement particular behaviour for our classes.\n",
    "- some of the decorators we are seeing is,  \n",
    "    1. **property**- acts like an instance variable, no need to call like function.\n",
    "    2. **static method**- Directly called from the class.\n",
    "    3. **class method**- Return a new instance of the class.\n",
    "    4. **getter & setter** - used for Data Encapsulation"
   ]
  },
  {
   "cell_type": "code",
   "execution_count": 57,
   "id": "523f315b",
   "metadata": {},
   "outputs": [],
   "source": [
    "#to create different roles. \n",
    "\"\"\"\n",
    "whenever we create new class we want dynamically give each person their\n",
    "salary according to their role(staff,manager,assosciate etc.)\n",
    "\n",
    "The best option to achieve it using ENUM\n",
    "\n",
    "\"\"\"\n",
    "from datetime import datetime\n",
    "from enum import Enum, auto\n",
    "\n",
    "class Role(Enum):\n",
    "    \"\"\"Role for staff members\"\"\"\n",
    "    ASSOCIATE = auto()\n",
    "    SUPERVISOR = auto()\n",
    "    MANAGER = auto()"
   ]
  },
  {
   "cell_type": "code",
   "execution_count": 53,
   "id": "fbdb1826",
   "metadata": {},
   "outputs": [
    {
     "name": "stdout",
     "output_type": "stream",
     "text": [
      "Person: Justin P.Oommen\n",
      "Justin P.Oommen\n"
     ]
    }
   ],
   "source": [
    "class Person:\n",
    "    def __init__(self,fname,lname):\n",
    "        self.fname = fname\n",
    "        self.lname = lname\n",
    "        \n",
    "    def __str__(self):\n",
    "        return f\"Person: {self.fname} {self.lname}\"\n",
    "    \n",
    "    #just like our instance variable\n",
    "    @property \n",
    "    def fullname(self):\n",
    "        return f\"{self.fname} {self.lname}\"\n",
    "    \n",
    "p1 = Person(\"Justin\", \"P.Oommen\")\n",
    "print(p1) \n",
    "print(p1.fullname) #no () with fullname because it is like an instance variable.\n"
   ]
  },
  {
   "cell_type": "code",
   "execution_count": 65,
   "id": "8f7e36ed",
   "metadata": {},
   "outputs": [
    {
     "name": "stdout",
     "output_type": "stream",
     "text": [
      "Staff ==> Name: Nikhil Mohan, ID: 1234\n"
     ]
    }
   ],
   "source": [
    "class Staff(Person):\n",
    "    def __init__(self,fname,lname,staff_id,role):\n",
    "        super().__init__(fname,lname)\n",
    "        self.staff_id =staff_id\n",
    "        self.is_staff = True\n",
    "        self.role = role\n",
    "        #Private member\n",
    "        self._date_joined = datetime.now() #underscore before means it is private member\n",
    "    \n",
    "    def __str__(self):\n",
    "            \n",
    "        return f\"Staff ==> Name: {self.fullname}, ID: {self.staff_id}\"\n",
    "        \n",
    "\n",
    "s = Staff(\"Nikhil\",\"Mohan\",1234,Role.MANAGER)\n",
    "print(s)\n",
    "        "
   ]
  },
  {
   "cell_type": "code",
   "execution_count": 66,
   "id": "b655e614",
   "metadata": {},
   "outputs": [
    {
     "data": {
      "text/plain": [
       "'\\nFrom Person we can create an another class \\nSuppose we want to create new Staff class from Exixting Person\\n'"
      ]
     },
     "execution_count": 66,
     "metadata": {},
     "output_type": "execute_result"
    }
   ],
   "source": [
    "\"\"\"\n",
    "From Person we can create an another class \n",
    "Suppose we want to create new Staff class from Exixting Person\n",
    "\"\"\""
   ]
  },
  {
   "cell_type": "code",
   "execution_count": null,
   "id": "fad6a57f",
   "metadata": {},
   "outputs": [],
   "source": []
  }
 ],
 "metadata": {
  "kernelspec": {
   "display_name": "Python 3 (ipykernel)",
   "language": "python",
   "name": "python3"
  },
  "language_info": {
   "codemirror_mode": {
    "name": "ipython",
    "version": 3
   },
   "file_extension": ".py",
   "mimetype": "text/x-python",
   "name": "python",
   "nbconvert_exporter": "python",
   "pygments_lexer": "ipython3",
   "version": "3.8.10"
  }
 },
 "nbformat": 4,
 "nbformat_minor": 5
}
