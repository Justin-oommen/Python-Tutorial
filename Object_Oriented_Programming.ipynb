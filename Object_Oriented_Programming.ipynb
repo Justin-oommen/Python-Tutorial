{
 "cells": [
  {
   "cell_type": "markdown",
   "id": "9bb806de",
   "metadata": {},
   "source": [
    "# Object Oriented Programming"
   ]
  },
  {
   "cell_type": "markdown",
   "id": "b2873c6c",
   "metadata": {},
   "source": [
    "1. Class:  \n",
    "\n",
    "    - Class are just like a buliding blueprint. They provide specific instructions of how to construct a building.\n",
    "    - __ main __ simply means main file, this is a convention.  \n",
    "      whenever we execute some module python, python names the main module as '__ main __'.\n",
    "    - The first function inside our class always has to be special class\n",
    "      __ init __ . The first argument should always be **self**. **This method return nothing**. It act as reference.\n",
    "     - __ repe__ --> **Returns a string**. Official representation of class.\n",
    "     - __ str__  -->  String representation of an instance\n",
    "     \n",
    "     - p1,p2 are instance of class Person. Instance is an object of type class."
   ]
  },
  {
   "cell_type": "code",
   "execution_count": 2,
   "id": "9d7c9f0e",
   "metadata": {},
   "outputs": [
    {
     "name": "stdout",
     "output_type": "stream",
     "text": [
      "<class '__main__.SomeClass'>\n"
     ]
    }
   ],
   "source": [
    "class SomeClass:\n",
    "    \"\"\"Defines empty class\"\"\"\n",
    "    \n",
    "    pass\n",
    "\n",
    "print(SomeClass)"
   ]
  },
  {
   "cell_type": "code",
   "execution_count": 15,
   "id": "7e89dc6b",
   "metadata": {},
   "outputs": [
    {
     "name": "stdout",
     "output_type": "stream",
     "text": [
      "Person: Justin P.Oommen\n",
      "Person: Nikhil Mohan\n",
      "Justin\n",
      "Nikhil\n",
      "Hi Justin\n",
      "Hi Nikhil\n"
     ]
    }
   ],
   "source": [
    "class Person:\n",
    "    \"\"\"Defines a person\"\"\"\n",
    "    def __init__(self,first_name, last_name):\n",
    "        self.first_name = first_name #creating an instance variable\n",
    "        self.last_name = last_name\n",
    "    \n",
    "    def __repr__(self):\n",
    "        return '<class  \"Person\">'\n",
    "    \n",
    "    def __str__(self):\n",
    "        return f\"Person: {self.first_name} {self.last_name}\"\n",
    "    #This is method\n",
    "    def greet(self):\n",
    "        print(f\"Hi {self.first_name}\")\n",
    "    \n",
    "p1 = Person(\"Justin\", \"P.Oommen\")\n",
    "p2 = Person(\"Nikhil\", \"Mohan\")\n",
    "print(p1)\n",
    "print(p2)\n",
    "print(p1.first_name)\n",
    "print(p2.first_name)\n",
    "p1.greet()\n",
    "p2.greet()"
   ]
  },
  {
   "cell_type": "code",
   "execution_count": 13,
   "id": "b01f54ec",
   "metadata": {},
   "outputs": [
    {
     "name": "stdout",
     "output_type": "stream",
     "text": [
      "Value: 2, Error: 0.003\n"
     ]
    }
   ],
   "source": [
    "class Datum:\n",
    "    \n",
    "    def __init__(self,value,error):\n",
    "        self.value = value\n",
    "        self.error = error\n",
    "        \n",
    "    def __repr__(self):\n",
    "        return 'class<class \"Datum\">'\n",
    "    \n",
    "    def __str__(self):\n",
    "        return f\"Value: {self.value}, Error: {self.error}\"\n",
    "    \n",
    "d1 = Datum(2,0.003)\n",
    "print(d1)"
   ]
  },
  {
   "cell_type": "markdown",
   "id": "2247fdf3",
   "metadata": {},
   "source": [
    "- **We can use init,repr,str and others as regular functions** - Not RECOMMENDED"
   ]
  },
  {
   "cell_type": "code",
   "execution_count": 17,
   "id": "ee2b2e01",
   "metadata": {},
   "outputs": [
    {
     "name": "stdout",
     "output_type": "stream",
     "text": [
      "<class  \"Person\">\n",
      "Person: Justin P.Oommen\n",
      "class<class \"Datum\">\n",
      "Value: 2, Error: 0.003\n"
     ]
    }
   ],
   "source": [
    "print(p1.__repr__())\n",
    "print(p1.__str__())\n",
    "print(d1.__repr__())\n",
    "print(d1.__str__())"
   ]
  },
  {
   "cell_type": "markdown",
   "id": "f9143f3b",
   "metadata": {},
   "source": [
    "#### Game - characters to class"
   ]
  },
  {
   "cell_type": "code",
   "execution_count": 22,
   "id": "c5a96a0f",
   "metadata": {},
   "outputs": [
    {
     "name": "stdout",
     "output_type": "stream",
     "text": [
      "Name: Thanos, Attack Power: 1500, Life: 1000\n",
      "Name: Redskull, Attack Power: 800, Life: 500\n",
      "Name: Ironman, Attack Power: 1500, Life: 900\n",
      "Name: Spiderman, Attack Power: 1000, Life: 700\n"
     ]
    }
   ],
   "source": [
    "class Character:\n",
    "    #constructor\n",
    "    def __init__(self,name,attack_power,life):\n",
    "        self.name = name\n",
    "        self.attack_power = attack_power\n",
    "        self.life = life\n",
    "        \n",
    "    def __repr__(self):\n",
    "        return 'class <\"Character\">'\n",
    "    \n",
    "    def __str__(self):\n",
    "        return f\"Name: {self.name}, Attack Power: {self.attack_power}, Life: {self.life}\"\n",
    "    \n",
    "villian_1 = Character(\"Thanos\",1500,1000)\n",
    "print(villian_1)\n",
    "\n",
    "#we can use key-value pairs and the order doesn't matter\n",
    "\n",
    "villian_2 = Character(name= \"Redskull\",attack_power=800, life=500)\n",
    "print(villian_2)\n",
    "\n",
    "hero_1 = Character(name= \"Ironman\",attack_power=1500, life=900)\n",
    "print(hero_1)\n",
    "hero_2 = Character(name= \"Spiderman\",attack_power=1000, life=700)\n",
    "print(hero_2)\n"
   ]
  },
  {
   "cell_type": "markdown",
   "id": "1f667451",
   "metadata": {},
   "source": [
    "**When we need a class:**  \n",
    "\n",
    "Use classess only when we need 'Structure' and 'Behaviour' together.  \n",
    "If we need only structure use any existing data structure such as tuples,list,dictionary etc.  \n",
    "If we need only behaviour, then create a function that transforms our data."
   ]
  },
  {
   "cell_type": "code",
   "execution_count": null,
   "id": "52bd41da",
   "metadata": {},
   "outputs": [],
   "source": []
  }
 ],
 "metadata": {
  "kernelspec": {
   "display_name": "Python 3 (ipykernel)",
   "language": "python",
   "name": "python3"
  },
  "language_info": {
   "codemirror_mode": {
    "name": "ipython",
    "version": 3
   },
   "file_extension": ".py",
   "mimetype": "text/x-python",
   "name": "python",
   "nbconvert_exporter": "python",
   "pygments_lexer": "ipython3",
   "version": "3.8.10"
  }
 },
 "nbformat": 4,
 "nbformat_minor": 5
}
