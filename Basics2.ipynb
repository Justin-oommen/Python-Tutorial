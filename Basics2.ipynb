{
 "cells": [
  {
   "cell_type": "markdown",
   "id": "51aac1fb",
   "metadata": {},
   "source": [
    "# Variables"
   ]
  },
  {
   "cell_type": "markdown",
   "id": "cde4241c",
   "metadata": {},
   "source": [
    "We can make variables to store values or strings"
   ]
  },
  {
   "cell_type": "code",
   "execution_count": 3,
   "id": "19ef63ad",
   "metadata": {},
   "outputs": [],
   "source": [
    "x = 10"
   ]
  },
  {
   "cell_type": "code",
   "execution_count": 4,
   "id": "d4f5e9e4",
   "metadata": {},
   "outputs": [
    {
     "data": {
      "text/plain": [
       "10"
      ]
     },
     "execution_count": 4,
     "metadata": {},
     "output_type": "execute_result"
    }
   ],
   "source": [
    "x"
   ]
  },
  {
   "cell_type": "code",
   "execution_count": 5,
   "id": "19d065f6",
   "metadata": {},
   "outputs": [],
   "source": [
    "x = 3"
   ]
  },
  {
   "cell_type": "code",
   "execution_count": 6,
   "id": "62b2549e",
   "metadata": {},
   "outputs": [
    {
     "data": {
      "text/plain": [
       "3"
      ]
     },
     "execution_count": 6,
     "metadata": {},
     "output_type": "execute_result"
    }
   ],
   "source": [
    "x"
   ]
  },
  {
   "cell_type": "code",
   "execution_count": 7,
   "id": "a075869b",
   "metadata": {},
   "outputs": [
    {
     "data": {
      "text/plain": [
       "9"
      ]
     },
     "execution_count": 7,
     "metadata": {},
     "output_type": "execute_result"
    }
   ],
   "source": [
    "x**2"
   ]
  },
  {
   "cell_type": "code",
   "execution_count": 8,
   "id": "5a80eacd",
   "metadata": {},
   "outputs": [],
   "source": [
    "x = 'cat'"
   ]
  },
  {
   "cell_type": "code",
   "execution_count": 9,
   "id": "fee620bd",
   "metadata": {},
   "outputs": [
    {
     "data": {
      "text/plain": [
       "'cat'"
      ]
     },
     "execution_count": 9,
     "metadata": {},
     "output_type": "execute_result"
    }
   ],
   "source": [
    "x"
   ]
  },
  {
   "cell_type": "markdown",
   "id": "501fffe4",
   "metadata": {},
   "source": [
    "Suppose we want to insert something in between the string cat.\n",
    "For example: cat--> cast\n",
    "We do that using the following syntax with {} and format() function. So whatever we puth inside the format() function it will be added to the string using the curly brackets."
   ]
  },
  {
   "cell_type": "code",
   "execution_count": 10,
   "id": "5f52820e",
   "metadata": {},
   "outputs": [],
   "source": [
    "x = 'ca{}t'.format('s')"
   ]
  },
  {
   "cell_type": "code",
   "execution_count": 11,
   "id": "f80a0b75",
   "metadata": {},
   "outputs": [
    {
     "data": {
      "text/plain": [
       "'cast'"
      ]
     },
     "execution_count": 11,
     "metadata": {},
     "output_type": "execute_result"
    }
   ],
   "source": [
    "x"
   ]
  },
  {
   "cell_type": "code",
   "execution_count": 12,
   "id": "9da2582f",
   "metadata": {},
   "outputs": [],
   "source": [
    "age = 24.9993"
   ]
  },
  {
   "cell_type": "code",
   "execution_count": 13,
   "id": "c3c868e7",
   "metadata": {},
   "outputs": [],
   "source": [
    "x = 'I am {} years old'.format(age)"
   ]
  },
  {
   "cell_type": "code",
   "execution_count": 14,
   "id": "88d73f37",
   "metadata": {},
   "outputs": [
    {
     "data": {
      "text/plain": [
       "'I am 24.9993 years old'"
      ]
     },
     "execution_count": 14,
     "metadata": {},
     "output_type": "execute_result"
    }
   ],
   "source": [
    "x"
   ]
  },
  {
   "cell_type": "markdown",
   "id": "afcfb20e",
   "metadata": {},
   "source": [
    "We can select how many decimal points we want to display.\n",
    "(:.2f)---> 2 decimal points\n",
    "(:0f)---> 0 decimal points"
   ]
  },
  {
   "cell_type": "code",
   "execution_count": 15,
   "id": "804dbd9a",
   "metadata": {},
   "outputs": [],
   "source": [
    "x = 'I am {:2f} years old'.format(age)"
   ]
  },
  {
   "cell_type": "code",
   "execution_count": 16,
   "id": "544bf83c",
   "metadata": {},
   "outputs": [
    {
     "data": {
      "text/plain": [
       "'I am 24.999300 years old'"
      ]
     },
     "execution_count": 16,
     "metadata": {},
     "output_type": "execute_result"
    }
   ],
   "source": [
    "x"
   ]
  },
  {
   "cell_type": "code",
   "execution_count": 17,
   "id": "b051bee8",
   "metadata": {},
   "outputs": [],
   "source": [
    "x = 'I am {:.2f} years old'.format(age)"
   ]
  },
  {
   "cell_type": "code",
   "execution_count": 18,
   "id": "96158695",
   "metadata": {},
   "outputs": [
    {
     "data": {
      "text/plain": [
       "'I am 25.00 years old'"
      ]
     },
     "execution_count": 18,
     "metadata": {},
     "output_type": "execute_result"
    }
   ],
   "source": [
    "x"
   ]
  },
  {
   "cell_type": "markdown",
   "id": "e8416197",
   "metadata": {},
   "source": [
    "### Following is the four FUNDAMENTAL BUILDING BLOCKS of Python"
   ]
  },
  {
   "cell_type": "markdown",
   "id": "6d8175a2",
   "metadata": {},
   "source": [
    "## Lists, Tuples, Dictionaries, Arrays"
   ]
  },
  {
   "cell_type": "markdown",
   "id": "d154e3d7",
   "metadata": {},
   "source": [
    "List"
   ]
  },
  {
   "cell_type": "markdown",
   "id": "582770a2",
   "metadata": {},
   "source": [
    "Collection of objects"
   ]
  },
  {
   "cell_type": "markdown",
   "id": "ca6aee3c",
   "metadata": {},
   "source": [
    "- Doesn't have to be same data types\n",
    "- List can be inside a list\n",
    "- syntax --> x = [ ]"
   ]
  },
  {
   "cell_type": "code",
   "execution_count": 39,
   "id": "9067ffbd",
   "metadata": {},
   "outputs": [],
   "source": [
    "x = [1, 2, 3, 4, 'cat', 'luffy']"
   ]
  },
  {
   "cell_type": "code",
   "execution_count": 40,
   "id": "ade4302e",
   "metadata": {},
   "outputs": [
    {
     "data": {
      "text/plain": [
       "[1, 2, 3, 4, 'cat', 'luffy']"
      ]
     },
     "execution_count": 40,
     "metadata": {},
     "output_type": "execute_result"
    }
   ],
   "source": [
    "x"
   ]
  },
  {
   "cell_type": "code",
   "execution_count": 50,
   "id": "770caa79",
   "metadata": {},
   "outputs": [],
   "source": [
    "y = ['anime', 10]"
   ]
  },
  {
   "cell_type": "code",
   "execution_count": 51,
   "id": "3581b57a",
   "metadata": {},
   "outputs": [
    {
     "data": {
      "text/plain": [
       "['anime', 10]"
      ]
     },
     "execution_count": 51,
     "metadata": {},
     "output_type": "execute_result"
    }
   ],
   "source": [
    "y"
   ]
  },
  {
   "cell_type": "code",
   "execution_count": 5,
   "id": "1799be41",
   "metadata": {},
   "outputs": [],
   "source": [
    "y = [y,x]"
   ]
  },
  {
   "cell_type": "code",
   "execution_count": 6,
   "id": "ac988627",
   "metadata": {},
   "outputs": [
    {
     "data": {
      "text/plain": [
       "[['anime', 10], [1, 2, 3, 4, 'cat', 'luffy']]"
      ]
     },
     "execution_count": 6,
     "metadata": {},
     "output_type": "execute_result"
    }
   ],
   "source": [
    "y"
   ]
  },
  {
   "cell_type": "markdown",
   "id": "40f88b2b",
   "metadata": {},
   "source": [
    "- Suppose we have a list and we want certain element of list.\n",
    "      - So we have to index our list, start from 0"
   ]
  },
  {
   "cell_type": "code",
   "execution_count": 7,
   "id": "e714fdac",
   "metadata": {},
   "outputs": [
    {
     "data": {
      "text/plain": [
       "3"
      ]
     },
     "execution_count": 7,
     "metadata": {},
     "output_type": "execute_result"
    }
   ],
   "source": [
    "x[2]"
   ]
  },
  {
   "cell_type": "code",
   "execution_count": 8,
   "id": "d49ea4dd",
   "metadata": {},
   "outputs": [
    {
     "data": {
      "text/plain": [
       "'luffy'"
      ]
     },
     "execution_count": 8,
     "metadata": {},
     "output_type": "execute_result"
    }
   ],
   "source": [
    "x[5]"
   ]
  },
  {
   "cell_type": "code",
   "execution_count": 10,
   "id": "b5b3183f",
   "metadata": {},
   "outputs": [
    {
     "data": {
      "text/plain": [
       "[1, 2, 3, 4, 'cat', 'luffy']"
      ]
     },
     "execution_count": 10,
     "metadata": {},
     "output_type": "execute_result"
    }
   ],
   "source": [
    "y[1]"
   ]
  },
  {
   "cell_type": "code",
   "execution_count": 12,
   "id": "62306d22",
   "metadata": {},
   "outputs": [
    {
     "data": {
      "text/plain": [
       "['anime', 10]"
      ]
     },
     "execution_count": 12,
     "metadata": {},
     "output_type": "execute_result"
    }
   ],
   "source": [
    "y[0]"
   ]
  },
  {
   "cell_type": "code",
   "execution_count": 14,
   "id": "86038422",
   "metadata": {},
   "outputs": [
    {
     "data": {
      "text/plain": [
       "'anime'"
      ]
     },
     "execution_count": 14,
     "metadata": {},
     "output_type": "execute_result"
    }
   ],
   "source": [
    "y[0][0]\n"
   ]
  },
  {
   "cell_type": "code",
   "execution_count": 15,
   "id": "08ce1cfe",
   "metadata": {},
   "outputs": [
    {
     "data": {
      "text/plain": [
       "10"
      ]
     },
     "execution_count": 15,
     "metadata": {},
     "output_type": "execute_result"
    }
   ],
   "source": [
    "y[0][1]"
   ]
  },
  {
   "cell_type": "code",
   "execution_count": 16,
   "id": "ac482456",
   "metadata": {},
   "outputs": [
    {
     "data": {
      "text/plain": [
       "'luffy'"
      ]
     },
     "execution_count": 16,
     "metadata": {},
     "output_type": "execute_result"
    }
   ],
   "source": [
    "y[1][5]"
   ]
  },
  {
   "cell_type": "markdown",
   "id": "efa63cdb",
   "metadata": {},
   "source": []
  },
  {
   "cell_type": "markdown",
   "id": "9506f83e",
   "metadata": {},
   "source": [
    "#### Tuples"
   ]
  },
  {
   "cell_type": "markdown",
   "id": "42f20d47",
   "metadata": {},
   "source": [
    "- Same as a list \n",
    "- The difference is list is mutable and a tuple is immutable means that elements of a list can be modified and tuple cannot."
   ]
  },
  {
   "cell_type": "code",
   "execution_count": 38,
   "id": "8aeabc1f",
   "metadata": {},
   "outputs": [
    {
     "data": {
      "text/plain": [
       "array([1, 2, 3, 4])"
      ]
     },
     "execution_count": 38,
     "metadata": {},
     "output_type": "execute_result"
    }
   ],
   "source": [
    "x"
   ]
  },
  {
   "cell_type": "markdown",
   "id": "102d102f",
   "metadata": {},
   "source": [
    "This is an example, we can look at the above list and by mutable means we can modify the element 'luffy' with another string"
   ]
  },
  {
   "cell_type": "code",
   "execution_count": 18,
   "id": "e0a1169b",
   "metadata": {},
   "outputs": [],
   "source": [
    "x[5] = 'naruto'"
   ]
  },
  {
   "cell_type": "code",
   "execution_count": 19,
   "id": "824fcd3f",
   "metadata": {},
   "outputs": [
    {
     "data": {
      "text/plain": [
       "[1, 2, 3, 4, 'cat', 'naruto']"
      ]
     },
     "execution_count": 19,
     "metadata": {},
     "output_type": "execute_result"
    }
   ],
   "source": [
    "x"
   ]
  },
  {
   "cell_type": "markdown",
   "id": "e494aace",
   "metadata": {},
   "source": [
    "As you can see above the list is modified"
   ]
  },
  {
   "cell_type": "markdown",
   "id": "9207abe3",
   "metadata": {},
   "source": [
    "###### Now let's look at the case of tuple. Notice tuple is defined using open brackets()"
   ]
  },
  {
   "cell_type": "code",
   "execution_count": 35,
   "id": "767e75cc",
   "metadata": {},
   "outputs": [],
   "source": [
    "l = (1,2,3,4,'cat','luffy')"
   ]
  },
  {
   "cell_type": "code",
   "execution_count": 36,
   "id": "977be4db",
   "metadata": {},
   "outputs": [
    {
     "data": {
      "text/plain": [
       "(1, 2, 3, 4, 'cat', 'luffy')"
      ]
     },
     "execution_count": 36,
     "metadata": {},
     "output_type": "execute_result"
    }
   ],
   "source": [
    "l"
   ]
  },
  {
   "cell_type": "markdown",
   "id": "f06534c4",
   "metadata": {},
   "source": [
    "Now let's try to modify the same element as before and see what happens"
   ]
  },
  {
   "cell_type": "code",
   "execution_count": 37,
   "id": "276691bc",
   "metadata": {},
   "outputs": [
    {
     "ename": "TypeError",
     "evalue": "'tuple' object does not support item assignment",
     "output_type": "error",
     "traceback": [
      "\u001b[0;31m---------------------------------------------------------------------------\u001b[0m",
      "\u001b[0;31mTypeError\u001b[0m                                 Traceback (most recent call last)",
      "Input \u001b[0;32mIn [37]\u001b[0m, in \u001b[0;36m<module>\u001b[0;34m\u001b[0m\n\u001b[0;32m----> 1\u001b[0m l[\u001b[38;5;241m5\u001b[39m]\u001b[38;5;241m=\u001b[39m \u001b[38;5;124m'\u001b[39m\u001b[38;5;124mnaruto\u001b[39m\u001b[38;5;124m'\u001b[39m\n",
      "\u001b[0;31mTypeError\u001b[0m: 'tuple' object does not support item assignment"
     ]
    }
   ],
   "source": [
    "l[5]= 'naruto'"
   ]
  },
  {
   "cell_type": "markdown",
   "id": "9587c320",
   "metadata": {},
   "source": [
    "So here the error says that tuple doesn't support element assignment and therefore it is immutable"
   ]
  },
  {
   "cell_type": "markdown",
   "id": "4e21ec1b",
   "metadata": {},
   "source": []
  },
  {
   "cell_type": "markdown",
   "id": "2a814f98",
   "metadata": {},
   "source": [
    "### Dictionary"
   ]
  },
  {
   "cell_type": "markdown",
   "id": "1fcd8da1",
   "metadata": {},
   "source": [
    "- Like list and tuple \n",
    "- But it is KEYED. ie, give me the key and it will the object we want."
   ]
  },
  {
   "cell_type": "markdown",
   "id": "dabcb207",
   "metadata": {},
   "source": [
    "#### Defined using curly brackets"
   ]
  },
  {
   "cell_type": "markdown",
   "id": "a432afcc",
   "metadata": {},
   "source": [
    "#### {key:object}"
   ]
  },
  {
   "cell_type": "code",
   "execution_count": 23,
   "id": "c54b5710",
   "metadata": {},
   "outputs": [],
   "source": [
    "d = {'cat':'animal', 'Husky':'Dog', 100:'number'}"
   ]
  },
  {
   "cell_type": "code",
   "execution_count": 24,
   "id": "d3207029",
   "metadata": {},
   "outputs": [
    {
     "data": {
      "text/plain": [
       "'number'"
      ]
     },
     "execution_count": 24,
     "metadata": {},
     "output_type": "execute_result"
    }
   ],
   "source": [
    "d[100]"
   ]
  },
  {
   "cell_type": "code",
   "execution_count": 26,
   "id": "6062d7f2",
   "metadata": {},
   "outputs": [
    {
     "data": {
      "text/plain": [
       "'animal'"
      ]
     },
     "execution_count": 26,
     "metadata": {},
     "output_type": "execute_result"
    }
   ],
   "source": [
    "d['cat']"
   ]
  },
  {
   "cell_type": "code",
   "execution_count": 28,
   "id": "df8f78c7",
   "metadata": {},
   "outputs": [
    {
     "data": {
      "text/plain": [
       "'Dog'"
      ]
     },
     "execution_count": 28,
     "metadata": {},
     "output_type": "execute_result"
    }
   ],
   "source": [
    "d['Husky']"
   ]
  },
  {
   "cell_type": "markdown",
   "id": "d9449307",
   "metadata": {},
   "source": []
  },
  {
   "cell_type": "markdown",
   "id": "2bb673fe",
   "metadata": {},
   "source": [
    "### Arryas"
   ]
  },
  {
   "cell_type": "markdown",
   "id": "9e025715",
   "metadata": {},
   "source": [
    "- A part of the package known as numpy\n",
    "- In order to use a package we do as\n",
    "    - import numpy as np\n",
    "    - In order to use the functions of the package numpy we do as,\n",
    "    - np.array([ ])"
   ]
  },
  {
   "cell_type": "code",
   "execution_count": 31,
   "id": "b43c6a8d",
   "metadata": {},
   "outputs": [],
   "source": [
    "import numpy as np"
   ]
  },
  {
   "cell_type": "code",
   "execution_count": 32,
   "id": "4bbe498e",
   "metadata": {},
   "outputs": [
    {
     "data": {
      "text/plain": [
       "<module 'numpy' from '/usr/lib/python3/dist-packages/numpy/__init__.py'>"
      ]
     },
     "execution_count": 32,
     "metadata": {},
     "output_type": "execute_result"
    }
   ],
   "source": [
    "np"
   ]
  },
  {
   "cell_type": "code",
   "execution_count": 42,
   "id": "b7a89c48",
   "metadata": {},
   "outputs": [],
   "source": [
    "#Using the function array of numpy\n",
    "arr = np.array([1,2,3,4])"
   ]
  },
  {
   "cell_type": "code",
   "execution_count": 43,
   "id": "92d5aa73",
   "metadata": {},
   "outputs": [
    {
     "data": {
      "text/plain": [
       "array([1, 2, 3, 4])"
      ]
     },
     "execution_count": 43,
     "metadata": {},
     "output_type": "execute_result"
    }
   ],
   "source": [
    "arr"
   ]
  },
  {
   "cell_type": "markdown",
   "id": "7f79c99d",
   "metadata": {},
   "source": [
    "#### The difference between the list and array"
   ]
  },
  {
   "cell_type": "markdown",
   "id": "01c7603f",
   "metadata": {},
   "source": [
    "Look at the list x"
   ]
  },
  {
   "cell_type": "code",
   "execution_count": 44,
   "id": "8ecaeabc",
   "metadata": {},
   "outputs": [
    {
     "data": {
      "text/plain": [
       "[1, 2, 3, 4, 'cat', 'luffy']"
      ]
     },
     "execution_count": 44,
     "metadata": {},
     "output_type": "execute_result"
    }
   ],
   "source": [
    "x"
   ]
  },
  {
   "cell_type": "markdown",
   "id": "97eb2d4c",
   "metadata": {},
   "source": [
    "We can append elements to the list x using append()"
   ]
  },
  {
   "cell_type": "code",
   "execution_count": 45,
   "id": "6f08c2b2",
   "metadata": {},
   "outputs": [],
   "source": [
    "x.append(5)"
   ]
  },
  {
   "cell_type": "code",
   "execution_count": 46,
   "id": "3b2ef358",
   "metadata": {},
   "outputs": [
    {
     "data": {
      "text/plain": [
       "[1, 2, 3, 4, 'cat', 'luffy', 5]"
      ]
     },
     "execution_count": 46,
     "metadata": {},
     "output_type": "execute_result"
    }
   ],
   "source": [
    "x"
   ]
  },
  {
   "cell_type": "markdown",
   "id": "f4adaa37",
   "metadata": {},
   "source": [
    "IF we multiply by a constant it increases the length of the whole list by that constant"
   ]
  },
  {
   "cell_type": "code",
   "execution_count": 48,
   "id": "04f54da8",
   "metadata": {},
   "outputs": [
    {
     "data": {
      "text/plain": [
       "[1,\n",
       " 2,\n",
       " 3,\n",
       " 4,\n",
       " 'cat',\n",
       " 'luffy',\n",
       " 5,\n",
       " 1,\n",
       " 2,\n",
       " 3,\n",
       " 4,\n",
       " 'cat',\n",
       " 'luffy',\n",
       " 5,\n",
       " 1,\n",
       " 2,\n",
       " 3,\n",
       " 4,\n",
       " 'cat',\n",
       " 'luffy',\n",
       " 5,\n",
       " 1,\n",
       " 2,\n",
       " 3,\n",
       " 4,\n",
       " 'cat',\n",
       " 'luffy',\n",
       " 5,\n",
       " 1,\n",
       " 2,\n",
       " 3,\n",
       " 4,\n",
       " 'cat',\n",
       " 'luffy',\n",
       " 5]"
      ]
     },
     "execution_count": 48,
     "metadata": {},
     "output_type": "execute_result"
    }
   ],
   "source": [
    "x*5"
   ]
  },
  {
   "cell_type": "markdown",
   "id": "00174ba4",
   "metadata": {},
   "source": [
    "If we define another list and use the operation + it just concatenate the to list to one list"
   ]
  },
  {
   "cell_type": "code",
   "execution_count": 52,
   "id": "d981aafd",
   "metadata": {},
   "outputs": [
    {
     "data": {
      "text/plain": [
       "['anime', 10]"
      ]
     },
     "execution_count": 52,
     "metadata": {},
     "output_type": "execute_result"
    }
   ],
   "source": [
    "y"
   ]
  },
  {
   "cell_type": "code",
   "execution_count": 53,
   "id": "74aa380f",
   "metadata": {},
   "outputs": [
    {
     "data": {
      "text/plain": [
       "[1, 2, 3, 4, 'cat', 'luffy', 5, 'anime', 10]"
      ]
     },
     "execution_count": 53,
     "metadata": {},
     "output_type": "execute_result"
    }
   ],
   "source": [
    "x+y"
   ]
  },
  {
   "cell_type": "code",
   "execution_count": 54,
   "id": "022388c1",
   "metadata": {},
   "outputs": [
    {
     "data": {
      "text/plain": [
       "[1,\n",
       " 2,\n",
       " 3,\n",
       " 4,\n",
       " 'cat',\n",
       " 'luffy',\n",
       " 5,\n",
       " 'anime',\n",
       " 10,\n",
       " 1,\n",
       " 2,\n",
       " 3,\n",
       " 4,\n",
       " 'cat',\n",
       " 'luffy',\n",
       " 5,\n",
       " 'anime',\n",
       " 10]"
      ]
     },
     "execution_count": 54,
     "metadata": {},
     "output_type": "execute_result"
    }
   ],
   "source": [
    "2*(x+y)"
   ]
  },
  {
   "cell_type": "markdown",
   "id": "6705a443",
   "metadata": {},
   "source": [
    "#### Now what happens with the arrays are, if we do the operations above it do element wise operation. So it doesn't change the length of the array but rather change the value of elements due the respective operation that we are going to implement"
   ]
  },
  {
   "cell_type": "code",
   "execution_count": 55,
   "id": "5298c108",
   "metadata": {},
   "outputs": [
    {
     "data": {
      "text/plain": [
       "array([1, 2, 3, 4])"
      ]
     },
     "execution_count": 55,
     "metadata": {},
     "output_type": "execute_result"
    }
   ],
   "source": [
    "arr"
   ]
  },
  {
   "cell_type": "code",
   "execution_count": 56,
   "id": "6cb72f02",
   "metadata": {},
   "outputs": [
    {
     "data": {
      "text/plain": [
       "array([2, 4, 6, 8])"
      ]
     },
     "execution_count": 56,
     "metadata": {},
     "output_type": "execute_result"
    }
   ],
   "source": [
    "2*arr"
   ]
  },
  {
   "cell_type": "code",
   "execution_count": 57,
   "id": "e71ba597",
   "metadata": {},
   "outputs": [
    {
     "data": {
      "text/plain": [
       "array([3, 4, 5, 6])"
      ]
     },
     "execution_count": 57,
     "metadata": {},
     "output_type": "execute_result"
    }
   ],
   "source": [
    "2+arr"
   ]
  },
  {
   "cell_type": "code",
   "execution_count": 58,
   "id": "881f07be",
   "metadata": {},
   "outputs": [],
   "source": [
    "a2 = np.array([10,20,30,40])"
   ]
  },
  {
   "cell_type": "code",
   "execution_count": 59,
   "id": "fcbdf96f",
   "metadata": {},
   "outputs": [
    {
     "data": {
      "text/plain": [
       "array([10, 20, 30, 40])"
      ]
     },
     "execution_count": 59,
     "metadata": {},
     "output_type": "execute_result"
    }
   ],
   "source": [
    "a2"
   ]
  },
  {
   "cell_type": "code",
   "execution_count": 60,
   "id": "7ad21eb2",
   "metadata": {},
   "outputs": [
    {
     "data": {
      "text/plain": [
       "array([11, 22, 33, 44])"
      ]
     },
     "execution_count": 60,
     "metadata": {},
     "output_type": "execute_result"
    }
   ],
   "source": [
    "arr+a2"
   ]
  },
  {
   "cell_type": "code",
   "execution_count": 61,
   "id": "79839477",
   "metadata": {},
   "outputs": [
    {
     "data": {
      "text/plain": [
       "array([20, 40, 60, 80])"
      ]
     },
     "execution_count": 61,
     "metadata": {},
     "output_type": "execute_result"
    }
   ],
   "source": [
    "a2*2"
   ]
  },
  {
   "cell_type": "code",
   "execution_count": 62,
   "id": "8f1a42f0",
   "metadata": {},
   "outputs": [
    {
     "data": {
      "text/plain": [
       "array([ 100,  400,  900, 1600])"
      ]
     },
     "execution_count": 62,
     "metadata": {},
     "output_type": "execute_result"
    }
   ],
   "source": [
    "a2**2"
   ]
  },
  {
   "cell_type": "code",
   "execution_count": 63,
   "id": "9bc10b94",
   "metadata": {},
   "outputs": [
    {
     "data": {
      "text/plain": [
       "array([0.1       , 0.05      , 0.03333333, 0.025     ])"
      ]
     },
     "execution_count": 63,
     "metadata": {},
     "output_type": "execute_result"
    }
   ],
   "source": [
    "1/a2"
   ]
  },
  {
   "cell_type": "markdown",
   "id": "2ce70b19",
   "metadata": {},
   "source": [
    "### There are two important ways of creating arrrays with numpy"
   ]
  },
  {
   "cell_type": "markdown",
   "id": "922e699b",
   "metadata": {},
   "source": [
    "1. np.linspace()\n",
    "2. np.arange()"
   ]
  },
  {
   "cell_type": "code",
   "execution_count": 65,
   "id": "fce3cfb0",
   "metadata": {},
   "outputs": [],
   "source": [
    "a3 = np.linspace(0,10,100)"
   ]
  },
  {
   "cell_type": "markdown",
   "id": "c617498b",
   "metadata": {},
   "source": [
    "What this do is to create arrays between 0 to 20 evenly spaced a 100 of them"
   ]
  },
  {
   "cell_type": "code",
   "execution_count": 66,
   "id": "967b9a37",
   "metadata": {},
   "outputs": [
    {
     "data": {
      "text/plain": [
       "array([ 0.        ,  0.1010101 ,  0.2020202 ,  0.3030303 ,  0.4040404 ,\n",
       "        0.50505051,  0.60606061,  0.70707071,  0.80808081,  0.90909091,\n",
       "        1.01010101,  1.11111111,  1.21212121,  1.31313131,  1.41414141,\n",
       "        1.51515152,  1.61616162,  1.71717172,  1.81818182,  1.91919192,\n",
       "        2.02020202,  2.12121212,  2.22222222,  2.32323232,  2.42424242,\n",
       "        2.52525253,  2.62626263,  2.72727273,  2.82828283,  2.92929293,\n",
       "        3.03030303,  3.13131313,  3.23232323,  3.33333333,  3.43434343,\n",
       "        3.53535354,  3.63636364,  3.73737374,  3.83838384,  3.93939394,\n",
       "        4.04040404,  4.14141414,  4.24242424,  4.34343434,  4.44444444,\n",
       "        4.54545455,  4.64646465,  4.74747475,  4.84848485,  4.94949495,\n",
       "        5.05050505,  5.15151515,  5.25252525,  5.35353535,  5.45454545,\n",
       "        5.55555556,  5.65656566,  5.75757576,  5.85858586,  5.95959596,\n",
       "        6.06060606,  6.16161616,  6.26262626,  6.36363636,  6.46464646,\n",
       "        6.56565657,  6.66666667,  6.76767677,  6.86868687,  6.96969697,\n",
       "        7.07070707,  7.17171717,  7.27272727,  7.37373737,  7.47474747,\n",
       "        7.57575758,  7.67676768,  7.77777778,  7.87878788,  7.97979798,\n",
       "        8.08080808,  8.18181818,  8.28282828,  8.38383838,  8.48484848,\n",
       "        8.58585859,  8.68686869,  8.78787879,  8.88888889,  8.98989899,\n",
       "        9.09090909,  9.19191919,  9.29292929,  9.39393939,  9.49494949,\n",
       "        9.5959596 ,  9.6969697 ,  9.7979798 ,  9.8989899 , 10.        ])"
      ]
     },
     "execution_count": 66,
     "metadata": {},
     "output_type": "execute_result"
    }
   ],
   "source": [
    "a3"
   ]
  },
  {
   "cell_type": "code",
   "execution_count": 67,
   "id": "f3a25b00",
   "metadata": {},
   "outputs": [],
   "source": [
    "a4 = np.arange(0,20,2)"
   ]
  },
  {
   "cell_type": "markdown",
   "id": "c84136db",
   "metadata": {},
   "source": [
    "What this do is to create an array between 0 to 20 in steps of 2"
   ]
  },
  {
   "cell_type": "code",
   "execution_count": 68,
   "id": "ecccbbdf",
   "metadata": {},
   "outputs": [
    {
     "data": {
      "text/plain": [
       "array([ 0,  2,  4,  6,  8, 10, 12, 14, 16, 18])"
      ]
     },
     "execution_count": 68,
     "metadata": {},
     "output_type": "execute_result"
    }
   ],
   "source": [
    "a4"
   ]
  },
  {
   "cell_type": "code",
   "execution_count": 69,
   "id": "b0c3d519",
   "metadata": {},
   "outputs": [
    {
     "data": {
      "text/plain": [
       "array([  0,   4,  16,  36,  64, 100, 144, 196, 256, 324])"
      ]
     },
     "execution_count": 69,
     "metadata": {},
     "output_type": "execute_result"
    }
   ],
   "source": [
    "a4**2"
   ]
  },
  {
   "cell_type": "code",
   "execution_count": null,
   "id": "da6809a0",
   "metadata": {},
   "outputs": [],
   "source": []
  },
  {
   "cell_type": "code",
   "execution_count": null,
   "id": "802500a7",
   "metadata": {},
   "outputs": [],
   "source": []
  },
  {
   "cell_type": "markdown",
   "id": "d11cade8",
   "metadata": {},
   "source": [
    "### Plotting"
   ]
  },
  {
   "cell_type": "markdown",
   "id": "488e886c",
   "metadata": {},
   "source": [
    "Main plotting library in Python is matplotlib.pyplot"
   ]
  },
  {
   "cell_type": "code",
   "execution_count": 71,
   "id": "b7f09627",
   "metadata": {},
   "outputs": [],
   "source": [
    "import matplotlib.pyplot as plt"
   ]
  },
  {
   "cell_type": "markdown",
   "id": "3d582714",
   "metadata": {},
   "source": [
    "Now we want to plot y = x^2"
   ]
  },
  {
   "cell_type": "markdown",
   "id": "26949a3c",
   "metadata": {},
   "source": [
    "- Generate x (use an array to create values of x)\n",
    "- square it and save it inside another variable y"
   ]
  },
  {
   "cell_type": "code",
   "execution_count": 73,
   "id": "fe66a787",
   "metadata": {},
   "outputs": [],
   "source": [
    "x = np.linspace(0,2,1000)\n",
    "y = x**2"
   ]
  },
  {
   "cell_type": "code",
   "execution_count": null,
   "id": "686968b6",
   "metadata": {},
   "outputs": [],
   "source": [
    "y"
   ]
  },
  {
   "cell_type": "markdown",
   "id": "f13d96d2",
   "metadata": {},
   "source": [
    "The link to the matplotlib.plot documentation is https://matplotlib.org/3.5.1/api/_as_gen/matplotlib.pyplot.plot.html"
   ]
  },
  {
   "cell_type": "markdown",
   "id": "32586bca",
   "metadata": {},
   "source": [
    "To plot it we use plot() function"
   ]
  },
  {
   "cell_type": "code",
   "execution_count": 76,
   "id": "139d6c0b",
   "metadata": {},
   "outputs": [
    {
     "data": {
      "text/plain": [
       "[<matplotlib.lines.Line2D at 0x7f581d1dd3d0>]"
      ]
     },
     "execution_count": 76,
     "metadata": {},
     "output_type": "execute_result"
    },
    {
     "data": {
      "image/png": "[encoded data removed]",
      "text/plain": [
       "<Figure size 432x288 with 1 Axes>"
      ]
     },
     "metadata": {
      "needs_background": "light"
     },
     "output_type": "display_data"
    }
   ],
   "source": [
    "plt.plot(x,y)"
   ]
  },
  {
   "cell_type": "markdown",
   "id": "1377b1fb",
   "metadata": {},
   "source": [
    "For different style\n",
    "- color\n",
    "    - red = r\n",
    "- points\n",
    "    - round = o\n",
    "- line\n",
    "    - doted = --"
   ]
  },
  {
   "cell_type": "code",
   "execution_count": 79,
   "id": "150dfa38",
   "metadata": {},
   "outputs": [],
   "source": [
    "x = np.linspace(0,2,10)\n",
    "y = x**2"
   ]
  },
  {
   "cell_type": "code",
   "execution_count": 80,
   "id": "493f2019",
   "metadata": {},
   "outputs": [
    {
     "data": {
      "text/plain": [
       "[<matplotlib.lines.Line2D at 0x7f581d09f190>]"
      ]
     },
     "execution_count": 80,
     "metadata": {},
     "output_type": "execute_result"
    },
    {
     "data": {
      "image/png": "[encoded data removed]",
      "text/plain": [
       "<Figure size 432x288 with 1 Axes>"
      ]
     },
     "metadata": {
      "needs_background": "light"
     },
     "output_type": "display_data"
    }
   ],
   "source": [
    "plt.plot(x,y,'ro--')"
   ]
  },
  {
   "cell_type": "code",
   "execution_count": 81,
   "id": "08603207",
   "metadata": {},
   "outputs": [
    {
     "data": {
      "text/plain": [
       "[<matplotlib.lines.Line2D at 0x7f581d079bb0>]"
      ]
     },
     "execution_count": 81,
     "metadata": {},
     "output_type": "execute_result"
    },
    {
     "data": {
      "image/png": "[encoded data removed]",
      "text/plain": [
       "<Figure size 432x288 with 1 Axes>"
      ]
     },
     "metadata": {
      "needs_background": "light"
     },
     "output_type": "display_data"
    }
   ],
   "source": [
    "plt.plot(x,y,'bo--') #for blue circle"
   ]
  },
  {
   "cell_type": "code",
   "execution_count": 85,
   "id": "505553a9",
   "metadata": {},
   "outputs": [
    {
     "data": {
      "text/plain": [
       "[<matplotlib.lines.Line2D at 0x7f58124b7f40>]"
      ]
     },
     "execution_count": 85,
     "metadata": {},
     "output_type": "execute_result"
    },
    {
     "data": {
      "image/png": "[encoded data removed]",
      "text/plain": [
       "<Figure size 432x288 with 1 Axes>"
      ]
     },
     "metadata": {
      "needs_background": "light"
     },
     "output_type": "display_data"
    }
   ],
   "source": [
    "plt.plot(x,y,'b+--') #blue+ point"
   ]
  },
  {
   "cell_type": "markdown",
   "id": "9962b6da",
   "metadata": {},
   "source": [
    "For labelling"
   ]
  },
  {
   "cell_type": "code",
   "execution_count": 87,
   "id": "f42a19cf",
   "metadata": {},
   "outputs": [
    {
     "data": {
      "text/plain": [
       "Text(0, 0.5, 'y')"
      ]
     },
     "execution_count": 87,
     "metadata": {},
     "output_type": "execute_result"
    },
    {
     "data": {
      "image/png": "[encoded data removed]",
      "text/plain": [
       "<Figure size 432x288 with 1 Axes>"
      ]
     },
     "metadata": {
      "needs_background": "light"
     },
     "output_type": "display_data"
    }
   ],
   "source": [
    "plt.plot(x,y,'ro--')\n",
    "plt.xlabel('x', fontsize=18)\n",
    "plt.ylabel('y', fontsize=18)"
   ]
  }
 ],
 "metadata": {
  "kernelspec": {
   "display_name": "Python 3 (ipykernel)",
   "language": "python",
   "name": "python3"
  },
  "language_info": {
   "codemirror_mode": {
    "name": "ipython",
    "version": 3
   },
   "file_extension": ".py",
   "mimetype": "text/x-python",
   "name": "python",
   "nbconvert_exporter": "python",
   "pygments_lexer": "ipython3",
   "version": "3.9.5"
  }
 },
 "nbformat": 4,
 "nbformat_minor": 5
}
