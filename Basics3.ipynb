{
 "cells": [
  {
   "cell_type": "markdown",
   "id": "df12c004",
   "metadata": {},
   "source": [
    "# Loops and If Statements"
   ]
  },
  {
   "cell_type": "markdown",
   "id": "e2faa1cf",
   "metadata": {},
   "source": [
    "## For Loops"
   ]
  },
  {
   "cell_type": "markdown",
   "id": "c30abe5a",
   "metadata": {},
   "source": [
    "1. Regular Loop"
   ]
  },
  {
   "cell_type": "code",
   "execution_count": 3,
   "id": "a2f18b95",
   "metadata": {},
   "outputs": [
    {
     "name": "stdout",
     "output_type": "stream",
     "text": [
      "0\n",
      "1\n",
      "2\n",
      "3\n",
      "4\n"
     ]
    }
   ],
   "source": [
    "for i in range(5):\n",
    "    print (i)"
   ]
  },
  {
   "cell_type": "markdown",
   "id": "04f3a364",
   "metadata": {},
   "source": [
    "We can use regular loops many ways. One example is below.\n",
    "- we define an empty list\n",
    "- use for loop and append the list with square of the value in the loop\n",
    "- then print the list"
   ]
  },
  {
   "cell_type": "code",
   "execution_count": 9,
   "id": "d41ad92c",
   "metadata": {},
   "outputs": [
    {
     "name": "stdout",
     "output_type": "stream",
     "text": [
      "0\n",
      "1\n",
      "2\n",
      "3\n",
      "4\n",
      "[0, 1, 4, 9, 16]\n"
     ]
    }
   ],
   "source": [
    "lst =[]\n",
    "for i in range(5):\n",
    "    lst.append(i**2)\n",
    "    print(i)\n",
    "    #print(lst)\n",
    "#print(i)\n",
    "print(lst)"
   ]
  },
  {
   "cell_type": "markdown",
   "id": "e381f1a5",
   "metadata": {},
   "source": [
    "2. List loop"
   ]
  },
  {
   "cell_type": "markdown",
   "id": "240b7d91",
   "metadata": {},
   "source": [
    "- This is when we have a list and we can loop through the items of the loop"
   ]
  },
  {
   "cell_type": "code",
   "execution_count": 13,
   "id": "b6d295ab",
   "metadata": {},
   "outputs": [
    {
     "name": "stdout",
     "output_type": "stream",
     "text": [
      "naruto\n",
      "yuji\n",
      "luffy\n",
      "ichigo\n"
     ]
    }
   ],
   "source": [
    "lst2 = ['naruto', 'yuji', 'luffy', 'ichigo']\n",
    "for item in lst2:\n",
    "    print(item)"
   ]
  },
  {
   "cell_type": "markdown",
   "id": "ae19724c",
   "metadata": {},
   "source": [
    "3. Enumeration Loop\n",
    "    \n",
    "    - Combination of 1 and 2\n",
    "    - we can get the index and the item"
   ]
  },
  {
   "cell_type": "code",
   "execution_count": 17,
   "id": "3bfa674c",
   "metadata": {},
   "outputs": [
    {
     "name": "stdout",
     "output_type": "stream",
     "text": [
      "Index 0 contains naruto\n",
      "Index 1 contains yuji\n",
      "Index 2 contains luffy\n",
      "Index 3 contains ichigo\n"
     ]
    }
   ],
   "source": [
    "for i, item in enumerate(lst2):\n",
    "    print('Index {} contains {}'.format(i,item))"
   ]
  },
  {
   "cell_type": "markdown",
   "id": "855ffc74",
   "metadata": {},
   "source": [
    "4. List Comprehension loop\n",
    "    \n",
    "    - Does exact same thing in 1 but in compact mode\n",
    "    - This is important(learn it well) we use comprehension whenever we can"
   ]
  },
  {
   "cell_type": "code",
   "execution_count": 20,
   "id": "5ae12d84",
   "metadata": {},
   "outputs": [
    {
     "name": "stdout",
     "output_type": "stream",
     "text": [
      "[0, 1, 4, 9, 16, 25, 36, 49, 64, 81]\n"
     ]
    }
   ],
   "source": [
    "lst4 = [i**2 for i in range(10)]\n",
    "print(lst4)"
   ]
  },
  {
   "cell_type": "markdown",
   "id": "cdf48b65",
   "metadata": {},
   "source": [
    "\n",
    "5. Doube for loop\n",
    "    \n",
    "    - loop inside loop"
   ]
  },
  {
   "cell_type": "code",
   "execution_count": 21,
   "id": "43f8dc4a",
   "metadata": {},
   "outputs": [
    {
     "name": "stdout",
     "output_type": "stream",
     "text": [
      "i = 0 , j = 0\n",
      "i = 0 , j = 1\n",
      "i = 0 , j = 2\n",
      "i = 0 , j = 3\n",
      "i = 0 , j = 4\n",
      "i = 1 , j = 0\n",
      "i = 1 , j = 1\n",
      "i = 1 , j = 2\n",
      "i = 1 , j = 3\n",
      "i = 1 , j = 4\n",
      "i = 2 , j = 0\n",
      "i = 2 , j = 1\n",
      "i = 2 , j = 2\n",
      "i = 2 , j = 3\n",
      "i = 2 , j = 4\n",
      "i = 3 , j = 0\n",
      "i = 3 , j = 1\n",
      "i = 3 , j = 2\n",
      "i = 3 , j = 3\n",
      "i = 3 , j = 4\n",
      "i = 4 , j = 0\n",
      "i = 4 , j = 1\n",
      "i = 4 , j = 2\n",
      "i = 4 , j = 3\n",
      "i = 4 , j = 4\n"
     ]
    }
   ],
   "source": [
    "for i in range(5):\n",
    "    for j in range(5):\n",
    "        print('i = {} , j = {}'.format(i,j))\n",
    "    "
   ]
  },
  {
   "cell_type": "markdown",
   "id": "c77f3073",
   "metadata": {},
   "source": [
    "## Booleans and if Statements"
   ]
  },
  {
   "cell_type": "markdown",
   "id": "64d252a6",
   "metadata": {},
   "source": [
    "1. Booleans\n",
    "\n",
    "    - Take values true or false\n",
    "    - we can do formal logic\n",
    "    - or\n",
    "    - and\n",
    "    - not()"
   ]
  },
  {
   "cell_type": "code",
   "execution_count": 22,
   "id": "2c10e675",
   "metadata": {},
   "outputs": [],
   "source": [
    "a = True\n",
    "b = False"
   ]
  },
  {
   "cell_type": "code",
   "execution_count": 23,
   "id": "c66b98f3",
   "metadata": {},
   "outputs": [
    {
     "data": {
      "text/plain": [
       "True"
      ]
     },
     "execution_count": 23,
     "metadata": {},
     "output_type": "execute_result"
    }
   ],
   "source": [
    "a or b"
   ]
  },
  {
   "cell_type": "code",
   "execution_count": 24,
   "id": "ecedd83c",
   "metadata": {},
   "outputs": [
    {
     "data": {
      "text/plain": [
       "False"
      ]
     },
     "execution_count": 24,
     "metadata": {},
     "output_type": "execute_result"
    }
   ],
   "source": [
    "a and b"
   ]
  },
  {
   "cell_type": "code",
   "execution_count": 29,
   "id": "e83842f8",
   "metadata": {},
   "outputs": [
    {
     "data": {
      "text/plain": [
       "False"
      ]
     },
     "execution_count": 29,
     "metadata": {},
     "output_type": "execute_result"
    }
   ],
   "source": [
    "not(a)"
   ]
  },
  {
   "cell_type": "code",
   "execution_count": 30,
   "id": "61316ef2",
   "metadata": {},
   "outputs": [
    {
     "data": {
      "text/plain": [
       "True"
      ]
     },
     "execution_count": 30,
     "metadata": {},
     "output_type": "execute_result"
    }
   ],
   "source": [
    "not(b)"
   ]
  },
  {
   "cell_type": "code",
   "execution_count": 31,
   "id": "0c034aa7",
   "metadata": {},
   "outputs": [
    {
     "data": {
      "text/plain": [
       "True"
      ]
     },
     "execution_count": 31,
     "metadata": {},
     "output_type": "execute_result"
    }
   ],
   "source": [
    "a and not(b)"
   ]
  },
  {
   "cell_type": "code",
   "execution_count": 32,
   "id": "ad1cb568",
   "metadata": {},
   "outputs": [
    {
     "data": {
      "text/plain": [
       "False"
      ]
     },
     "execution_count": 32,
     "metadata": {},
     "output_type": "execute_result"
    }
   ],
   "source": [
    "not(a) and not(b)"
   ]
  },
  {
   "cell_type": "markdown",
   "id": "aa7a8c4f",
   "metadata": {},
   "source": [
    "\n",
    "2. If statements\n",
    "\n",
    "    - control statements\n",
    "    - == (checks equality on both sides)\n",
    "    - != (checks inequatlity on both sides)"
   ]
  },
  {
   "cell_type": "code",
   "execution_count": 33,
   "id": "64d96d29",
   "metadata": {},
   "outputs": [
    {
     "name": "stdout",
     "output_type": "stream",
     "text": [
      "yes\n"
     ]
    }
   ],
   "source": [
    "if a:\n",
    "    print('yes')"
   ]
  },
  {
   "cell_type": "code",
   "execution_count": 34,
   "id": "fe35418b",
   "metadata": {},
   "outputs": [],
   "source": [
    "if b:\n",
    "    print('yes')"
   ]
  },
  {
   "cell_type": "code",
   "execution_count": 35,
   "id": "952f2c56",
   "metadata": {},
   "outputs": [
    {
     "name": "stdout",
     "output_type": "stream",
     "text": [
      "yes\n"
     ]
    }
   ],
   "source": [
    "if a or b:\n",
    "    print('yes')"
   ]
  },
  {
   "cell_type": "code",
   "execution_count": 36,
   "id": "d7435685",
   "metadata": {},
   "outputs": [
    {
     "data": {
      "text/plain": [
       "True"
      ]
     },
     "execution_count": 36,
     "metadata": {},
     "output_type": "execute_result"
    }
   ],
   "source": [
    "c = a or b\n",
    "c"
   ]
  },
  {
   "cell_type": "code",
   "execution_count": 37,
   "id": "252ead0c",
   "metadata": {},
   "outputs": [
    {
     "name": "stdout",
     "output_type": "stream",
     "text": [
      "Yes\n"
     ]
    }
   ],
   "source": [
    "if a and not(b):\n",
    "    print('Yes')"
   ]
  },
  {
   "cell_type": "code",
   "execution_count": 38,
   "id": "5f89f48c",
   "metadata": {},
   "outputs": [],
   "source": [
    "if not(a) and b:\n",
    "    print('Yes')"
   ]
  },
  {
   "cell_type": "code",
   "execution_count": null,
   "id": "61c2b974",
   "metadata": {},
   "outputs": [],
   "source": []
  },
  {
   "cell_type": "code",
   "execution_count": 39,
   "id": "3ceb0afe",
   "metadata": {},
   "outputs": [],
   "source": [
    "i=0"
   ]
  },
  {
   "cell_type": "code",
   "execution_count": 40,
   "id": "a88ccce2",
   "metadata": {},
   "outputs": [
    {
     "data": {
      "text/plain": [
       "True"
      ]
     },
     "execution_count": 40,
     "metadata": {},
     "output_type": "execute_result"
    }
   ],
   "source": [
    "i==0"
   ]
  },
  {
   "cell_type": "code",
   "execution_count": 41,
   "id": "3cca2535",
   "metadata": {},
   "outputs": [
    {
     "data": {
      "text/plain": [
       "False"
      ]
     },
     "execution_count": 41,
     "metadata": {},
     "output_type": "execute_result"
    }
   ],
   "source": [
    "i==1"
   ]
  },
  {
   "cell_type": "code",
   "execution_count": 42,
   "id": "ba81f31f",
   "metadata": {},
   "outputs": [],
   "source": [
    "#We can store it in a variable\n",
    "var = i==0"
   ]
  },
  {
   "cell_type": "code",
   "execution_count": 46,
   "id": "3946c822",
   "metadata": {},
   "outputs": [
    {
     "data": {
      "text/plain": [
       "True"
      ]
     },
     "execution_count": 46,
     "metadata": {},
     "output_type": "execute_result"
    }
   ],
   "source": [
    "var"
   ]
  },
  {
   "cell_type": "code",
   "execution_count": 47,
   "id": "b98faa6b",
   "metadata": {},
   "outputs": [],
   "source": [
    "if i==2:\n",
    "    print(var)"
   ]
  },
  {
   "cell_type": "code",
   "execution_count": 49,
   "id": "11397d1d",
   "metadata": {},
   "outputs": [
    {
     "name": "stdout",
     "output_type": "stream",
     "text": [
      "True\n"
     ]
    }
   ],
   "source": [
    "if i==0:\n",
    "    print(var)"
   ]
  },
  {
   "cell_type": "code",
   "execution_count": 50,
   "id": "f54e51bd",
   "metadata": {},
   "outputs": [
    {
     "name": "stdout",
     "output_type": "stream",
     "text": [
      "Yes\n"
     ]
    }
   ],
   "source": [
    "# we can check two values at once\n",
    "i =1\n",
    "j =0\n",
    "if i==0 or j==0:\n",
    "    print('Yes')"
   ]
  },
  {
   "cell_type": "code",
   "execution_count": 51,
   "id": "5b2a85f5",
   "metadata": {},
   "outputs": [
    {
     "name": "stdout",
     "output_type": "stream",
     "text": [
      "Yes\n"
     ]
    }
   ],
   "source": [
    "#Checking substrings\n",
    "a = 'at' in 'cat'\n",
    "if a:\n",
    "    print('Yes')"
   ]
  },
  {
   "cell_type": "code",
   "execution_count": 53,
   "id": "9ac64c5b",
   "metadata": {},
   "outputs": [
    {
     "name": "stdout",
     "output_type": "stream",
     "text": [
      "No\n"
     ]
    }
   ],
   "source": [
    "#using else\n",
    "a = 'at' in 'cad'\n",
    "if a:\n",
    "    print('Yes')\n",
    "else:\n",
    "    print('No')"
   ]
  },
  {
   "cell_type": "code",
   "execution_count": 56,
   "id": "22df9741",
   "metadata": {},
   "outputs": [
    {
     "name": "stdout",
     "output_type": "stream",
     "text": [
      "Only one condition is true\n"
     ]
    }
   ],
   "source": [
    "if i==2 and j==0:\n",
    "    print('yes')\n",
    "elif j==0:\n",
    "    print('Only one condition is true')\n",
    "else:\n",
    "    print('no')"
   ]
  },
  {
   "cell_type": "markdown",
   "id": "35d024d5",
   "metadata": {},
   "source": [
    "#### Note: 0 returns false and any positive number returns true"
   ]
  },
  {
   "cell_type": "code",
   "execution_count": 58,
   "id": "4cf8f02f",
   "metadata": {},
   "outputs": [],
   "source": [
    "if 0:\n",
    "    print('Yes')"
   ]
  },
  {
   "cell_type": "code",
   "execution_count": 59,
   "id": "d3f8703b",
   "metadata": {},
   "outputs": [
    {
     "name": "stdout",
     "output_type": "stream",
     "text": [
      "Yes\n"
     ]
    }
   ],
   "source": [
    "if 100:\n",
    "    print('Yes')"
   ]
  },
  {
   "cell_type": "code",
   "execution_count": null,
   "id": "7d0e6fab",
   "metadata": {},
   "outputs": [],
   "source": []
  }
 ],
 "metadata": {
  "kernelspec": {
   "display_name": "Python 3 (ipykernel)",
   "language": "python",
   "name": "python3"
  },
  "language_info": {
   "codemirror_mode": {
    "name": "ipython",
    "version": 3
   },
   "file_extension": ".py",
   "mimetype": "text/x-python",
   "name": "python",
   "nbconvert_exporter": "python",
   "pygments_lexer": "ipython3",
   "version": "3.8.10"
  }
 },
 "nbformat": 4,
 "nbformat_minor": 5
}
