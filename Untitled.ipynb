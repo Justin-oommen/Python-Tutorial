{
 "cells": [
  {
   "cell_type": "code",
   "execution_count": 2,
   "id": "18c65ac4",
   "metadata": {},
   "outputs": [
    {
     "ename": "ModuleNotFoundError",
     "evalue": "No module named 'example11'",
     "output_type": "error",
     "traceback": [
      "\u001b[0;31m---------------------------------------------------------------------------\u001b[0m",
      "\u001b[0;31mModuleNotFoundError\u001b[0m                       Traceback (most recent call last)",
      "Input \u001b[0;32mIn [2]\u001b[0m, in \u001b[0;36m<cell line: 1>\u001b[0;34m()\u001b[0m\n\u001b[0;32m----> 1\u001b[0m \u001b[38;5;28;01mimport\u001b[39;00m \u001b[38;5;21;01mexample11\u001b[39;00m\u001b[38;5;21;01m.\u001b[39;00m\u001b[38;5;21;01mipynb\u001b[39;00m\n\u001b[1;32m      3\u001b[0m \u001b[38;5;28mprint\u001b[39m(\u001b[38;5;124m'\u001b[39m\u001b[38;5;124m===== Running 12example.py ===== \u001b[39m\u001b[38;5;124m'\u001b[39m)\n\u001b[1;32m      5\u001b[0m x \u001b[38;5;241m=\u001b[39m \u001b[38;5;28mfloat\u001b[39m(\u001b[38;5;28minput\u001b[39m(\u001b[38;5;124m\"\u001b[39m\u001b[38;5;124mInsert x:\u001b[39m\u001b[38;5;124m\"\u001b[39m))\n",
      "\u001b[0;31mModuleNotFoundError\u001b[0m: No module named 'example11'"
     ]
    }
   ],
   "source": [
    "import example11.ipynb\n",
    "\n",
    "print('===== Running 12example.py ===== ')\n",
    "\n",
    "x = float(input(\"Insert x:\"))\n",
    "y = example11.line(x)\n",
    "print(y)\n",
    "\n",
    "# A much shorter way\n",
    "print(example11.line(float(input(\"Insert x:\"))))"
   ]
  },
  {
   "cell_type": "code",
   "execution_count": 4,
   "id": "154c43bd",
   "metadata": {},
   "outputs": [
    {
     "name": "stdout",
     "output_type": "stream",
     "text": [
      "insert a number: 3.4\n",
      "my input:  3.4\n",
      "positive number:  3.4\n",
      "Insert a complex number: 3-5j\n",
      "(3-5j)\n",
      "==== Running example11.py\n",
      "a = 2.3, b = 4.5, c = 0.5111111111111111\n",
      "x: 2.0, m: 1.0, q: 2.3\n",
      "4.3\n",
      "x: 0.0, m: 1.0, q: -1.3\n",
      "-1.3\n",
      "==== End of example11.py\n"
     ]
    }
   ],
   "source": [
    "%run ./example11.ipynb"
   ]
  },
  {
   "cell_type": "code",
   "execution_count": 6,
   "id": "2e9e38d3",
   "metadata": {},
   "outputs": [
    {
     "ename": "ModuleNotFoundError",
     "evalue": "No module named 'example11'",
     "output_type": "error",
     "traceback": [
      "\u001b[0;31m---------------------------------------------------------------------------\u001b[0m",
      "\u001b[0;31mModuleNotFoundError\u001b[0m                       Traceback (most recent call last)",
      "Input \u001b[0;32mIn [6]\u001b[0m, in \u001b[0;36m<cell line: 1>\u001b[0;34m()\u001b[0m\n\u001b[0;32m----> 1\u001b[0m \u001b[38;5;28;01mimport\u001b[39;00m \u001b[38;5;21;01mexample11\u001b[39;00m\n",
      "\u001b[0;31mModuleNotFoundError\u001b[0m: No module named 'example11'"
     ]
    }
   ],
   "source": [
    "import example11"
   ]
  },
  {
   "cell_type": "markdown",
   "id": "342479e2",
   "metadata": {},
   "source": [
    "There are 2 important aspects to note \n",
    "\n",
    "   1. The function line() belongs to the example11 namespace. So you must use example11.line to call it.\n",
    "   2. By importing example11, in addition to the definition of function line you also execute the rest of the python program. This is expected because python is an interpreted language.\n"
   ]
  },
  {
   "cell_type": "code",
   "execution_count": 10,
   "id": "f6facca0",
   "metadata": {},
   "outputs": [
    {
     "ename": "ModuleNotFoundError",
     "evalue": "No module named 'example11'",
     "output_type": "error",
     "traceback": [
      "\u001b[0;31m---------------------------------------------------------------------------\u001b[0m",
      "\u001b[0;31mModuleNotFoundError\u001b[0m                       Traceback (most recent call last)",
      "Input \u001b[0;32mIn [10]\u001b[0m, in \u001b[0;36m<cell line: 1>\u001b[0;34m()\u001b[0m\n\u001b[0;32m----> 1\u001b[0m \u001b[38;5;28;01mimport\u001b[39;00m \u001b[38;5;21;01mexample11\u001b[39;00m\n\u001b[1;32m      3\u001b[0m \u001b[38;5;28mprint\u001b[39m(\u001b[38;5;124m\"\u001b[39m\u001b[38;5;124m++++ executing file: \u001b[39m\u001b[38;5;124m\"\u001b[39m\u001b[38;5;241m+\u001b[39m \u001b[38;5;18m__file__\u001b[39m)\n\u001b[1;32m      5\u001b[0m \u001b[38;5;28mprint\u001b[39m(\u001b[38;5;124m\"\u001b[39m\u001b[38;5;124mCalling example11.line(2.34, q=0.5): \u001b[39m\u001b[38;5;124m\"\u001b[39m, example11\u001b[38;5;241m.\u001b[39mline(\u001b[38;5;241m2.34\u001b[39m, q\u001b[38;5;241m=\u001b[39m\u001b[38;5;241m0.5\u001b[39m))\n",
      "\u001b[0;31mModuleNotFoundError\u001b[0m: No module named 'example11'"
     ]
    }
   ],
   "source": [
    "\n",
    "import example11\n",
    "\n",
    "print(\"++++ executing file: \"+ __file__)\n",
    "\n",
    "print(\"Calling example11.line(2.34, q=0.5): \", example11.line(2.34, q=0.5))\n",
    "\n",
    "print(\"example11.a: %f\" % example11.a)"
   ]
  },
  {
   "cell_type": "code",
   "execution_count": null,
   "id": "c5a045fc",
   "metadata": {},
   "outputs": [],
   "source": []
  },
  {
   "cell_type": "code",
   "execution_count": null,
   "id": "1993ab64",
   "metadata": {},
   "outputs": [],
   "source": []
  },
  {
   "cell_type": "code",
   "execution_count": 11,
   "id": "6bfa859a",
   "metadata": {},
   "outputs": [
    {
     "ename": "NameError",
     "evalue": "name '__file__' is not defined",
     "output_type": "error",
     "traceback": [
      "\u001b[0;31m---------------------------------------------------------------------------\u001b[0m",
      "\u001b[0;31mNameError\u001b[0m                                 Traceback (most recent call last)",
      "Input \u001b[0;32mIn [11]\u001b[0m, in \u001b[0;36m<cell line: 10>\u001b[0;34m()\u001b[0m\n\u001b[1;32m      7\u001b[0m   \u001b[38;5;28mprint\u001b[39m(\u001b[38;5;124m\"\u001b[39m\u001b[38;5;124m=== In line === x: \u001b[39m\u001b[38;5;132;01m{2}\u001b[39;00m\u001b[38;5;124m, m: \u001b[39m\u001b[38;5;132;01m{0}\u001b[39;00m\u001b[38;5;124m, q: \u001b[39m\u001b[38;5;132;01m{1}\u001b[39;00m\u001b[38;5;124m\"\u001b[39m\u001b[38;5;241m.\u001b[39mformat(m,q,x))\n\u001b[1;32m      8\u001b[0m   \u001b[38;5;28;01mreturn\u001b[39;00m m\u001b[38;5;241m*\u001b[39mx\u001b[38;5;241m+\u001b[39mq\n\u001b[0;32m---> 10\u001b[0m \u001b[38;5;28mprint\u001b[39m(\u001b[38;5;124m\"\u001b[39m\u001b[38;5;124m__name__ : \u001b[39m\u001b[38;5;124m\"\u001b[39m \u001b[38;5;241m+\u001b[39m  \u001b[38;5;18m__name__\u001b[39m \u001b[38;5;241m+\u001b[39m \u001b[38;5;124m\"\u001b[39m\u001b[38;5;124m in \u001b[39m\u001b[38;5;124m\"\u001b[39m \u001b[38;5;241m+\u001b[39m \u001b[38;5;18;43m__file__\u001b[39;49m)\n\u001b[1;32m     13\u001b[0m \u001b[38;5;28;01mif\u001b[39;00m \u001b[38;5;18m__name__\u001b[39m \u001b[38;5;241m==\u001b[39m \u001b[38;5;124m\"\u001b[39m\u001b[38;5;124m__main__\u001b[39m\u001b[38;5;124m\"\u001b[39m:\n\u001b[1;32m     14\u001b[0m   \u001b[38;5;28mprint\u001b[39m(\u001b[38;5;124m\"\u001b[39m\u001b[38;5;124mexecuting \u001b[39m\u001b[38;5;124m\"\u001b[39m \u001b[38;5;241m+\u001b[39m  \u001b[38;5;18m__name__\u001b[39m \u001b[38;5;241m+\u001b[39m \u001b[38;5;124m\"\u001b[39m\u001b[38;5;124m in \u001b[39m\u001b[38;5;124m\"\u001b[39m \u001b[38;5;241m+\u001b[39m \u001b[38;5;18m__file__\u001b[39m)\n",
      "\u001b[0;31mNameError\u001b[0m: name '__file__' is not defined"
     ]
    }
   ],
   "source": [
    "# This is my first module\n",
    "a = 2.3\n",
    "b = 4.5\n",
    "c = a/b\n",
    "\n",
    "def line(x, m=1., q=0.):\n",
    "  print(\"=== In line === x: {2}, m: {0}, q: {1}\".format(m,q,x))\n",
    "  return m*x+q\n",
    "\n",
    "print(\"__name__ : \" +  __name__ + \" in \" + __file__)\n",
    "\n",
    "\n",
    "if __name__ == \"__main__\":\n",
    "  print(\"executing \" +  __name__ + \" in \" + __file__)\n",
    "\n",
    "  # Print using ''\n",
    "  print('a = {0}, b = {1}, c = {2}'.format(a, b, c))\n",
    "  print(\"calling line(): \", line(2., q=2.3))\n",
    "  print(\"calling line()\", line(0., q=-1.3))\n",
    "\n",
    "  def p1(x, m=1., q=0.):\n",
    "     print(\"x: {2}, m: {0}, q: {1}\".format(m,q,x))\n",
    "     return m*x+q"
   ]
  },
  {
   "cell_type": "code",
   "execution_count": 12,
   "id": "e1a28463",
   "metadata": {},
   "outputs": [
    {
     "data": {
      "text/plain": [
       "'__main__'"
      ]
     },
     "execution_count": 12,
     "metadata": {},
     "output_type": "execute_result"
    }
   ],
   "source": [
    "__name__"
   ]
  },
  {
   "cell_type": "code",
   "execution_count": 13,
   "id": "0b3d7881",
   "metadata": {},
   "outputs": [
    {
     "ename": "NameError",
     "evalue": "name '__file__' is not defined",
     "output_type": "error",
     "traceback": [
      "\u001b[0;31m---------------------------------------------------------------------------\u001b[0m",
      "\u001b[0;31mNameError\u001b[0m                                 Traceback (most recent call last)",
      "Input \u001b[0;32mIn [13]\u001b[0m, in \u001b[0;36m<cell line: 1>\u001b[0;34m()\u001b[0m\n\u001b[0;32m----> 1\u001b[0m \u001b[38;5;18;43m__file__\u001b[39;49m\n",
      "\u001b[0;31mNameError\u001b[0m: name '__file__' is not defined"
     ]
    }
   ],
   "source": [
    "__file__"
   ]
  },
  {
   "cell_type": "code",
   "execution_count": 20,
   "id": "15092f44",
   "metadata": {},
   "outputs": [
    {
     "data": {
      "text/plain": [
       "True"
      ]
     },
     "execution_count": 20,
     "metadata": {},
     "output_type": "execute_result"
    }
   ],
   "source": [
    "(0, 1, 3) < (0, 3, 4)"
   ]
  },
  {
   "cell_type": "code",
   "execution_count": 28,
   "id": "c92a8a7b",
   "metadata": {},
   "outputs": [
    {
     "data": {
      "text/plain": [
       "True"
      ]
     },
     "execution_count": 28,
     "metadata": {},
     "output_type": "execute_result"
    }
   ],
   "source": [
    "(0, 2, 2000000) < (0, 3, 4)"
   ]
  },
  {
   "cell_type": "code",
   "execution_count": 30,
   "id": "73ae48b2",
   "metadata": {},
   "outputs": [
    {
     "name": "stdout",
     "output_type": "stream",
     "text": [
      "[2, 3, 4]\n"
     ]
    }
   ],
   "source": [
    "alist = [2, 3, 4]\n",
    "print(alist)"
   ]
  },
  {
   "cell_type": "code",
   "execution_count": 38,
   "id": "2bce1924",
   "metadata": {},
   "outputs": [
    {
     "name": "stdout",
     "output_type": "stream",
     "text": [
      "3\n"
     ]
    }
   ],
   "source": [
    "print(alist[-2])"
   ]
  },
  {
   "cell_type": "code",
   "execution_count": 44,
   "id": "a9741fb5",
   "metadata": {},
   "outputs": [],
   "source": [
    "def myprod(a, b=3.145, scale=1.0):\n",
    "    return a*b*scale"
   ]
  },
  {
   "cell_type": "code",
   "execution_count": null,
   "id": "224d43e4",
   "metadata": {},
   "outputs": [],
   "source": []
  },
  {
   "cell_type": "code",
   "execution_count": 45,
   "id": "48dc1192",
   "metadata": {},
   "outputs": [
    {
     "name": "stdout",
     "output_type": "stream",
     "text": [
      "['one', 2, 3.24, <function myprod at 0x7f4af68d1670>, (23, 24), ['lec1', 'lec2', [<function myprod at 0x7f4af68d1670>, 3.14]]]\n"
     ]
    }
   ],
   "source": [
    "alist = ['one', 2, 3.24, myprod, (23, 24), ['lec1', 'lec2', [myprod, 3.14]]]\n",
    "print(alist)"
   ]
  },
  {
   "cell_type": "code",
   "execution_count": 47,
   "id": "dbdadfc7",
   "metadata": {},
   "outputs": [
    {
     "name": "stdout",
     "output_type": "stream",
     "text": [
      "42.0\n"
     ]
    }
   ],
   "source": [
    "print(alist[5][2][0](6,7)) #list index 5, at index 5 take index 2,\n",
    "                            #at index 2 take the index 0 which is a function myproduct\n",
    "                            #take the function and give the input 6 and 7\n",
    "                            #which equals to the output 42"
   ]
  },
  {
   "cell_type": "code",
   "execution_count": 49,
   "id": "17fdb3e3",
   "metadata": {},
   "outputs": [
    {
     "name": "stdout",
     "output_type": "stream",
     "text": [
      "range(-3, 10, 2)\n"
     ]
    }
   ],
   "source": [
    "values = range(-3, 10, 2)\n",
    "print(values)"
   ]
  },
  {
   "cell_type": "code",
   "execution_count": 50,
   "id": "d0682e33",
   "metadata": {},
   "outputs": [
    {
     "name": "stdout",
     "output_type": "stream",
     "text": [
      "[-3, -1, 1, 3, 5, 7, 9]\n"
     ]
    }
   ],
   "source": [
    "print(list(values))"
   ]
  },
  {
   "cell_type": "code",
   "execution_count": 51,
   "id": "6f5dda1c",
   "metadata": {},
   "outputs": [
    {
     "name": "stdout",
     "output_type": "stream",
     "text": [
      "(-3, -1, 1, 3, 5, 7, 9)\n"
     ]
    }
   ],
   "source": [
    "print(tuple(values))"
   ]
  },
  {
   "cell_type": "code",
   "execution_count": 53,
   "id": "8924dcaa",
   "metadata": {},
   "outputs": [
    {
     "name": "stdout",
     "output_type": "stream",
     "text": [
      "Help on class enumerate in module builtins:\n",
      "\n",
      "class enumerate(object)\n",
      " |  enumerate(iterable, start=0)\n",
      " |  \n",
      " |  Return an enumerate object.\n",
      " |  \n",
      " |    iterable\n",
      " |      an object supporting iteration\n",
      " |  \n",
      " |  The enumerate object yields pairs containing a count (from start, which\n",
      " |  defaults to zero) and a value yielded by the iterable argument.\n",
      " |  \n",
      " |  enumerate is useful for obtaining an indexed list:\n",
      " |      (0, seq[0]), (1, seq[1]), (2, seq[2]), ...\n",
      " |  \n",
      " |  Methods defined here:\n",
      " |  \n",
      " |  __getattribute__(self, name, /)\n",
      " |      Return getattr(self, name).\n",
      " |  \n",
      " |  __iter__(self, /)\n",
      " |      Implement iter(self).\n",
      " |  \n",
      " |  __next__(self, /)\n",
      " |      Implement next(self).\n",
      " |  \n",
      " |  __reduce__(...)\n",
      " |      Return state information for pickling.\n",
      " |  \n",
      " |  ----------------------------------------------------------------------\n",
      " |  Static methods defined here:\n",
      " |  \n",
      " |  __new__(*args, **kwargs) from builtins.type\n",
      " |      Create and return a new object.  See help(type) for accurate signature.\n",
      "\n"
     ]
    }
   ],
   "source": [
    "help(enumerate)"
   ]
  },
  {
   "cell_type": "code",
   "execution_count": 58,
   "id": "d1f80608",
   "metadata": {},
   "outputs": [
    {
     "name": "stdout",
     "output_type": "stream",
     "text": [
      "{'january': 31, 'february': 28, 'march': 31, 'april': 30, 'may': 31, 'june': 30, 'july': 31, 'august': 31, 'september': 30, 'october': 31, 'november': 30, 'december': 31}\n"
     ]
    }
   ],
   "source": [
    "# Two separate lists...\n",
    "months = ['january', 'february', 'march', 'april', 'may', 'june', 'july', 'august', 'september', 'october', 'november', 'december']\n",
    "day_months = [31, 28, 31, 30, 31 , 30, 31, 31, 30, 31, 30 , 31]\n",
    "# ...a dictionary!\n",
    "days_per_month = {}\n",
    "\n",
    "for i, m in enumerate(months):\n",
    "    days_per_month[m] = day_months[i]\n",
    "print(days_per_month)"
   ]
  },
  {
   "cell_type": "code",
   "execution_count": 59,
   "id": "51fe77c2",
   "metadata": {},
   "outputs": [
    {
     "data": {
      "text/plain": [
       "dict_items([('january', 31), ('february', 28), ('march', 31), ('april', 30), ('may', 31), ('june', 30), ('july', 31), ('august', 31), ('september', 30), ('october', 31), ('november', 30), ('december', 31)])"
      ]
     },
     "execution_count": 59,
     "metadata": {},
     "output_type": "execute_result"
    }
   ],
   "source": [
    "days_per_month.items()"
   ]
  },
  {
   "cell_type": "code",
   "execution_count": 60,
   "id": "f267712d",
   "metadata": {},
   "outputs": [
    {
     "data": {
      "text/plain": [
       "dict_values([31, 28, 31, 30, 31, 30, 31, 31, 30, 31, 30, 31])"
      ]
     },
     "execution_count": 60,
     "metadata": {},
     "output_type": "execute_result"
    }
   ],
   "source": [
    "days_per_month.values()"
   ]
  },
  {
   "cell_type": "code",
   "execution_count": 61,
   "id": "f5cf4e99",
   "metadata": {},
   "outputs": [
    {
     "data": {
      "text/plain": [
       "{28, 30, 31}"
      ]
     },
     "execution_count": 61,
     "metadata": {},
     "output_type": "execute_result"
    }
   ],
   "source": [
    "set(days_per_month.values())"
   ]
  },
  {
   "cell_type": "code",
   "execution_count": 62,
   "id": "2db6771e",
   "metadata": {},
   "outputs": [
    {
     "name": "stdout",
     "output_type": "stream",
     "text": [
      "{28: [], 30: [], 31: []}\n"
     ]
    }
   ],
   "source": [
    "inv_map = {i: [] for i in set(days_per_month.values())}\n",
    "print(inv_map)"
   ]
  },
  {
   "cell_type": "code",
   "execution_count": 63,
   "id": "338e8a6d",
   "metadata": {},
   "outputs": [
    {
     "name": "stdout",
     "output_type": "stream",
     "text": [
      "[None, None, None, None, None, None, None, None, None, None, None, None]\n"
     ]
    }
   ],
   "source": [
    "new_inv_map = [inv_map[days_per_month[i]].append(i) for i in days_per_month]\n",
    "print(new_inv_map)"
   ]
  },
  {
   "cell_type": "code",
   "execution_count": 65,
   "id": "6531e363",
   "metadata": {},
   "outputs": [
    {
     "name": "stdout",
     "output_type": "stream",
     "text": [
      "{28: ['february', 'february'], 30: ['april', 'june', 'september', 'november', 'april', 'june', 'september', 'november'], 31: ['january', 'march', 'may', 'july', 'august', 'october', 'december', 'january', 'march', 'may', 'july', 'august', 'october', 'december']}\n"
     ]
    }
   ],
   "source": [
    "for i in days_per_month:\n",
    "    inv_map[days_per_month[i]].append(i)\n",
    "print(inv_map)"
   ]
  },
  {
   "cell_type": "code",
   "execution_count": null,
   "id": "9770f6c1",
   "metadata": {},
   "outputs": [],
   "source": []
  },
  {
   "cell_type": "code",
   "execution_count": null,
   "id": "6eabe957",
   "metadata": {},
   "outputs": [],
   "source": []
  },
  {
   "cell_type": "code",
   "execution_count": 67,
   "id": "1c525abf",
   "metadata": {},
   "outputs": [
    {
     "ename": "FileNotFoundError",
     "evalue": "[Errno 2] No such file or directory: 'words.txt'",
     "output_type": "error",
     "traceback": [
      "\u001b[0;31m---------------------------------------------------------------------------\u001b[0m",
      "\u001b[0;31mFileNotFoundError\u001b[0m                         Traceback (most recent call last)",
      "Input \u001b[0;32mIn [67]\u001b[0m, in \u001b[0;36m<cell line: 1>\u001b[0;34m()\u001b[0m\n\u001b[0;32m----> 1\u001b[0m fh \u001b[38;5;241m=\u001b[39m \u001b[38;5;28;43mopen\u001b[39;49m\u001b[43m(\u001b[49m\u001b[38;5;124;43m'\u001b[39;49m\u001b[38;5;124;43mwords.txt\u001b[39;49m\u001b[38;5;124;43m'\u001b[39;49m\u001b[43m,\u001b[49m\u001b[43m \u001b[49m\u001b[38;5;124;43m'\u001b[39;49m\u001b[38;5;124;43mr\u001b[39;49m\u001b[38;5;124;43m'\u001b[39;49m\u001b[43m)\u001b[49m\n",
      "\u001b[0;31mFileNotFoundError\u001b[0m: [Errno 2] No such file or directory: 'words.txt'"
     ]
    }
   ],
   "source": [
    "fh = open('words.txt', 'r')"
   ]
  },
  {
   "cell_type": "code",
   "execution_count": 68,
   "id": "0792454f",
   "metadata": {},
   "outputs": [
    {
     "name": "stdout",
     "output_type": "stream",
     "text": [
      "/home/justin\n"
     ]
    }
   ],
   "source": [
    "cd"
   ]
  },
  {
   "cell_type": "code",
   "execution_count": 69,
   "id": "cace1b4f",
   "metadata": {},
   "outputs": [
    {
     "name": "stdout",
     "output_type": "stream",
     "text": [
      "\u001b[0m\u001b[01;35m'2021-10-13 12-33-15.mkv'\u001b[0m   \u001b[01;34mDocuments\u001b[0m/          Note_on_statistics.pdf\r\n",
      "\u001b[01;35m'2021-11-09 12-04-35.mkv'\u001b[0m   \u001b[01;34mDownloads\u001b[0m/          PAT.txt\r\n",
      "\u001b[01;35m'2021-12-08 11-02-13.mkv'\u001b[0m   FullResultsd.pdf    \u001b[01;34mPictures\u001b[0m/\r\n",
      "\u001b[01;35m'2021-12-22 11-37-34.mkv'\u001b[0m   git                 \u001b[01;34mPublic\u001b[0m/\r\n",
      "\u001b[01;35m'2021-12-24 15-05-36.mkv'\u001b[0m   hello.ipynb         \u001b[01;32mpython_exit.py\u001b[0m*\r\n",
      "\u001b[01;35m'2022-01-26 11-08-51.mkv'\u001b[0m   \u001b[01;32mHelloworld\u001b[0m*         \u001b[01;34msnap\u001b[0m/\r\n",
      "\u001b[01;35m'2022-02-15 14-32-36.mkv'\u001b[0m   Helloworld.cpp      \u001b[01;34mTemplates\u001b[0m/\r\n",
      "\u001b[01;35m'2022-02-25 10-37-06.mkv'\u001b[0m   hostCert.p12        \u001b[01;34mTutorial\u001b[0m/\r\n",
      " \u001b[01;32mbash_exit.sh\u001b[0m*              \u001b[01;34mJupyter_Notebook\u001b[0m/   \u001b[01;34mVideos\u001b[0m/\r\n",
      " \u001b[01;34mBuild\u001b[0m/                     ls                 \u001b[01;34m'VirtualBox VMs'\u001b[0m/\r\n",
      " Certificate                mozilla.pdf         \u001b[01;34mworkdir\u001b[0m/\r\n",
      " codee.txt                  \u001b[01;34mMusic\u001b[0m/\r\n",
      " \u001b[01;34mDesktop\u001b[0m/                   nohup.out\r\n"
     ]
    }
   ],
   "source": [
    "ls"
   ]
  },
  {
   "cell_type": "code",
   "execution_count": 71,
   "id": "94feb78a",
   "metadata": {},
   "outputs": [
    {
     "name": "stdout",
     "output_type": "stream",
     "text": [
      "/home/justin/Jupyter_Notebook/Python-Lessons\n"
     ]
    }
   ],
   "source": [
    "cd Jupyter_Notebook/Python-Lessons/"
   ]
  },
  {
   "cell_type": "code",
   "execution_count": 72,
   "id": "5e791de7",
   "metadata": {},
   "outputs": [
    {
     "name": "stdout",
     "output_type": "stream",
     "text": [
      "\u001b[0m\u001b[01;34mIntro\u001b[0m/  PAT.txt  \u001b[01;34mPython_Libraries\u001b[0m/\r\n"
     ]
    }
   ],
   "source": [
    "ls"
   ]
  },
  {
   "cell_type": "code",
   "execution_count": 73,
   "id": "350c9304",
   "metadata": {},
   "outputs": [
    {
     "name": "stdout",
     "output_type": "stream",
     "text": [
      "/home/justin/Jupyter_Notebook/Python-Lessons/Python_Libraries\n"
     ]
    }
   ],
   "source": [
    "cd Python_Libraries/"
   ]
  },
  {
   "cell_type": "code",
   "execution_count": 74,
   "id": "65b31a54",
   "metadata": {},
   "outputs": [
    {
     "name": "stdout",
     "output_type": "stream",
     "text": [
      "Matplotlib.ipynb  Numpy.ipynb  SciPy.ipynb\r\n"
     ]
    }
   ],
   "source": [
    "ls"
   ]
  },
  {
   "cell_type": "code",
   "execution_count": 75,
   "id": "dee6c734",
   "metadata": {},
   "outputs": [
    {
     "name": "stdout",
     "output_type": "stream",
     "text": [
      "/home/justin/Jupyter_Notebook/Python-Lessons\n"
     ]
    }
   ],
   "source": [
    "cd .."
   ]
  },
  {
   "cell_type": "code",
   "execution_count": 76,
   "id": "3b10eb8c",
   "metadata": {},
   "outputs": [
    {
     "name": "stdout",
     "output_type": "stream",
     "text": [
      "/home/justin/Jupyter_Notebook/Python-Lessons/Intro\n"
     ]
    }
   ],
   "source": [
    "cd Intro/"
   ]
  },
  {
   "cell_type": "code",
   "execution_count": 77,
   "id": "b6f16960",
   "metadata": {},
   "outputs": [
    {
     "name": "stdout",
     "output_type": "stream",
     "text": [
      "Basics2.ipynb  example11.ipynb     Problems.ipynb  word.txt\r\n",
      "Basics3.ipynb  Introduction.ipynb  Untitled.ipynb\r\n"
     ]
    }
   ],
   "source": [
    "ls"
   ]
  },
  {
   "cell_type": "code",
   "execution_count": 78,
   "id": "47a3f993",
   "metadata": {},
   "outputs": [
    {
     "ename": "FileNotFoundError",
     "evalue": "[Errno 2] No such file or directory: 'words.txt'",
     "output_type": "error",
     "traceback": [
      "\u001b[0;31m---------------------------------------------------------------------------\u001b[0m",
      "\u001b[0;31mFileNotFoundError\u001b[0m                         Traceback (most recent call last)",
      "Input \u001b[0;32mIn [78]\u001b[0m, in \u001b[0;36m<cell line: 1>\u001b[0;34m()\u001b[0m\n\u001b[0;32m----> 1\u001b[0m fh \u001b[38;5;241m=\u001b[39m \u001b[38;5;28;43mopen\u001b[39;49m\u001b[43m(\u001b[49m\u001b[38;5;124;43m'\u001b[39;49m\u001b[38;5;124;43mwords.txt\u001b[39;49m\u001b[38;5;124;43m'\u001b[39;49m\u001b[43m,\u001b[49m\u001b[43m \u001b[49m\u001b[38;5;124;43m'\u001b[39;49m\u001b[38;5;124;43mr\u001b[39;49m\u001b[38;5;124;43m'\u001b[39;49m\u001b[43m)\u001b[49m\n",
      "\u001b[0;31mFileNotFoundError\u001b[0m: [Errno 2] No such file or directory: 'words.txt'"
     ]
    }
   ],
   "source": [
    "fh = open('words.txt', 'r')"
   ]
  },
  {
   "cell_type": "code",
   "execution_count": 79,
   "id": "4437577c",
   "metadata": {},
   "outputs": [],
   "source": [
    "import os"
   ]
  },
  {
   "cell_type": "code",
   "execution_count": 80,
   "id": "87e10369",
   "metadata": {},
   "outputs": [
    {
     "name": "stdout",
     "output_type": "stream",
     "text": [
      "Basics2.ipynb  example11.ipynb     Problems.ipynb  word.txt\r\n",
      "Basics3.ipynb  Introduction.ipynb  Untitled.ipynb\r\n"
     ]
    }
   ],
   "source": [
    "ls"
   ]
  },
  {
   "cell_type": "code",
   "execution_count": 81,
   "id": "3d690a22",
   "metadata": {},
   "outputs": [
    {
     "name": "stdout",
     "output_type": "stream",
     "text": [
      "['Basics2.ipynb', 'Problems.ipynb', 'Basics3.ipynb', 'example11.ipynb', 'Introduction.ipynb', 'word.txt', 'Untitled.ipynb', '.ipynb_checkpoints']\n"
     ]
    }
   ],
   "source": [
    "lo= os.listdir()\n",
    "print(lo)"
   ]
  },
  {
   "cell_type": "code",
   "execution_count": 89,
   "id": "3924bad6",
   "metadata": {},
   "outputs": [],
   "source": [
    "fh = open('words.txt', 'r')\n"
   ]
  },
  {
   "cell_type": "code",
   "execution_count": 90,
   "id": "c9da0337",
   "metadata": {},
   "outputs": [
    {
     "name": "stdout",
     "output_type": "stream",
     "text": [
      "<_io.TextIOWrapper name='words.txt' mode='r' encoding='UTF-8'>\n",
      "<class '_io.TextIOWrapper'>\n"
     ]
    }
   ],
   "source": [
    "print(fh)\n",
    "print(type(fh))\n",
    "fh.close()"
   ]
  },
  {
   "cell_type": "code",
   "execution_count": 92,
   "id": "7b14dae5",
   "metadata": {},
   "outputs": [
    {
     "name": "stdout",
     "output_type": "stream",
     "text": [
      "Lorem ipsum dolor sit amet, consectetur adipiscing elit, sed do eiusmod tempor incididunt ut labore et dolore magna aliqua.\n",
      "\n",
      "\n",
      "\n",
      "\n",
      "\n",
      "\n",
      "\n",
      "Ut enim ad minim veniam, quis nostrud exercitation ullamco laboris nisi ut aliquip ex ea commodo consequat.\n",
      "\n",
      "\n",
      "\n",
      "\n",
      "\n",
      "\n",
      "\n",
      "Duis aute irure dolor in reprehenderit in voluptate velit esse cillum dolore eu fugiat nulla pariatur.\n",
      "\n",
      "\n",
      "\n",
      "\n",
      "\n",
      "\n",
      "\n",
      "Excepteur sint occaecat cupidatat non proident, sunt in culpa qui officia deserunt mollit anim id est laborum.\n"
     ]
    }
   ],
   "source": [
    "fh = open('words.txt', 'r')\n",
    "lines = []\n",
    "\n",
    "for line in fh:\n",
    "    print(line)\n",
    "    lines.append(line)\n",
    "\n",
    "#print(lines)\n",
    "\n",
    "fh.close()"
   ]
  },
  {
   "cell_type": "markdown",
   "id": "7234bee3",
   "metadata": {},
   "source": [
    "### file = open(name_of_the_file,mode)\n",
    "\n",
    "  **Our operations to do**\n",
    "\n",
    "### file.close()"
   ]
  },
  {
   "cell_type": "code",
   "execution_count": 93,
   "id": "67be8f24",
   "metadata": {},
   "outputs": [
    {
     "name": "stdout",
     "output_type": "stream",
     "text": [
      "Lorem ipsum dolor sit amet, consectetur adipiscing elit, sed do eiusmod tempor incididunt ut labore et dolore magna aliqua.\r\n",
      "\r\n",
      "\r\n",
      "\r\n",
      "Ut enim ad minim veniam, quis nostrud exercitation ullamco laboris nisi ut aliquip ex ea commodo consequat.\r\n",
      "\r\n",
      "\r\n",
      "\r\n",
      "Duis aute irure dolor in reprehenderit in voluptate velit esse cillum dolore eu fugiat nulla pariatur.\r\n",
      "\r\n",
      "\r\n",
      "\r\n",
      "Excepteur sint occaecat cupidatat non proident, sunt in culpa qui officia deserunt mollit anim id est laborum."
     ]
    }
   ],
   "source": [
    "cat words.txt"
   ]
  },
  {
   "cell_type": "code",
   "execution_count": 94,
   "id": "24c199b0",
   "metadata": {},
   "outputs": [
    {
     "data": {
      "text/plain": [
       "['Basics2.ipynb',\n",
       " 'Problems.ipynb',\n",
       " 'Basics3.ipynb',\n",
       " 'example11.ipynb',\n",
       " 'Introduction.ipynb',\n",
       " 'word.txt',\n",
       " 'Untitled.ipynb',\n",
       " '.ipynb_checkpoints']"
      ]
     },
     "execution_count": 94,
     "metadata": {},
     "output_type": "execute_result"
    }
   ],
   "source": [
    "lo"
   ]
  },
  {
   "cell_type": "code",
   "execution_count": null,
   "id": "2a2e7b85",
   "metadata": {},
   "outputs": [],
   "source": []
  },
  {
   "cell_type": "code",
   "execution_count": null,
   "id": "39aa4d6b",
   "metadata": {},
   "outputs": [],
   "source": []
  },
  {
   "cell_type": "code",
   "execution_count": 95,
   "id": "efd91259",
   "metadata": {},
   "outputs": [],
   "source": [
    "import random  # Let's generate some random numbers\n",
    "\n",
    "nevents = 3\n",
    "\n",
    "fname = 'output.txt'\n",
    "\n",
    "with open(fname,'w') as f:\n",
    "    for i in range(nevents):\n",
    "        measurements = [random.random() for j in range(5)]\n",
    "        for val in measurements:\n",
    "            f.write(\"%.5f\\t\"%val)\n",
    "        f.write('\\n')"
   ]
  },
  {
   "cell_type": "code",
   "execution_count": 96,
   "id": "8787b6d9",
   "metadata": {},
   "outputs": [
    {
     "data": {
      "text/plain": [
       "['Basics2.ipynb',\n",
       " 'Problems.ipynb',\n",
       " 'Basics3.ipynb',\n",
       " 'example11.ipynb',\n",
       " 'Introduction.ipynb',\n",
       " 'word.txt',\n",
       " 'Untitled.ipynb',\n",
       " '.ipynb_checkpoints']"
      ]
     },
     "execution_count": 96,
     "metadata": {},
     "output_type": "execute_result"
    }
   ],
   "source": [
    "lo"
   ]
  },
  {
   "cell_type": "code",
   "execution_count": 97,
   "id": "6daa876a",
   "metadata": {},
   "outputs": [
    {
     "name": "stdout",
     "output_type": "stream",
     "text": [
      "Basics2.ipynb  example11.ipynb     output.txt      Untitled.ipynb\r\n",
      "Basics3.ipynb  Introduction.ipynb  Problems.ipynb  words.txt\r\n"
     ]
    }
   ],
   "source": [
    "ls"
   ]
  },
  {
   "cell_type": "code",
   "execution_count": 98,
   "id": "555a169b",
   "metadata": {},
   "outputs": [
    {
     "name": "stdout",
     "output_type": "stream",
     "text": [
      "0.22103\t0.26111\t0.31288\t0.07459\t0.31315\t\r\n",
      "0.73543\t0.42614\t0.16919\t0.13984\t0.50568\t\r\n",
      "0.06400\t0.65375\t0.11511\t0.31712\t0.93893\t\r\n"
     ]
    }
   ],
   "source": [
    "cat output.txt"
   ]
  },
  {
   "cell_type": "code",
   "execution_count": 99,
   "id": "6239e79e",
   "metadata": {},
   "outputs": [],
   "source": [
    "import random\n",
    "\n",
    "nevents = 10\n",
    "\n",
    "fname = 'output.txt'\n",
    "with open(fname,'w') as f:\n",
    "    for i in range(nevents):\n",
    "        f.writelines(\"%.3f\\t\"%val for val in [random.random() for j in range(5)])\n",
    "        f.write('\\n')"
   ]
  },
  {
   "cell_type": "code",
   "execution_count": 100,
   "id": "e2d4a345",
   "metadata": {},
   "outputs": [
    {
     "name": "stdout",
     "output_type": "stream",
     "text": [
      "0.982\t0.241\t0.631\t0.249\t0.902\t\r\n",
      "0.270\t0.105\t0.500\t0.656\t0.408\t\r\n",
      "0.419\t0.648\t0.359\t0.863\t0.378\t\r\n",
      "0.355\t0.420\t0.627\t0.851\t0.844\t\r\n",
      "0.525\t0.123\t0.625\t0.418\t0.484\t\r\n",
      "0.153\t0.006\t0.514\t0.229\t0.635\t\r\n",
      "0.208\t0.094\t0.189\t0.091\t0.164\t\r\n",
      "0.795\t0.513\t0.492\t0.882\t0.428\t\r\n",
      "0.140\t0.123\t0.996\t0.363\t0.871\t\r\n",
      "0.714\t0.108\t0.231\t0.361\t0.909\t\r\n"
     ]
    }
   ],
   "source": [
    "cat output.txt"
   ]
  },
  {
   "cell_type": "code",
   "execution_count": 101,
   "id": "6afcc940",
   "metadata": {},
   "outputs": [
    {
     "name": "stdout",
     "output_type": "stream",
     "text": [
      "['0.982\\t0.241\\t0.631\\t0.249\\t0.902', '0.270\\t0.105\\t0.500\\t0.656\\t0.408', '0.419\\t0.648\\t0.359\\t0.863\\t0.378', '0.355\\t0.420\\t0.627\\t0.851\\t0.844', '0.525\\t0.123\\t0.625\\t0.418\\t0.484', '0.153\\t0.006\\t0.514\\t0.229\\t0.635', '0.208\\t0.094\\t0.189\\t0.091\\t0.164', '0.795\\t0.513\\t0.492\\t0.882\\t0.428', '0.140\\t0.123\\t0.996\\t0.363\\t0.871', '0.714\\t0.108\\t0.231\\t0.361\\t0.909']\n"
     ]
    }
   ],
   "source": [
    "fname = 'output.txt'\n",
    "lines = [l.strip() for l in open(fname)]\n",
    "print(lines)"
   ]
  },
  {
   "cell_type": "code",
   "execution_count": 102,
   "id": "c78faefd",
   "metadata": {},
   "outputs": [
    {
     "name": "stdout",
     "output_type": "stream",
     "text": [
      "[['0.982', '0.241', '0.631', '0.249', '0.902'], ['0.270', '0.105', '0.500', '0.656', '0.408'], ['0.419', '0.648', '0.359', '0.863', '0.378'], ['0.355', '0.420', '0.627', '0.851', '0.844'], ['0.525', '0.123', '0.625', '0.418', '0.484'], ['0.153', '0.006', '0.514', '0.229', '0.635'], ['0.208', '0.094', '0.189', '0.091', '0.164'], ['0.795', '0.513', '0.492', '0.882', '0.428'], ['0.140', '0.123', '0.996', '0.363', '0.871'], ['0.714', '0.108', '0.231', '0.361', '0.909']]\n"
     ]
    }
   ],
   "source": [
    "fname = 'output.txt'\n",
    "lines = [l.strip() for l in open(fname)]\n",
    "raw_data = [l.split('\\t') for l in lines]\n",
    "print(raw_data)"
   ]
  },
  {
   "cell_type": "code",
   "execution_count": 104,
   "id": "cfddc64d",
   "metadata": {},
   "outputs": [
    {
     "name": "stdout",
     "output_type": "stream",
     "text": [
      "[[0.982, 0.241, 0.631, 0.249, 0.902], [0.27, 0.105, 0.5, 0.656, 0.408], [0.419, 0.648, 0.359, 0.863, 0.378], [0.355, 0.42, 0.627, 0.851, 0.844], [0.525, 0.123, 0.625, 0.418, 0.484], [0.153, 0.006, 0.514, 0.229, 0.635], [0.208, 0.094, 0.189, 0.091, 0.164], [0.795, 0.513, 0.492, 0.882, 0.428], [0.14, 0.123, 0.996, 0.363, 0.871], [0.714, 0.108, 0.231, 0.361, 0.909]]\n"
     ]
    }
   ],
   "source": [
    "data = [[float(n) for n in l] for l in raw_data]\n",
    "print(data)"
   ]
  },
  {
   "cell_type": "markdown",
   "id": "6f5abf36",
   "metadata": {},
   "source": [
    "## all this in to comprehension looks like "
   ]
  },
  {
   "cell_type": "code",
   "execution_count": 105,
   "id": "079cb884",
   "metadata": {},
   "outputs": [
    {
     "name": "stdout",
     "output_type": "stream",
     "text": [
      "[[0.982, 0.241, 0.631, 0.249, 0.902], [0.27, 0.105, 0.5, 0.656, 0.408], [0.419, 0.648, 0.359, 0.863, 0.378], [0.355, 0.42, 0.627, 0.851, 0.844], [0.525, 0.123, 0.625, 0.418, 0.484], [0.153, 0.006, 0.514, 0.229, 0.635], [0.208, 0.094, 0.189, 0.091, 0.164], [0.795, 0.513, 0.492, 0.882, 0.428], [0.14, 0.123, 0.996, 0.363, 0.871], [0.714, 0.108, 0.231, 0.361, 0.909]]\n"
     ]
    }
   ],
   "source": [
    "fname = 'output.txt'\n",
    "data = [[float(n) for n in l.strip().split('\\t')] for l in open(fname)]\n",
    "print(data)"
   ]
  },
  {
   "cell_type": "code",
   "execution_count": null,
   "id": "8a8bd103",
   "metadata": {},
   "outputs": [],
   "source": []
  },
  {
   "cell_type": "code",
   "execution_count": null,
   "id": "c8f52b80",
   "metadata": {},
   "outputs": [],
   "source": []
  },
  {
   "cell_type": "code",
   "execution_count": 120,
   "id": "c314a10d",
   "metadata": {},
   "outputs": [
    {
     "data": {
      "text/plain": [
       "['pickle1.data',\n",
       " 'Basics2.ipynb',\n",
       " 'Problems.ipynb',\n",
       " 'Basics3.ipynb',\n",
       " 'output.txt',\n",
       " 'example11.ipynb',\n",
       " 'Introduction.ipynb',\n",
       " 'Untitled.ipynb',\n",
       " '.ipynb_checkpoints',\n",
       " 'words.txt']"
      ]
     },
     "execution_count": 120,
     "metadata": {},
     "output_type": "execute_result"
    }
   ],
   "source": [
    "import random\n",
    "import pickle\n",
    "import os\n",
    "\n",
    "data = {'val':[], 'err':[]}\n",
    "for i in range(10):\n",
    "    data['val'].append(random.uniform(-3.,3.))\n",
    "    data['err'].append(random.normalvariate(0., 0.2))\n",
    "\n",
    "fname = 'pickle1.data'\n",
    "with open(fname,'wb') as f:\n",
    "    pickle.dump(data,f)\n",
    "\n",
    "os.listdir()"
   ]
  },
  {
   "cell_type": "code",
   "execution_count": 121,
   "id": "1a4044c2",
   "metadata": {},
   "outputs": [
    {
     "name": "stdout",
     "output_type": "stream",
     "text": [
      "True\n"
     ]
    },
    {
     "data": {
      "text/plain": [
       "['pickle1.data',\n",
       " 'Basics2.ipynb',\n",
       " 'Problems.ipynb',\n",
       " 'Basics3.ipynb',\n",
       " 'output.txt',\n",
       " 'example11.ipynb',\n",
       " 'Introduction.ipynb',\n",
       " 'Untitled.ipynb',\n",
       " '.ipynb_checkpoints',\n",
       " 'words.txt']"
      ]
     },
     "execution_count": 121,
     "metadata": {},
     "output_type": "execute_result"
    }
   ],
   "source": [
    "fname = 'pickle1.data'\n",
    "with open(fname,'rb') as f:\n",
    "    in_data = pickle.load(f)\n",
    "   \n",
    "print(data == in_data)\n",
    "#!rm pickle1.data\n",
    "os.listdir()"
   ]
  },
  {
   "cell_type": "code",
   "execution_count": null,
   "id": "f9514960",
   "metadata": {},
   "outputs": [],
   "source": []
  },
  {
   "cell_type": "code",
   "execution_count": null,
   "id": "fd93734a",
   "metadata": {},
   "outputs": [],
   "source": []
  },
  {
   "cell_type": "markdown",
   "id": "de5ff9e2",
   "metadata": {},
   "source": [
    "# Matplotlib.pyplot"
   ]
  },
  {
   "cell_type": "code",
   "execution_count": 1,
   "id": "a3ae3f59",
   "metadata": {},
   "outputs": [
    {
     "name": "stdout",
     "output_type": "stream",
     "text": [
      "v0_x: 0.707 m/s \t v0_y: 0.707 m/s\n"
     ]
    },
    {
     "data": {
      "text/plain": [
       "<matplotlib.legend.Legend at 0x7fcac95371f0>"
      ]
     },
     "execution_count": 1,
     "metadata": {},
     "output_type": "execute_result"
    },
    {
     "data": {
      "image/png": "[encoded data removed]",
      "text/plain": [
       "<Figure size 432x288 with 1 Axes>"
      ]
     },
     "metadata": {
      "needs_background": "light"
     },
     "output_type": "display_data"
    }
   ],
   "source": [
    "# ONLY for Jupyter notebook\n",
    "#%matplotlib notebook\n",
    "%matplotlib inline\n",
    "\n",
    "# Import modules \n",
    "import matplotlib.pyplot as plt\n",
    "import math\n",
    "\n",
    "# Data, settings and initial conditions\n",
    "g = 9.8 # m/s^2\n",
    "t = 0.\n",
    "h = 0.\n",
    "theta = math.radians(45.)\n",
    "v0 = 1.\n",
    "dt = 0.01\n",
    "        \n",
    "# Compute velocity components\n",
    "v0x = v0*math.cos(theta)\n",
    "v0y = v0*math.sin(theta)\n",
    "print(\"v0_x: %.3f m/s \\t v0_y: %.3f m/s\"%(v0x,v0y))\n",
    "\n",
    "# Results containers\n",
    "x = []\n",
    "y = []\n",
    "\n",
    "# Evolve\n",
    "xi = 0.\n",
    "yi = h\n",
    "while yi>=0:\n",
    "    x.append(xi)\n",
    "    y.append(yi)\n",
    "    t += dt\n",
    "    xi = v0x*t\n",
    "    yi = h + v0y*t - 0.5*g*t*t\n",
    "\n",
    "# Plot results\n",
    "plt.plot(x, y, label=\"trajectory\", color='red', marker='.')\n",
    "plt.legend()\n",
    "\n",
    "# Only for script\n",
    "#plot.show()"
   ]
  },
  {
   "cell_type": "code",
   "execution_count": null,
   "id": "07859d08",
   "metadata": {},
   "outputs": [],
   "source": []
  }
 ],
 "metadata": {
  "kernelspec": {
   "display_name": "Python 3 (ipykernel)",
   "language": "python",
   "name": "python3"
  },
  "language_info": {
   "codemirror_mode": {
    "name": "ipython",
    "version": 3
   },
   "file_extension": ".py",
   "mimetype": "text/x-python",
   "name": "python",
   "nbconvert_exporter": "python",
   "pygments_lexer": "ipython3",
   "version": "3.8.10"
  }
 },
 "nbformat": 4,
 "nbformat_minor": 5
}
