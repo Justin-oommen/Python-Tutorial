{
 "cells": [
  {
   "cell_type": "markdown",
   "id": "1ee68076",
   "metadata": {},
   "source": [
    "# Python - Intermediate Level"
   ]
  },
  {
   "cell_type": "code",
   "execution_count": null,
   "id": "ec6a800f",
   "metadata": {},
   "outputs": [],
   "source": []
  },
  {
   "cell_type": "markdown",
   "id": "5919ee9f",
   "metadata": {},
   "source": [
    "## Lists\n",
    "\n",
    "**Lists: Ordered, mutable, allowa duplicate elements**\n",
    "\n",
    "**Created with square brackets**"
   ]
  },
  {
   "cell_type": "code",
   "execution_count": 1,
   "id": "0e892f51",
   "metadata": {},
   "outputs": [],
   "source": [
    "mylist = [\"banana\", \"apple\", \"orange\"]"
   ]
  },
  {
   "cell_type": "code",
   "execution_count": 2,
   "id": "b1984d14",
   "metadata": {},
   "outputs": [
    {
     "name": "stdout",
     "output_type": "stream",
     "text": [
      "['banana', 'apple', 'orange']\n"
     ]
    }
   ],
   "source": [
    "print(mylist)"
   ]
  },
  {
   "cell_type": "code",
   "execution_count": 3,
   "id": "9983035c",
   "metadata": {},
   "outputs": [],
   "source": [
    "#an empty list\n",
    "mylist2 = list()"
   ]
  },
  {
   "cell_type": "code",
   "execution_count": 4,
   "id": "e7f2c545",
   "metadata": {},
   "outputs": [
    {
     "name": "stdout",
     "output_type": "stream",
     "text": [
      "[]\n"
     ]
    }
   ],
   "source": [
    "print(mylist2)"
   ]
  },
  {
   "cell_type": "markdown",
   "id": "55f456c0",
   "metadata": {},
   "source": [
    "**Allow different data types with in the list**\n",
    "\n",
    "**Also allows to duplicate elements in the list**"
   ]
  },
  {
   "cell_type": "code",
   "execution_count": 5,
   "id": "510abbda",
   "metadata": {},
   "outputs": [],
   "source": [
    "mylist3 = [5,True,\"apple\",\"apple\"]"
   ]
  },
  {
   "cell_type": "code",
   "execution_count": 6,
   "id": "7cecd356",
   "metadata": {},
   "outputs": [
    {
     "name": "stdout",
     "output_type": "stream",
     "text": [
      "[5, True, 'apple', 'apple']\n"
     ]
    }
   ],
   "source": [
    "print(mylist3)"
   ]
  },
  {
   "cell_type": "markdown",
   "id": "e2cd730f",
   "metadata": {},
   "source": [
    "**To access an element, we do that n=by refering to the index**"
   ]
  },
  {
   "cell_type": "code",
   "execution_count": 7,
   "id": "a632f091",
   "metadata": {},
   "outputs": [
    {
     "name": "stdout",
     "output_type": "stream",
     "text": [
      "banana\n"
     ]
    }
   ],
   "source": [
    "item = mylist[0]\n",
    "print(item)"
   ]
  },
  {
   "cell_type": "code",
   "execution_count": 8,
   "id": "d51d2ca4",
   "metadata": {},
   "outputs": [
    {
     "name": "stdout",
     "output_type": "stream",
     "text": [
      "apple\n"
     ]
    }
   ],
   "source": [
    "item = mylist[1]\n",
    "print(item)"
   ]
  },
  {
   "cell_type": "markdown",
   "id": "73cf69a2",
   "metadata": {},
   "source": [
    "**Also we can specify negative index**\n",
    "\n",
    "-1 refers to last item in the list and -2 refers to second last item and so on"
   ]
  },
  {
   "cell_type": "code",
   "execution_count": 13,
   "id": "122834fe",
   "metadata": {},
   "outputs": [
    {
     "name": "stdout",
     "output_type": "stream",
     "text": [
      "['banana', 'apple', 'orange']\n"
     ]
    }
   ],
   "source": [
    "print(mylist)"
   ]
  },
  {
   "cell_type": "code",
   "execution_count": 10,
   "id": "0e621dbe",
   "metadata": {},
   "outputs": [
    {
     "name": "stdout",
     "output_type": "stream",
     "text": [
      "orange\n"
     ]
    }
   ],
   "source": [
    "item = mylist[-1]\n",
    "print(item)"
   ]
  },
  {
   "cell_type": "code",
   "execution_count": 11,
   "id": "0b00f5f0",
   "metadata": {},
   "outputs": [
    {
     "name": "stdout",
     "output_type": "stream",
     "text": [
      "apple\n"
     ]
    }
   ],
   "source": [
    "item = mylist[-2]\n",
    "print(item)"
   ]
  },
  {
   "cell_type": "code",
   "execution_count": 12,
   "id": "a4f8a8da",
   "metadata": {},
   "outputs": [
    {
     "name": "stdout",
     "output_type": "stream",
     "text": [
      "banana\n"
     ]
    }
   ],
   "source": [
    "item = mylist[-3]\n",
    "print(item)"
   ]
  },
  {
   "cell_type": "markdown",
   "id": "466a0c66",
   "metadata": {},
   "source": [
    "**To iterate items in the list we use for loop**"
   ]
  },
  {
   "cell_type": "code",
   "execution_count": 14,
   "id": "c98b16e4",
   "metadata": {},
   "outputs": [
    {
     "name": "stdout",
     "output_type": "stream",
     "text": [
      "banana\n",
      "apple\n",
      "orange\n"
     ]
    }
   ],
   "source": [
    "for i in mylist:\n",
    "    print(i)"
   ]
  },
  {
   "cell_type": "markdown",
   "id": "98a5b150",
   "metadata": {},
   "source": [
    "**to check an item in the list we can use if condition**"
   ]
  },
  {
   "cell_type": "code",
   "execution_count": 15,
   "id": "f01cc765",
   "metadata": {},
   "outputs": [
    {
     "name": "stdout",
     "output_type": "stream",
     "text": [
      "Yes\n"
     ]
    }
   ],
   "source": [
    "if \"apple\" in mylist:\n",
    "    print(\"Yes\")\n",
    "else:\n",
    "    print(\"No\")"
   ]
  },
  {
   "cell_type": "code",
   "execution_count": 16,
   "id": "fd59c9fb",
   "metadata": {},
   "outputs": [
    {
     "name": "stdout",
     "output_type": "stream",
     "text": [
      "No\n"
     ]
    }
   ],
   "source": [
    "if \"lemon\" in mylist:\n",
    "    print(\"Yes\")\n",
    "else:\n",
    "    print(\"No\")"
   ]
  },
  {
   "cell_type": "markdown",
   "id": "8d6a3193",
   "metadata": {},
   "source": [
    "**To check how many elements in the list we can do that len()**"
   ]
  },
  {
   "cell_type": "code",
   "execution_count": 17,
   "id": "6b9bc1b7",
   "metadata": {},
   "outputs": [
    {
     "name": "stdout",
     "output_type": "stream",
     "text": [
      "3\n"
     ]
    }
   ],
   "source": [
    "print(len(mylist))"
   ]
  },
  {
   "cell_type": "markdown",
   "id": "0bb51786",
   "metadata": {},
   "source": [
    "**To append the list we use append()**"
   ]
  },
  {
   "cell_type": "code",
   "execution_count": 18,
   "id": "cbe4342f",
   "metadata": {},
   "outputs": [],
   "source": [
    "mylist.append(\"lemon\")"
   ]
  },
  {
   "cell_type": "code",
   "execution_count": 19,
   "id": "9b22db53",
   "metadata": {},
   "outputs": [
    {
     "name": "stdout",
     "output_type": "stream",
     "text": [
      "['banana', 'apple', 'orange', 'lemon']\n"
     ]
    }
   ],
   "source": [
    "print(mylist)"
   ]
  },
  {
   "cell_type": "markdown",
   "id": "ab07944b",
   "metadata": {},
   "source": [
    "**To insert elements at specific index we use--> index(index_number,element)**"
   ]
  },
  {
   "cell_type": "code",
   "execution_count": 20,
   "id": "27fc7c6a",
   "metadata": {},
   "outputs": [],
   "source": [
    "mylist.insert(2,\"cherry\")"
   ]
  },
  {
   "cell_type": "code",
   "execution_count": 21,
   "id": "1a275227",
   "metadata": {},
   "outputs": [
    {
     "name": "stdout",
     "output_type": "stream",
     "text": [
      "['banana', 'apple', 'cherry', 'orange', 'lemon']\n"
     ]
    }
   ],
   "source": [
    "print(mylist)"
   ]
  },
  {
   "cell_type": "markdown",
   "id": "a2ff69c6",
   "metadata": {},
   "source": [
    "**To remove we use -> pop()**\n",
    "\n",
    "This returns the last item and also removes it."
   ]
  },
  {
   "cell_type": "code",
   "execution_count": 22,
   "id": "e766e103",
   "metadata": {},
   "outputs": [],
   "source": [
    "item = mylist.pop()"
   ]
  },
  {
   "cell_type": "code",
   "execution_count": 23,
   "id": "3432ea21",
   "metadata": {},
   "outputs": [
    {
     "name": "stdout",
     "output_type": "stream",
     "text": [
      "['banana', 'apple', 'cherry', 'orange']\n"
     ]
    }
   ],
   "source": [
    "print(mylist)"
   ]
  },
  {
   "cell_type": "markdown",
   "id": "7e5cf547",
   "metadata": {},
   "source": [
    "**To remove specific element -> remove()**\n",
    "\n",
    "**To remove all elements -> clear()**\n",
    "\n",
    "**To reverse the oreder of the list -> reverse()**\n",
    "\n",
    "**To sort the list -> sort()**"
   ]
  },
  {
   "cell_type": "code",
   "execution_count": 24,
   "id": "135fa50d",
   "metadata": {},
   "outputs": [
    {
     "name": "stdout",
     "output_type": "stream",
     "text": [
      "['apple', 'cherry', 'orange']\n"
     ]
    }
   ],
   "source": [
    "#remove specific element\n",
    "mylist.remove(\"banana\")\n",
    "print(mylist)"
   ]
  },
  {
   "cell_type": "code",
   "execution_count": 25,
   "id": "f04bd048",
   "metadata": {},
   "outputs": [
    {
     "name": "stdout",
     "output_type": "stream",
     "text": [
      "[]\n"
     ]
    }
   ],
   "source": [
    "#clear all the elements\n",
    "mylist.clear()\n",
    "print(mylist)"
   ]
  },
  {
   "cell_type": "code",
   "execution_count": 29,
   "id": "ec1c6861",
   "metadata": {},
   "outputs": [
    {
     "name": "stdout",
     "output_type": "stream",
     "text": [
      "[-2, 2, 3, -7, 0, 1, 6]\n",
      "[6, 1, 0, -7, 3, 2, -2]\n"
     ]
    }
   ],
   "source": [
    "#reverse the order of the list\n",
    "mylist = [-2,2,3,-7,0,1,6]\n",
    "print(mylist)\n",
    "mylist.reverse()\n",
    "print(mylist)"
   ]
  },
  {
   "cell_type": "code",
   "execution_count": 27,
   "id": "dbfe3625",
   "metadata": {},
   "outputs": [
    {
     "name": "stdout",
     "output_type": "stream",
     "text": [
      "[-7, -2, 0, 1, 2, 3, 6]\n"
     ]
    }
   ],
   "source": [
    "#sort the list\n",
    "mylist.sort()\n",
    "print(mylist)"
   ]
  },
  {
   "cell_type": "markdown",
   "id": "3859796a",
   "metadata": {},
   "source": [
    "**Notice sort() method change our list but if we don't want to change the order of the list what we can do is to use -> sorted() method and store them in a new list**"
   ]
  },
  {
   "cell_type": "code",
   "execution_count": 31,
   "id": "fed3a871",
   "metadata": {},
   "outputs": [
    {
     "name": "stdout",
     "output_type": "stream",
     "text": [
      "[-7, -2, 0, 1, 2, 3, 6]\n",
      "[6, 1, 0, -7, 3, 2, -2]\n"
     ]
    }
   ],
   "source": [
    "new_list = sorted(mylist)\n",
    "print(new_list)\n",
    "print(mylist)"
   ]
  },
  {
   "cell_type": "markdown",
   "id": "c80d469b",
   "metadata": {},
   "source": [
    "To have multiple element in the same list"
   ]
  },
  {
   "cell_type": "code",
   "execution_count": 32,
   "id": "4f0c3ac0",
   "metadata": {},
   "outputs": [
    {
     "name": "stdout",
     "output_type": "stream",
     "text": [
      "[2, 2, 2, 2, 2, 2, 2, 2, 2, 2]\n"
     ]
    }
   ],
   "source": [
    "mylist3 = [2] * 10\n",
    "print(mylist3)"
   ]
  },
  {
   "cell_type": "markdown",
   "id": "d8c90454",
   "metadata": {},
   "source": [
    "We can combine two list with **+** operator"
   ]
  },
  {
   "cell_type": "code",
   "execution_count": 33,
   "id": "1f9567df",
   "metadata": {},
   "outputs": [
    {
     "name": "stdout",
     "output_type": "stream",
     "text": [
      "[6, 1, 0, -7, 3, 2, -2]\n",
      "[2, 2, 2, 2, 2, 2, 2, 2, 2, 2]\n",
      "[6, 1, 0, -7, 3, 2, -2, 2, 2, 2, 2, 2, 2, 2, 2, 2, 2]\n"
     ]
    }
   ],
   "source": [
    "print(mylist)\n",
    "print(mylist3)\n",
    "new_list = mylist + mylist3\n",
    "print(new_list)"
   ]
  },
  {
   "cell_type": "markdown",
   "id": "7176c873",
   "metadata": {},
   "source": [
    "**Slicing:**\n",
    "\n",
    "    - Allow us to access some part of the list\n",
    "    - For slicing we use [start_index:stop_index] stop index \n",
    "    is excluded.\n",
    "    - if we don't specify the start index the it start from the \n",
    "    beginnig of the list.\n",
    "    - if we don't specify the stop index it goes up till the end of \n",
    "    the list.\n"
   ]
  },
  {
   "cell_type": "code",
   "execution_count": 46,
   "id": "2d5ac9f7",
   "metadata": {},
   "outputs": [
    {
     "name": "stdout",
     "output_type": "stream",
     "text": [
      "[2, 3, 4, 5]\n",
      "[1, 2, 3, 4, 5]\n",
      "[2, 3, 4, 5, 6, 7, 8, 9]\n",
      "[1, 2, 3, 4, 5, 6, 7, 8, 9]\n",
      "[1, 3, 5, 7, 9]\n",
      "[2, 3, 4, 5, 6, 7, 8]\n",
      "[9, 8, 7, 6, 5, 4, 3, 2, 1]\n",
      "[1, 2, 3, 4, 5, 6, 7, 8]\n"
     ]
    }
   ],
   "source": [
    "mylist = [1,2,3,4,5,6,7,8,9]\n",
    "\n",
    "a = mylist[1:5]\n",
    "print(a)\n",
    "\n",
    "a = mylist[:5]\n",
    "print(a)\n",
    "\n",
    "a = mylist[1::] #step index(in steps of 1)\n",
    "print(a)\n",
    "\n",
    "a = mylist[::1]\n",
    "print(a)\n",
    "\n",
    "a = mylist[::2]\n",
    "print(a)\n",
    "\n",
    "a = mylist[1:-1]\n",
    "print(a)\n",
    "\n",
    "a = mylist[::-1]\n",
    "print(a)\n",
    "\n",
    "a = mylist[:-1]\n",
    "print(a)\n",
    "\n"
   ]
  },
  {
   "cell_type": "markdown",
   "id": "c9c5229c",
   "metadata": {},
   "source": [
    "To copy from a list we use  \n",
    "-> **copy() method**  \n",
    "-> **list()**  \n",
    "-> **slicing**[:]  "
   ]
  },
  {
   "cell_type": "code",
   "execution_count": 47,
   "id": "de02c0ed",
   "metadata": {},
   "outputs": [
    {
     "name": "stdout",
     "output_type": "stream",
     "text": [
      "['apple', 'orange', 'banana', 'lemon']\n",
      "['apple', 'orange', 'banana', 'cherry']\n",
      "['apple', 'orange', 'banana', 'grapes']\n"
     ]
    }
   ],
   "source": [
    "mylist = [\"apple\",\"orange\",\"banana\"]\n",
    "\n",
    "#making a copy with above mentioned methods\n",
    "#copy()\n",
    "mylist_copy1 = mylist.copy()\n",
    "mylist_copy1.append(\"lemon\")\n",
    "print(mylist_copy1)\n",
    "\n",
    "#list\n",
    "mylist_copy2 = list(mylist)\n",
    "mylist_copy2.append(\"cherry\")\n",
    "print(mylist_copy2)\n",
    "\n",
    "#slicing method\n",
    "mylist_copy3 = mylist[:]\n",
    "mylist_copy3.append(\"grapes\")\n",
    "print(mylist_copy3)\n"
   ]
  },
  {
   "cell_type": "markdown",
   "id": "537d14e6",
   "metadata": {},
   "source": [
    "*An advanced technique ->* **List Comprehesion**: A fast way to create a new list from an existing list in one line"
   ]
  },
  {
   "cell_type": "code",
   "execution_count": 48,
   "id": "2f0b93ba",
   "metadata": {},
   "outputs": [
    {
     "name": "stdout",
     "output_type": "stream",
     "text": [
      "[1, 2, 3, 4, 5]\n",
      "[1, 4, 9, 16, 25]\n"
     ]
    }
   ],
   "source": [
    "mylist = [1,2,3,4,5]\n",
    "b = [i*i for i in mylist] #syntax is expression followed by for loop\n",
    "\n",
    "print(mylist)\n",
    "print(b)"
   ]
  },
  {
   "cell_type": "markdown",
   "id": "ae094189",
   "metadata": {},
   "source": [
    " "
   ]
  },
  {
   "cell_type": "markdown",
   "id": "440dbfba",
   "metadata": {},
   "source": [
    " "
   ]
  },
  {
   "cell_type": "markdown",
   "id": "8535159e",
   "metadata": {},
   "source": [
    "## Tuples"
   ]
  },
  {
   "cell_type": "markdown",
   "id": "53599505",
   "metadata": {},
   "source": [
    "- Ordered and Immutable(cannot change object at the index)\n",
    "- main difference between list is tuple cannot be changed after creation\n",
    "- created for objects that belong together.\n",
    "- created with paranthesis and elements seperated by a comma or we can use built in type function **tuple()**.\n",
    "- tuple with single element must be created with a comma or otherwise it is not recognised as type tuple."
   ]
  },
  {
   "cell_type": "code",
   "execution_count": 54,
   "id": "f4a88ed2",
   "metadata": {},
   "outputs": [
    {
     "name": "stdout",
     "output_type": "stream",
     "text": [
      "('naruto', 'luffy', 'baki', 28)\n"
     ]
    }
   ],
   "source": [
    "mytuple = (\"naruto\",\"luffy\",\"baki\",28)\n",
    "print(mytuple)"
   ]
  },
  {
   "cell_type": "code",
   "execution_count": 55,
   "id": "b6aff620",
   "metadata": {},
   "outputs": [
    {
     "data": {
      "text/plain": [
       "tuple"
      ]
     },
     "execution_count": 55,
     "metadata": {},
     "output_type": "execute_result"
    }
   ],
   "source": [
    "type(mytuple)"
   ]
  },
  {
   "cell_type": "code",
   "execution_count": 56,
   "id": "2ade54cd",
   "metadata": {},
   "outputs": [
    {
     "name": "stdout",
     "output_type": "stream",
     "text": [
      "<generator object <genexpr> at 0x7f98810f5040>\n"
     ]
    }
   ],
   "source": [
    "print(i for i in mytuple)"
   ]
  },
  {
   "cell_type": "code",
   "execution_count": 57,
   "id": "0932a6dd",
   "metadata": {},
   "outputs": [
    {
     "name": "stdout",
     "output_type": "stream",
     "text": [
      "naruto\n",
      "luffy\n",
      "baki\n",
      "28\n"
     ]
    }
   ],
   "source": [
    "for i in mytuple:\n",
    "    print(i)"
   ]
  },
  {
   "cell_type": "code",
   "execution_count": 59,
   "id": "04915c22",
   "metadata": {},
   "outputs": [
    {
     "name": "stdout",
     "output_type": "stream",
     "text": [
      "('luffy', 'baki', 28)\n"
     ]
    }
   ],
   "source": [
    "a = mytuple[1:]\n",
    "print(a)"
   ]
  },
  {
   "cell_type": "code",
   "execution_count": 60,
   "id": "5a1fb3ed",
   "metadata": {},
   "outputs": [
    {
     "name": "stdout",
     "output_type": "stream",
     "text": [
      "Yes\n"
     ]
    }
   ],
   "source": [
    "if 28 in mytuple:\n",
    "    print(\"Yes\")\n",
    "else:\n",
    "    print(\"No\")"
   ]
  },
  {
   "cell_type": "code",
   "execution_count": 61,
   "id": "714bdcd6",
   "metadata": {},
   "outputs": [
    {
     "name": "stdout",
     "output_type": "stream",
     "text": [
      "4\n"
     ]
    }
   ],
   "source": [
    "#to get number of elements\n",
    "\n",
    "print(len(mytuple))"
   ]
  },
  {
   "cell_type": "code",
   "execution_count": 63,
   "id": "2513568e",
   "metadata": {},
   "outputs": [
    {
     "name": "stdout",
     "output_type": "stream",
     "text": [
      "1\n"
     ]
    }
   ],
   "source": [
    "#to count the letters\n",
    "print(mytuple.count(\"baki\"))"
   ]
  },
  {
   "cell_type": "code",
   "execution_count": 66,
   "id": "33083d1e",
   "metadata": {},
   "outputs": [
    {
     "name": "stdout",
     "output_type": "stream",
     "text": [
      "3\n"
     ]
    }
   ],
   "source": [
    "#to get the index\n",
    "print(mytuple.index(28))"
   ]
  },
  {
   "cell_type": "code",
   "execution_count": 70,
   "id": "0cf75600",
   "metadata": {},
   "outputs": [
    {
     "name": "stdout",
     "output_type": "stream",
     "text": [
      "['naruto', 'luffy', 'baki', 28]\n"
     ]
    },
    {
     "data": {
      "text/plain": [
       "list"
      ]
     },
     "execution_count": 70,
     "metadata": {},
     "output_type": "execute_result"
    }
   ],
   "source": [
    "#convert a tuple to list\n",
    "mylist = list(mytuple)\n",
    "print(mylist)\n",
    "type(mylist)"
   ]
  },
  {
   "cell_type": "code",
   "execution_count": 71,
   "id": "33568422",
   "metadata": {},
   "outputs": [
    {
     "name": "stdout",
     "output_type": "stream",
     "text": [
      "('naruto', 'luffy', 'baki', 28)\n"
     ]
    },
    {
     "data": {
      "text/plain": [
       "tuple"
      ]
     },
     "execution_count": 71,
     "metadata": {},
     "output_type": "execute_result"
    }
   ],
   "source": [
    "#to convert from list to tuple\n",
    "mytuple = tuple(mylist)\n",
    "print(mytuple)\n",
    "type(mytuple)"
   ]
  },
  {
   "cell_type": "markdown",
   "id": "52193d97",
   "metadata": {},
   "source": [
    "**Unpacking**:  \n",
    "- we can assing each element of the tuple to a variable\n",
    "- Remember the number of variable must match the number of elements in the tuple.\n",
    "- we can unpack multiple elements with * and that will be converted to list"
   ]
  },
  {
   "cell_type": "code",
   "execution_count": 79,
   "id": "4a98785a",
   "metadata": {},
   "outputs": [
    {
     "name": "stdout",
     "output_type": "stream",
     "text": [
      "Yuchiro\n",
      "Yujiro\n",
      "Baki\n"
     ]
    }
   ],
   "source": [
    "mytuple = (\"Yuchiro\",\"Yujiro\",\"Baki\")\n",
    "\n",
    "grandfather, father, son = mytuple\n",
    "print(grandfather)\n",
    "print(father)\n",
    "print(son)"
   ]
  },
  {
   "cell_type": "code",
   "execution_count": 82,
   "id": "f1458647",
   "metadata": {},
   "outputs": [
    {
     "name": "stdout",
     "output_type": "stream",
     "text": [
      "1\n",
      "[2, 3, 4, 5]\n"
     ]
    }
   ],
   "source": [
    "mytuple = (1,2,3,4,5)\n",
    "\n",
    "one,*two = mytuple\n",
    "\n",
    "print(one)\n",
    "print(two)\n"
   ]
  },
  {
   "cell_type": "markdown",
   "id": "c58d1bf7",
   "metadata": {},
   "source": [
    "When we compare the size of the list and tuple containing same elements we can see that tuple is less in memory than the list.  \n",
    "To calculate the size we use **sys.getsizeof() method**"
   ]
  },
  {
   "cell_type": "code",
   "execution_count": 86,
   "id": "a9e0b869",
   "metadata": {},
   "outputs": [
    {
     "name": "stdout",
     "output_type": "stream",
     "text": [
      "<class 'list'>\n",
      "<class 'tuple'>\n",
      "mylist =  88  bytes \n",
      "mytuple =  72  bytes \n"
     ]
    }
   ],
   "source": [
    "import sys\n",
    "mylist = [\"mike\",0,1,True]\n",
    "mytuple = (\"mike\",0,1,True)\n",
    "print(type(mylist)) #check the type\n",
    "print(type(mytuple))\n",
    "\n",
    "#checking the size\n",
    "print(\"mylist = \",sys.getsizeof(mylist),\" bytes \" )\n",
    "print(\"mytuple = \",sys.getsizeof(mytuple),\" bytes \" )"
   ]
  },
  {
   "cell_type": "markdown",
   "id": "b9909b17",
   "metadata": {},
   "source": [
    "We can also check which is the efficient one in terms of timing.  \n",
    "**Tuple is efficient than list.**  \n",
    "\n",
    "we use **timeit.timeit()**"
   ]
  },
  {
   "cell_type": "code",
   "execution_count": 91,
   "id": "e44653cd",
   "metadata": {},
   "outputs": [
    {
     "name": "stdout",
     "output_type": "stream",
     "text": [
      "list timing = 0.07501800800673664\n",
      "tuple timing = 0.008418073004577309\n"
     ]
    }
   ],
   "source": [
    "import timeit\n",
    "\n",
    "print(\"list timing =\",timeit.timeit(stmt=\"[0,1,2,3,4,5]\",number=1000000))\n",
    "print(\"tuple timing =\",timeit.timeit(stmt=\"(0,1,2,3,4,5)\",number=1000000))"
   ]
  },
  {
   "cell_type": "code",
   "execution_count": null,
   "id": "6cf378cf",
   "metadata": {},
   "outputs": [],
   "source": []
  },
  {
   "cell_type": "markdown",
   "id": "8f8aff5c",
   "metadata": {},
   "source": [
    "## Dictionaries"
   ]
  },
  {
   "cell_type": "markdown",
   "id": "eb95e45a",
   "metadata": {},
   "source": [
    "- Key-Value Pairs(each key value pair maps it's associated key to it's value)\n",
    "- Unordered\n",
    "- Mutable\n",
    "- Created with braices {\"key\":value}"
   ]
  },
  {
   "cell_type": "code",
   "execution_count": 26,
   "id": "b8b56bcd",
   "metadata": {},
   "outputs": [
    {
     "name": "stdout",
     "output_type": "stream",
     "text": [
      "{'name': 'Justin', 'age': 25, 'city': 'Rome'}\n",
      "<class 'dict'>\n",
      "{'name': 'Justin', 'age': 28, 'city': 'Rome'}\n",
      "<class 'dict'>\n",
      "Justin\n"
     ]
    }
   ],
   "source": [
    "mydict = {\"name\": \"Justin\", \"age\": 25, \"city\": \"Rome\"}\n",
    "print(mydict)\n",
    "print(type(mydict))\n",
    "mydict1 = dict (name = \"Justin\", age = 28, city = \"Rome\")\n",
    "print(mydict1)\n",
    "print(type(mydict1))\n",
    "#to access the values\n",
    "value = mydict[\"name\"]\n",
    "print(value)"
   ]
  },
  {
   "cell_type": "code",
   "execution_count": 27,
   "id": "3787a2fd",
   "metadata": {},
   "outputs": [],
   "source": [
    "#the dictionary is mutable ie, extendable and can be override\n",
    "mydict[\"email\"] = \"justinpoommen@gmail.com\""
   ]
  },
  {
   "cell_type": "code",
   "execution_count": 28,
   "id": "b0b5bbd5",
   "metadata": {},
   "outputs": [
    {
     "name": "stdout",
     "output_type": "stream",
     "text": [
      "{'name': 'Justin', 'age': 25, 'city': 'Rome', 'email': 'justinpoommen@gmail.com'}\n"
     ]
    }
   ],
   "source": [
    "print(mydict)"
   ]
  },
  {
   "cell_type": "markdown",
   "id": "9c919de8",
   "metadata": {},
   "source": [
    "- to delete the key-value pair we can use  \n",
    "    - del\n",
    "    - pop()\n",
    "    - popitem() -> remove the last item"
   ]
  },
  {
   "cell_type": "code",
   "execution_count": 24,
   "id": "21b88f2a",
   "metadata": {},
   "outputs": [
    {
     "data": {
      "text/plain": [
       "('email', 'justinpoommen@gmail.com')"
      ]
     },
     "execution_count": 24,
     "metadata": {},
     "output_type": "execute_result"
    }
   ],
   "source": [
    "#deleting key-value pairs\n",
    "del mydict[\"age\"]\n",
    "mydict.pop(\"city\")\n",
    "mydict.popitem()"
   ]
  },
  {
   "cell_type": "code",
   "execution_count": 25,
   "id": "284fde85",
   "metadata": {},
   "outputs": [
    {
     "name": "stdout",
     "output_type": "stream",
     "text": [
      "{'name': 'Justin'}\n"
     ]
    }
   ],
   "source": [
    "print(mydict)"
   ]
  },
  {
   "cell_type": "markdown",
   "id": "4eff50d8",
   "metadata": {},
   "source": [
    "If we want to check if our keys  are in the dictionary there are two ways:\n",
    "\n",
    "- if conditon\n",
    "- try,except statments"
   ]
  },
  {
   "cell_type": "code",
   "execution_count": 30,
   "id": "1cd5e293",
   "metadata": {},
   "outputs": [
    {
     "name": "stdout",
     "output_type": "stream",
     "text": [
      "Justin\n",
      "Error\n"
     ]
    }
   ],
   "source": [
    "if \"name\" in mydict:\n",
    "    print(mydict[\"name\"])\n",
    "\n",
    "#try and except statement\n",
    "try:\n",
    "    print(mydict[\"lastname\"])\n",
    "except:\n",
    "    print(\"Error\")"
   ]
  },
  {
   "cell_type": "markdown",
   "id": "2ded5a6a",
   "metadata": {},
   "source": [
    "To loop through the dictionary:  \n",
    "   - for loop keys(), values(),items()\n",
    "     "
   ]
  },
  {
   "cell_type": "code",
   "execution_count": 35,
   "id": "14cbbfdc",
   "metadata": {},
   "outputs": [
    {
     "name": "stdout",
     "output_type": "stream",
     "text": [
      "name\n",
      "age\n",
      "city\n",
      "email\n",
      "Justin\n",
      "25\n",
      "Rome\n",
      "justinpoommen@gmail.com\n",
      "name Justin\n",
      "age 25\n",
      "city Rome\n",
      "email justinpoommen@gmail.com\n"
     ]
    }
   ],
   "source": [
    "#for loop\n",
    "for key in mydict.keys():\n",
    "    print(key)\n",
    "    \n",
    "for value in mydict.values():\n",
    "    print(value)\n",
    "    \n",
    "for key,value in mydict.items():\n",
    "    print(key,value)\n"
   ]
  },
  {
   "cell_type": "markdown",
   "id": "269c04e3",
   "metadata": {},
   "source": [
    "To copy a dictionary:  \n",
    " - **copy()** function\n",
    " - use **dict** funtion"
   ]
  },
  {
   "cell_type": "code",
   "execution_count": 36,
   "id": "f341ff96",
   "metadata": {},
   "outputs": [
    {
     "name": "stdout",
     "output_type": "stream",
     "text": [
      "{'name': 'Justin', 'age': 25, 'city': 'Rome', 'email': 'justinpoommen@gmail.com'}\n"
     ]
    }
   ],
   "source": [
    "#copy a dictionary\n",
    "mydict_cpy = mydict.copy()\n",
    "print(mydict_cpy)"
   ]
  },
  {
   "cell_type": "code",
   "execution_count": 37,
   "id": "7d494681",
   "metadata": {},
   "outputs": [],
   "source": [
    "mydict_cpy[\"mob no.\"] = 3289189730"
   ]
  },
  {
   "cell_type": "code",
   "execution_count": 38,
   "id": "d11208f3",
   "metadata": {},
   "outputs": [
    {
     "name": "stdout",
     "output_type": "stream",
     "text": [
      "{'name': 'Justin', 'age': 25, 'city': 'Rome', 'email': 'justinpoommen@gmail.com'}\n",
      "{'name': 'Justin', 'age': 25, 'city': 'Rome', 'email': 'justinpoommen@gmail.com', 'mob no.': 3289189730}\n"
     ]
    }
   ],
   "source": [
    "print(mydict)\n",
    "print(mydict_cpy)"
   ]
  },
  {
   "cell_type": "markdown",
   "id": "dea0fcc7",
   "metadata": {},
   "source": [
    "To Merge two doctionaries we use **update()** method"
   ]
  },
  {
   "cell_type": "code",
   "execution_count": 39,
   "id": "533e0e60",
   "metadata": {},
   "outputs": [
    {
     "name": "stdout",
     "output_type": "stream",
     "text": [
      "{'name': 'Justin', 'age': 25, 'city': 'Rome', 'email': 'justinpoommen@gmail.com'}\n",
      "{'name': 'Jithin', 'age': 22, 'city': 'Kerala', 'email': 'jithin@gmail.com'}\n"
     ]
    }
   ],
   "source": [
    "#merging two dictionaries\n",
    "mydict_2 = dict(name=\"Jithin\",age=22,city=\"Kerala\",email=\"jithin@gmail.com\")\n",
    "print(mydict)\n",
    "print(mydict_2)"
   ]
  },
  {
   "cell_type": "code",
   "execution_count": 41,
   "id": "ae706d41",
   "metadata": {},
   "outputs": [
    {
     "name": "stdout",
     "output_type": "stream",
     "text": [
      "{'name': 'Jithin', 'age': 22, 'city': 'Kerala', 'email': 'jithin@gmail.com'}\n"
     ]
    }
   ],
   "source": [
    "#the values corresponding to the same key get replaced \n",
    "mydict.update(mydict_2)\n",
    "print(mydict)"
   ]
  },
  {
   "cell_type": "markdown",
   "id": "fa045d9f",
   "metadata": {},
   "source": [
    "Possible key types:  \n",
    " - In all the examples we use string as key\n",
    " - But we can use any the immutable types (numbers,tuples)"
   ]
  },
  {
   "cell_type": "code",
   "execution_count": 47,
   "id": "ba0dc97b",
   "metadata": {},
   "outputs": [
    {
     "name": "stdout",
     "output_type": "stream",
     "text": [
      "{3: 9, 6: 36, 5: 25, 'i*i': (1, 4, 9, 16, 25, 36)}\n",
      "(1, 4, 9, 16, 25, 36)\n"
     ]
    }
   ],
   "source": [
    "mydict_3 = {3:9, 6:36, 5:25,\"i*i\":(1,4,9,16,25,36)}\n",
    "print(mydict_3)\n",
    "print(mydict_3[\"i*i\"])\n",
    "\n"
   ]
  },
  {
   "cell_type": "markdown",
   "id": "e9ee1ef3",
   "metadata": {},
   "source": [
    " "
   ]
  },
  {
   "cell_type": "markdown",
   "id": "dbe04c7d",
   "metadata": {},
   "source": [
    "## Sets"
   ]
  },
  {
   "cell_type": "markdown",
   "id": "3aac4fb3",
   "metadata": {},
   "source": [
    "- unordered\n",
    "- mutable\n",
    "- no duplicates\n",
    "- single elements seperated by a comma"
   ]
  },
  {
   "cell_type": "code",
   "execution_count": 60,
   "id": "ec256c29",
   "metadata": {},
   "outputs": [
    {
     "name": "stdout",
     "output_type": "stream",
     "text": [
      "{1, 2, 3, 4, 12, 21}\n"
     ]
    }
   ],
   "source": [
    "myset = {1,2,3,4,12,3,21,1}\n",
    "print(myset)"
   ]
  },
  {
   "cell_type": "code",
   "execution_count": 49,
   "id": "12096a5d",
   "metadata": {},
   "outputs": [
    {
     "name": "stdout",
     "output_type": "stream",
     "text": [
      "{'H', 'o', 'l', 'e'}\n"
     ]
    }
   ],
   "source": [
    "myset_1 = set(\"Hello\")\n",
    "print(myset_1)"
   ]
  },
  {
   "cell_type": "code",
   "execution_count": 50,
   "id": "1c9e01da",
   "metadata": {},
   "outputs": [
    {
     "name": "stdout",
     "output_type": "stream",
     "text": [
      "set()\n"
     ]
    }
   ],
   "source": [
    "#empty set\n",
    "myset_2 = set()\n",
    "print(myset_2)"
   ]
  },
  {
   "cell_type": "markdown",
   "id": "cfc5c4ab",
   "metadata": {},
   "source": [
    "- We can add elements with **add()** method\n",
    "- to remove the element  \n",
    "    - **remove()**\n",
    "    - **discard()** removes the elemts and if no elements is found no error\n",
    "    - **clear()** empty the set\n",
    "    - **pop()** return and remove arbitart element"
   ]
  },
  {
   "cell_type": "code",
   "execution_count": 51,
   "id": "644d77b8",
   "metadata": {},
   "outputs": [],
   "source": [
    "myset.add(49)"
   ]
  },
  {
   "cell_type": "code",
   "execution_count": 52,
   "id": "43cede37",
   "metadata": {},
   "outputs": [
    {
     "name": "stdout",
     "output_type": "stream",
     "text": [
      "{1, 2, 3, 4, 12, 49, 21}\n"
     ]
    }
   ],
   "source": [
    "print(myset)"
   ]
  },
  {
   "cell_type": "code",
   "execution_count": 53,
   "id": "d55d9b9d",
   "metadata": {},
   "outputs": [],
   "source": [
    "myset.remove(21)"
   ]
  },
  {
   "cell_type": "code",
   "execution_count": 54,
   "id": "06426677",
   "metadata": {},
   "outputs": [
    {
     "name": "stdout",
     "output_type": "stream",
     "text": [
      "{1, 2, 3, 4, 12, 49}\n"
     ]
    }
   ],
   "source": [
    "print(myset)"
   ]
  },
  {
   "cell_type": "code",
   "execution_count": 55,
   "id": "f8934017",
   "metadata": {},
   "outputs": [],
   "source": [
    "myset.discard(24)"
   ]
  },
  {
   "cell_type": "code",
   "execution_count": 56,
   "id": "4317f2fd",
   "metadata": {},
   "outputs": [
    {
     "name": "stdout",
     "output_type": "stream",
     "text": [
      "{1, 2, 3, 4, 12, 49}\n"
     ]
    }
   ],
   "source": [
    "print(myset)"
   ]
  },
  {
   "cell_type": "code",
   "execution_count": 57,
   "id": "46076089",
   "metadata": {},
   "outputs": [
    {
     "data": {
      "text/plain": [
       "1"
      ]
     },
     "execution_count": 57,
     "metadata": {},
     "output_type": "execute_result"
    }
   ],
   "source": [
    "myset.pop()"
   ]
  },
  {
   "cell_type": "code",
   "execution_count": 58,
   "id": "d27f959a",
   "metadata": {},
   "outputs": [],
   "source": [
    "myset.clear()"
   ]
  },
  {
   "cell_type": "code",
   "execution_count": 62,
   "id": "ac5f2aaa",
   "metadata": {},
   "outputs": [
    {
     "name": "stdout",
     "output_type": "stream",
     "text": [
      "{1, 2, 3, 4, 12, 21}\n"
     ]
    }
   ],
   "source": [
    "print(myset)"
   ]
  },
  {
   "cell_type": "markdown",
   "id": "1930292e",
   "metadata": {},
   "source": [
    "We can iterate in the set using **for loop**"
   ]
  },
  {
   "cell_type": "code",
   "execution_count": 63,
   "id": "da8f8f45",
   "metadata": {},
   "outputs": [
    {
     "name": "stdout",
     "output_type": "stream",
     "text": [
      "1\n",
      "2\n",
      "3\n",
      "4\n",
      "12\n",
      "21\n"
     ]
    }
   ],
   "source": [
    "for i in myset:\n",
    "    print(i)"
   ]
  },
  {
   "cell_type": "markdown",
   "id": "ab86142e",
   "metadata": {},
   "source": [
    "To check for the element we can use **if** statement"
   ]
  },
  {
   "cell_type": "code",
   "execution_count": 64,
   "id": "41f148de",
   "metadata": {},
   "outputs": [
    {
     "name": "stdout",
     "output_type": "stream",
     "text": [
      "yes 2\n"
     ]
    }
   ],
   "source": [
    "if 2 in myset:\n",
    "    print(\"yes\",2)"
   ]
  },
  {
   "cell_type": "markdown",
   "id": "e7e8b9b6",
   "metadata": {},
   "source": [
    "Union and Intersection:\n",
    "- "
   ]
  },
  {
   "cell_type": "markdown",
   "id": "e6eb21b5",
   "metadata": {},
   "source": [
    "- Union() combines elements from two sets **without** duplication\n",
    "- intersection() only take elements that are found in both sets"
   ]
  },
  {
   "cell_type": "code",
   "execution_count": 68,
   "id": "ba5dee09",
   "metadata": {},
   "outputs": [
    {
     "name": "stdout",
     "output_type": "stream",
     "text": [
      "{1, 2, 3, 4, 5, 6, 7, 8, 9}\n",
      "{2}\n",
      "{3, 5, 7}\n",
      "set()\n"
     ]
    }
   ],
   "source": [
    "odds = {1,3,5,7,9}\n",
    "evens = {2,4,6,8}\n",
    "primes = {2,3,5,7}\n",
    "\n",
    "#union\n",
    "u = odds.union(evens)\n",
    "print(u)\n",
    "\n",
    "#intersection\n",
    "i = evens.intersection(primes)\n",
    "print(i)\n",
    "i = odds.intersection(primes)\n",
    "print(i)\n",
    "i = evens.intersection(odds)\n",
    "print(i)"
   ]
  },
  {
   "cell_type": "markdown",
   "id": "634da16f",
   "metadata": {},
   "source": [
    "To calcute difference of two sets  \n",
    "- **difference()** will return a set with all elements in first set that are not in second element.\n",
    "- **symmetric_difference()** method will return a set with elements that are not common in both sets\n",
    "- union, intersection and difference will not modify our original set they just returns a new set. But we can also modify our original sets using **update()** method\n",
    "- **intersection_update()** updates the set by keeping only common elements in both sets\n",
    "- **difference_update()** update set with removing the common elements found in both sets.\n",
    "- **symmentric_difference_update** update the set with non-common elements in both sets"
   ]
  },
  {
   "cell_type": "code",
   "execution_count": 86,
   "id": "ca9cc023",
   "metadata": {},
   "outputs": [
    {
     "name": "stdout",
     "output_type": "stream",
     "text": [
      "{1, 2, 3, 4, 5, 6, 7, 8, 9, 10, 11, 12}\n",
      "{1, 2, 3}\n",
      "{4, 5, 6, 7, 8, 9}\n",
      "{10, 11, 12}\n",
      "{4, 5, 6, 7, 8, 9, 10, 11, 12}\n"
     ]
    }
   ],
   "source": [
    "setA = {1,2,3,4,5,6,7,8,9}\n",
    "setB = {1,2,3,10,11,12}\n",
    "\n",
    "#union\n",
    "u = setA.union(setB)\n",
    "print(u)\n",
    "\n",
    "#intersection\n",
    "i = setA.intersection(setB)\n",
    "print(i)\n",
    "\n",
    "#difference\n",
    "diff = setA.difference(setB) #A not B\n",
    "print(diff)\n",
    "diff = setB.difference(setA) #B not A\n",
    "print(diff)\n",
    "\n",
    "\n",
    "#symmetric difference\n",
    "sym_diff = setA.symmetric_difference(setB) # not (A and B)\n",
    "print(sym_diff)\n"
   ]
  },
  {
   "cell_type": "code",
   "execution_count": 73,
   "id": "c7b471b1",
   "metadata": {},
   "outputs": [
    {
     "name": "stdout",
     "output_type": "stream",
     "text": [
      "{1, 2, 3, 4, 5, 6, 7, 8, 9, 10, 11, 12}\n"
     ]
    }
   ],
   "source": [
    "#update sets\n",
    "\n",
    "#update()\n",
    "setA.update(setB)\n",
    "print(setA)\n",
    "\n"
   ]
  },
  {
   "cell_type": "code",
   "execution_count": 76,
   "id": "ce03fc31",
   "metadata": {},
   "outputs": [
    {
     "name": "stdout",
     "output_type": "stream",
     "text": [
      "{1, 2, 3}\n",
      "{1, 2, 3}\n"
     ]
    }
   ],
   "source": [
    "#intersection_update()\n",
    "setA.intersection_update(setB) # A = A and B\n",
    "print(setA)\n",
    "setB.intersection_update(setA) # B = A and B\n",
    "print(setB)\n"
   ]
  },
  {
   "cell_type": "code",
   "execution_count": 83,
   "id": "8314c80e",
   "metadata": {},
   "outputs": [
    {
     "name": "stdout",
     "output_type": "stream",
     "text": [
      "{4, 5, 6, 7, 8, 9}\n",
      "{1, 2, 3, 10, 11, 12}\n"
     ]
    }
   ],
   "source": [
    "#difference_update\n",
    "setA.difference_update(setB) # A = A not B)\n",
    "print(setA)\n",
    "setB.difference_update(setA) # B = B not A)\n",
    "print(setB)\n"
   ]
  },
  {
   "cell_type": "code",
   "execution_count": 87,
   "id": "2d12699c",
   "metadata": {},
   "outputs": [
    {
     "name": "stdout",
     "output_type": "stream",
     "text": [
      "{4, 5, 6, 7, 8, 9, 10, 11, 12}\n"
     ]
    }
   ],
   "source": [
    "#symmetric_difference_update\n",
    "setA.symmetric_difference_update(setB) # A = not(A and B)\n",
    "print(setA)\n"
   ]
  },
  {
   "cell_type": "markdown",
   "id": "3fb6abe7",
   "metadata": {},
   "source": [
    "Subsets, Supersets and Joint sets:\n",
    "-"
   ]
  },
  {
   "cell_type": "markdown",
   "id": "5410caf8",
   "metadata": {},
   "source": [
    "- **issubset()** return boolean values\n",
    "- **issuperset()** returns true if the fisrt set contain all the elemnts from the second set.\n",
    "- **isdisjoint()** retuns true if the both set have null intersection(ie, no common elements) "
   ]
  },
  {
   "cell_type": "code",
   "execution_count": 88,
   "id": "a8a67dae",
   "metadata": {},
   "outputs": [
    {
     "name": "stdout",
     "output_type": "stream",
     "text": [
      "False\n",
      "False\n",
      "True\n",
      "True\n",
      "True\n"
     ]
    }
   ],
   "source": [
    "setA = {1,2,3,4,5,6}\n",
    "setB = {1,2,3}\n",
    "setC = {7,8,9}\n",
    "\n",
    "#subset\n",
    "print(setA.issubset(setB))\n",
    "print(setA.issubset(setC))\n",
    "print(setB.issubset(setA))\n",
    "\n",
    "#superset\n",
    "print(setA.issuperset(setB))\n",
    "\n",
    "#disjoint set\n",
    "print(setC.isdisjoint(setA))"
   ]
  },
  {
   "cell_type": "code",
   "execution_count": 89,
   "id": "82efc69a",
   "metadata": {},
   "outputs": [
    {
     "name": "stdout",
     "output_type": "stream",
     "text": [
      "{1, 2, 3, 4, 5, 6}\n"
     ]
    }
   ],
   "source": [
    "#copy methods\n",
    "setC = setA.copy()\n",
    "print(setC)"
   ]
  },
  {
   "cell_type": "code",
   "execution_count": 91,
   "id": "8756f8be",
   "metadata": {},
   "outputs": [],
   "source": [
    "setC.add(7)"
   ]
  },
  {
   "cell_type": "code",
   "execution_count": 92,
   "id": "59cd831c",
   "metadata": {},
   "outputs": [
    {
     "name": "stdout",
     "output_type": "stream",
     "text": [
      "{1, 2, 3, 4, 5, 6, 7}\n",
      "{1, 2, 3, 4, 5, 6}\n"
     ]
    }
   ],
   "source": [
    "print(setC)\n",
    "print(setA)"
   ]
  },
  {
   "cell_type": "markdown",
   "id": "e65b1187",
   "metadata": {},
   "source": [
    "**Frozen Set Method:**  \n",
    "- we cannot change it after it's creation\n",
    "- cannot add,update,remove\n",
    "- union,intersection,difference method will work\n"
   ]
  },
  {
   "cell_type": "code",
   "execution_count": 93,
   "id": "b3293fe5",
   "metadata": {},
   "outputs": [],
   "source": [
    "#frozen set\n",
    "a = frozenset([1,2,3,4])"
   ]
  },
  {
   "cell_type": "code",
   "execution_count": 94,
   "id": "03b8d6bc",
   "metadata": {},
   "outputs": [
    {
     "name": "stdout",
     "output_type": "stream",
     "text": [
      "frozenset({1, 2, 3, 4})\n"
     ]
    }
   ],
   "source": [
    "print(a)"
   ]
  },
  {
   "cell_type": "code",
   "execution_count": 95,
   "id": "77b53bf1",
   "metadata": {},
   "outputs": [
    {
     "name": "stdout",
     "output_type": "stream",
     "text": [
      "<class 'frozenset'>\n"
     ]
    }
   ],
   "source": [
    "print(type(a))"
   ]
  },
  {
   "cell_type": "markdown",
   "id": "0d8f8005",
   "metadata": {},
   "source": [
    " \n",
    " "
   ]
  },
  {
   "cell_type": "markdown",
   "id": "b0e91808",
   "metadata": {},
   "source": [
    "## Strings"
   ]
  },
  {
   "cell_type": "code",
   "execution_count": null,
   "id": "bc44aa38",
   "metadata": {},
   "outputs": [],
   "source": []
  }
 ],
 "metadata": {
  "kernelspec": {
   "display_name": "Python 3 (ipykernel)",
   "language": "python",
   "name": "python3"
  },
  "language_info": {
   "codemirror_mode": {
    "name": "ipython",
    "version": 3
   },
   "file_extension": ".py",
   "mimetype": "text/x-python",
   "name": "python",
   "nbconvert_exporter": "python",
   "pygments_lexer": "ipython3",
   "version": "3.8.10"
  }
 },
 "nbformat": 4,
 "nbformat_minor": 5
}
